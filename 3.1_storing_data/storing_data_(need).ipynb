{
 "cells": [
  {
   "attachments": {},
   "cell_type": "markdown",
   "id": "123456",
   "metadata": {},
   "source": [
    "<div style=\"text-align:left;font-size:2em\"><span style=\"font-weight:bolder;font-size:1.25em\">SP2273 | Learning Portfolio</span><br><br><span style=\"font-weight:bold;color:darkred\">Storing Data (Need)</span></div>"
   ]
  },
  {
   "cell_type": "code",
   "execution_count": 45,
   "id": "68286173-bce7-46af-b3b5-39511eab569d",
   "metadata": {},
   "outputs": [],
   "source": [
    "import numpy as np"
   ]
  },
  {
   "cell_type": "markdown",
   "id": "9b782443-bb76-470b-84b0-e54f090bb4f5",
   "metadata": {},
   "source": [
    "# Lists, Arrays & Dictionaries"
   ]
  },
  {
   "cell_type": "markdown",
   "id": "4306196c-d17f-4d6f-ad7d-1fdf169414f0",
   "metadata": {},
   "source": [
    "## Let's compare"
   ]
  },
  {
   "cell_type": "markdown",
   "id": "bd3ad25e-948d-426b-9a61-6ccb2d54b934",
   "metadata": {},
   "source": [
    "##### Why do we need 3 different ways? They offer different features."
   ]
  },
  {
   "cell_type": "markdown",
   "id": "d96cc982-03b8-4cf4-b324-e0e2519c46a6",
   "metadata": {},
   "source": [
    "### Python lists"
   ]
  },
  {
   "cell_type": "code",
   "execution_count": 3,
   "id": "c9884103-d0c4-4ad8-b9f5-af200ab2a853",
   "metadata": {},
   "outputs": [],
   "source": [
    "py_super_names = [\"Black Widow\", \"Iron Man\", \"Doctor Strange\"]\n",
    "py_real_names = [\"Natasah Romanoff\", \"Tony Stark\", \"Stephen Strange\"]"
   ]
  },
  {
   "cell_type": "code",
   "execution_count": 4,
   "id": "43fa89ec-5e8b-4ccf-9988-eb4e5148b055",
   "metadata": {},
   "outputs": [
    {
     "data": {
      "text/plain": [
       "'Natasah Romanoff'"
      ]
     },
     "execution_count": 4,
     "metadata": {},
     "output_type": "execute_result"
    }
   ],
   "source": [
    "py_real_names [0]\n",
    "# Accessing data from the list"
   ]
  },
  {
   "cell_type": "code",
   "execution_count": 6,
   "id": "925bd75a-378a-42b2-964a-427bb501b255",
   "metadata": {},
   "outputs": [
    {
     "data": {
      "text/plain": [
       "'Doctor Strange'"
      ]
     },
     "execution_count": 6,
     "metadata": {},
     "output_type": "execute_result"
    }
   ],
   "source": [
    "py_super_names[-1]\n",
    "# Useful for trying to access last item in a long list"
   ]
  },
  {
   "cell_type": "markdown",
   "id": "3498dbf1-fd1b-4fbc-83d0-0cc0c6476bc5",
   "metadata": {},
   "source": [
    "### Numpy Arrays"
   ]
  },
  {
   "cell_type": "code",
   "execution_count": 46,
   "id": "71d0c838-408f-4b93-956b-4f726f3269f5",
   "metadata": {},
   "outputs": [],
   "source": [
    "np_super_names = np.array([\"Black Widow\", \"Iron Man\", \"Doctor Strange\"])\n",
    "np_real_names = np.array([\"Natasah Romanoff\", \"Tony Stark\", \"Stephen Strange\"])"
   ]
  },
  {
   "cell_type": "code",
   "execution_count": 47,
   "id": "c5932777-f1a9-4899-a588-bb142b683397",
   "metadata": {},
   "outputs": [],
   "source": [
    "py_list = [[1,1], [2, 1], [3, 1], [4, 1], [5, 1]]\n",
    "np_array = np.array(py_list)"
   ]
  },
  {
   "cell_type": "code",
   "execution_count": 48,
   "id": "45f9fcb3-294b-4a5d-b1e6-59ebe83b44bb",
   "metadata": {},
   "outputs": [
    {
     "ename": "TypeError",
     "evalue": "unsupported operand type(s) for +: 'int' and 'list'",
     "output_type": "error",
     "traceback": [
      "\u001b[0;31m---------------------------------------------------------------------------\u001b[0m",
      "\u001b[0;31mTypeError\u001b[0m                                 Traceback (most recent call last)",
      "Cell \u001b[0;32mIn[48], line 1\u001b[0m\n\u001b[0;32m----> 1\u001b[0m \u001b[38;5;28;43msum\u001b[39;49m\u001b[43m(\u001b[49m\u001b[43mpy_list\u001b[49m\u001b[43m)\u001b[49m\n",
      "\u001b[0;31mTypeError\u001b[0m: unsupported operand type(s) for +: 'int' and 'list'"
     ]
    }
   ],
   "source": [
    "sum(py_list)"
   ]
  },
  {
   "cell_type": "code",
   "execution_count": 49,
   "id": "07bf8ced-98e8-4250-b291-9641603cb3c5",
   "metadata": {},
   "outputs": [
    {
     "data": {
      "text/plain": [
       "array([2, 3, 4, 5, 6])"
      ]
     },
     "execution_count": 49,
     "metadata": {},
     "output_type": "execute_result"
    }
   ],
   "source": [
    "np_array.sum(axis=1)"
   ]
  },
  {
   "attachments": {},
   "cell_type": "markdown",
   "id": "74168e95",
   "metadata": {},
   "source": [
    "### Dictionary"
   ]
  },
  {
   "cell_type": "code",
   "execution_count": 10,
   "id": "f864fca3-dd94-47ef-95b4-94be90182285",
   "metadata": {},
   "outputs": [],
   "source": [
    "superhero_info ={\"Natasha Romanoff\": \"Black Widow\", \"Tony Stark\": \"Iron Man\", \"Stephen Strange\": \"Doctor Strange\"}"
   ]
  },
  {
   "cell_type": "code",
   "execution_count": 13,
   "id": "de066a5a-552a-4a38-9ba9-0ce37c087f23",
   "metadata": {},
   "outputs": [
    {
     "data": {
      "text/plain": [
       "'Black Widow'"
      ]
     },
     "execution_count": 13,
     "metadata": {},
     "output_type": "execute_result"
    }
   ],
   "source": [
    "superhero_info[\"Natasha Romanoff\"]\n",
    "# Accessing data from the dictionary"
   ]
  },
  {
   "attachments": {},
   "cell_type": "markdown",
   "id": "886a6390",
   "metadata": {},
   "source": [
    "## Higher dimensional lists"
   ]
  },
  {
   "attachments": {},
   "cell_type": "markdown",
   "id": "59755ce2",
   "metadata": {},
   "source": [
    "# Lists vs. Arrays"
   ]
  },
  {
   "cell_type": "markdown",
   "id": "d4148cbf-a0e3-49b8-9210-aa003ff08eb2",
   "metadata": {},
   "source": [
    "##### Lists allow mix of integers, words while arrays are more strict"
   ]
  },
  {
   "attachments": {},
   "cell_type": "markdown",
   "id": "47f7c22f",
   "metadata": {},
   "source": [
    "## Size"
   ]
  },
  {
   "cell_type": "markdown",
   "id": "f1ab2b85-e970-45da-b055-db89fa542388",
   "metadata": {},
   "source": [
    "##### Shape is an attibute, not function"
   ]
  },
  {
   "cell_type": "code",
   "execution_count": 50,
   "id": "ec389008-d9bf-4ec5-812a-2b5ca67349b1",
   "metadata": {
    "scrolled": true
   },
   "outputs": [],
   "source": [
    "py_list_2d = [[1,\"A\"], [2, \"B\"], [3, \"C\"], [4, \"D\"], [5, \"E\"], [6, \"F\"], [7, \"G\"], [8,\"H\"], [9, \"I\"], [10, \"J\"]]\n",
    "np_array_2d = np.array(py_list_2d)"
   ]
  },
  {
   "attachments": {},
   "cell_type": "markdown",
   "id": "f42d90da",
   "metadata": {},
   "source": [
    "## Arrays are fussy about type"
   ]
  },
  {
   "cell_type": "code",
   "execution_count": null,
   "id": "39493816-3269-4d8a-b1be-e36388834ddf",
   "metadata": {},
   "outputs": [],
   "source": []
  },
  {
   "attachments": {},
   "cell_type": "markdown",
   "id": "d1f8a62c",
   "metadata": {},
   "source": [
    "## Adding a number"
   ]
  },
  {
   "cell_type": "code",
   "execution_count": 28,
   "id": "d4377dcf-55c0-4d10-85b9-6273affc4311",
   "metadata": {},
   "outputs": [],
   "source": [
    "py_list = [1,2,3,4,5]"
   ]
  },
  {
   "cell_type": "code",
   "execution_count": 51,
   "id": "032e29d4-5a3c-4c77-bcde-5e184c6986ce",
   "metadata": {},
   "outputs": [
    {
     "ename": "TypeError",
     "evalue": "can only concatenate list (not \"int\") to list",
     "output_type": "error",
     "traceback": [
      "\u001b[0;31m---------------------------------------------------------------------------\u001b[0m",
      "\u001b[0;31mTypeError\u001b[0m                                 Traceback (most recent call last)",
      "Cell \u001b[0;32mIn[51], line 1\u001b[0m\n\u001b[0;32m----> 1\u001b[0m \u001b[43mpy_list\u001b[49m\u001b[38;5;241;43m+\u001b[39;49m\u001b[38;5;241;43m10\u001b[39;49m\n",
      "\u001b[0;31mTypeError\u001b[0m: can only concatenate list (not \"int\") to list"
     ]
    }
   ],
   "source": [
    "py_list+10"
   ]
  },
  {
   "cell_type": "code",
   "execution_count": 31,
   "id": "a8c71c0e-b970-4883-9483-2957b16d6634",
   "metadata": {},
   "outputs": [
    {
     "data": {
      "text/plain": [
       "[1, 2, 3, 4, 5, 10]"
      ]
     },
     "execution_count": 31,
     "metadata": {},
     "output_type": "execute_result"
    }
   ],
   "source": [
    "py_list+[10]"
   ]
  },
  {
   "attachments": {},
   "cell_type": "markdown",
   "id": "06b55afb",
   "metadata": {},
   "source": [
    "## Adding another list"
   ]
  },
  {
   "attachments": {},
   "cell_type": "markdown",
   "id": "dba4e899",
   "metadata": {},
   "source": [
    "## Multiplying by a Number"
   ]
  },
  {
   "attachments": {},
   "cell_type": "markdown",
   "id": "b93979b6",
   "metadata": {},
   "source": [
    "## Squaring"
   ]
  },
  {
   "attachments": {},
   "cell_type": "markdown",
   "id": "738776b7",
   "metadata": {},
   "source": [
    "## Asking questions"
   ]
  },
  {
   "cell_type": "markdown",
   "id": "d1b1d7a8-1ed9-4da0-8614-b024445cf2f6",
   "metadata": {},
   "source": [
    "## Mathematics"
   ]
  },
  {
   "cell_type": "code",
   "execution_count": 34,
   "id": "11c90982-dbed-4cfe-a16d-11157381d8f6",
   "metadata": {},
   "outputs": [],
   "source": [
    "py_list = [1,2,3,4,5]"
   ]
  },
  {
   "cell_type": "code",
   "execution_count": 35,
   "id": "ff19ee2f-e6f6-4009-b748-78937c28bff7",
   "metadata": {},
   "outputs": [
    {
     "data": {
      "text/plain": [
       "1"
      ]
     },
     "execution_count": 35,
     "metadata": {},
     "output_type": "execute_result"
    }
   ],
   "source": [
    "sum(py_list)\n",
    "max(py_list)\n",
    "min(py_list)\n",
    "\n",
    "# Jupyter will only run the code in the last line"
   ]
  },
  {
   "cell_type": "code",
   "execution_count": 41,
   "id": "c5f22d7c-a600-420c-8271-d20305959889",
   "metadata": {},
   "outputs": [
    {
     "name": "stdout",
     "output_type": "stream",
     "text": [
      "15\n",
      "5\n",
      "1\n"
     ]
    }
   ],
   "source": [
    "print(sum(py_list))\n",
    "print(max(py_list))\n",
    "print(min(py_list))\n",
    "\n",
    "# Runs all lines "
   ]
  }
 ],
 "metadata": {
  "kernelspec": {
   "display_name": "Python 3 (ipykernel)",
   "language": "python",
   "name": "python3"
  },
  "language_info": {
   "codemirror_mode": {
    "name": "ipython",
    "version": 3
   },
   "file_extension": ".py",
   "mimetype": "text/x-python",
   "name": "python",
   "nbconvert_exporter": "python",
   "pygments_lexer": "ipython3",
   "version": "3.12.2"
  },
  "toc": {
   "base_numbering": 1,
   "nav_menu": {},
   "number_sections": true,
   "sideBar": true,
   "skip_h1_title": false,
   "title_cell": "Table of Contents",
   "title_sidebar": "Contents",
   "toc_cell": false,
   "toc_position": {},
   "toc_section_display": true,
   "toc_window_display": false
  },
  "vscode": {
   "interpreter": {
    "hash": "31f2aee4e71d21fbe5cf8b01ff0e069b9275f58929596ceb00d14d90e3e16cd6"
   }
  }
 },
 "nbformat": 4,
 "nbformat_minor": 5
}
