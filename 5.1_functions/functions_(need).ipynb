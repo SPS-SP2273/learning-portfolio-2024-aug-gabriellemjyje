{
 "cells": [
  {
   "attachments": {},
   "cell_type": "markdown",
   "id": "123456",
   "metadata": {},
   "source": [
    "<div style=\"text-align:left;font-size:2em\"><span style=\"font-weight:bolder;font-size:1.25em\">SP2273 | Learning Portfolio</span><br><br><span style=\"font-weight:bold;color:darkred\">Functions (Need)</span></div>"
   ]
  },
  {
   "cell_type": "code",
   "execution_count": 10,
   "id": "84b4c1b0-b99d-4284-a7b9-67f0a0cbad5d",
   "metadata": {},
   "outputs": [],
   "source": [
    "x=sum([1, 3])"
   ]
  },
  {
   "cell_type": "code",
   "execution_count": 15,
   "id": "c0f5b030-489e-475d-aa11-7102a0b8d6d4",
   "metadata": {},
   "outputs": [],
   "source": [
    "y=sum([1,2])"
   ]
  },
  {
   "cell_type": "code",
   "execution_count": 11,
   "id": "a0e7f544-545e-4d55-8894-f7c892af5362",
   "metadata": {},
   "outputs": [
    {
     "name": "stdout",
     "output_type": "stream",
     "text": [
      "x=4,y=3\n"
     ]
    }
   ],
   "source": [
    "print(f'{x=},{y=}')"
   ]
  },
  {
   "cell_type": "code",
   "execution_count": 12,
   "id": "b3f9109e-1b44-425b-9627-8cdbacbf9b70",
   "metadata": {},
   "outputs": [
    {
     "name": "stdout",
     "output_type": "stream",
     "text": [
      "hahaha\n"
     ]
    }
   ],
   "source": [
    "x=print('hahaha')"
   ]
  },
  {
   "cell_type": "code",
   "execution_count": 17,
   "id": "e0242853-584d-4c9a-b55f-3d2016d54969",
   "metadata": {},
   "outputs": [
    {
     "name": "stdout",
     "output_type": "stream",
     "text": [
      "x=None,y=3\n"
     ]
    }
   ],
   "source": [
    "print(f'{x=},{y=}')\n",
    "\n",
    "# Why?"
   ]
  },
  {
   "attachments": {},
   "cell_type": "markdown",
   "id": "243a4650",
   "metadata": {},
   "source": [
    "# User-defined functions"
   ]
  },
  {
   "attachments": {},
   "cell_type": "markdown",
   "id": "e8dc8783",
   "metadata": {},
   "source": [
    "## Named Functions"
   ]
  },
  {
   "attachments": {},
   "cell_type": "markdown",
   "id": "a295601e",
   "metadata": {},
   "source": [
    "### Named functions that return"
   ]
  },
  {
   "cell_type": "code",
   "execution_count": 20,
   "id": "0c76c844",
   "metadata": {},
   "outputs": [],
   "source": [
    "def greeting(name, sidekick):\n",
    "    if name == 'Batman':\n",
    "        return 'Hello Batman! So, nice to meet you!'\n",
    "    else:\n",
    "        return f'Hello {name}!'"
   ]
  },
  {
   "cell_type": "code",
   "execution_count": 22,
   "id": "80ebeb2e-596a-48d5-8d26-4ca200f8f3a4",
   "metadata": {},
   "outputs": [
    {
     "data": {
      "text/plain": [
       "'Hello Joker!'"
      ]
     },
     "execution_count": 22,
     "metadata": {},
     "output_type": "execute_result"
    }
   ],
   "source": [
    "greeting('Joker', 'Robin')\n",
    "\n",
    "# Works because based on position, name == 'Joker', sidekick = 'Robin'"
   ]
  },
  {
   "cell_type": "code",
   "execution_count": 24,
   "id": "7a12e8cb-5fe0-41c5-8f34-ea27f3191eae",
   "metadata": {},
   "outputs": [
    {
     "data": {
      "text/plain": [
       "'Hello Robin!'"
      ]
     },
     "execution_count": 24,
     "metadata": {},
     "output_type": "execute_result"
    }
   ],
   "source": [
    "greeting('Robin', 'Joker')\n",
    "\n",
    "# Works because based on position, name == 'Robin', sidekick = 'Joker'"
   ]
  },
  {
   "cell_type": "code",
   "execution_count": 64,
   "id": "32cc26a9-6b17-40ec-a887-ec010da53733",
   "metadata": {},
   "outputs": [],
   "source": [
    "import numpy as np"
   ]
  },
  {
   "cell_type": "code",
   "execution_count": 65,
   "id": "7633a3ad-e256-4424-a1e9-3ae49a19d694",
   "metadata": {},
   "outputs": [],
   "source": [
    "def basic_stats(numbers):\n",
    "    np_numbers = np.array(numbers)\n",
    "    my_min = np_numbers.min()\n",
    "    my_max = np_numbers.max()\n",
    "    my_mean = np_numbers.mean()\n",
    "    return my_min, my_max, my_mean # Error in website, min and max are swapped"
   ]
  },
  {
   "cell_type": "code",
   "execution_count": 67,
   "id": "213fcbd1-80df-439c-bcd9-e17b4286c75c",
   "metadata": {},
   "outputs": [
    {
     "name": "stdout",
     "output_type": "stream",
     "text": [
      "1\n"
     ]
    }
   ],
   "source": [
    "list_min, list_max, list_mean = basic_stats([1, 2, 3, 4, 5])\n",
    "\n",
    "print(list_min)"
   ]
  },
  {
   "attachments": {},
   "cell_type": "markdown",
   "id": "4ae15f20",
   "metadata": {},
   "source": [
    "### Named functions that don’t return"
   ]
  },
  {
   "attachments": {},
   "cell_type": "markdown",
   "id": "85286c10",
   "metadata": {},
   "source": [
    "## Anonymous functions"
   ]
  },
  {
   "cell_type": "code",
   "execution_count": 51,
   "id": "da3ec57d",
   "metadata": {},
   "outputs": [],
   "source": [
    "numbers=[[9, 0, -10],\n",
    "         [8, 1, -11],\n",
    "         [7, 2, -12],\n",
    "         [6, 3, -13],\n",
    "         [5, 4, -14],\n",
    "         [4, 5, -15],\n",
    "         [3, 6, -16],\n",
    "         [2, 7, -17],\n",
    "         [1, 8, -18],\n",
    "         [0, 9, -19]]\n",
    "\n",
    "# Alternative way (ref to dr chammika's github repository)\n",
    "def my_sort_function(numbers):\n",
    "    return -sum(numbers)"
   ]
  },
  {
   "cell_type": "code",
   "execution_count": 49,
   "id": "0393ab53-1228-42b2-9a6e-db3f203a4fbb",
   "metadata": {},
   "outputs": [
    {
     "data": {
      "text/plain": [
       "[[0, 9, -19],\n",
       " [1, 8, -18],\n",
       " [2, 7, -17],\n",
       " [3, 6, -16],\n",
       " [4, 5, -15],\n",
       " [5, 4, -14],\n",
       " [6, 3, -13],\n",
       " [7, 2, -12],\n",
       " [8, 1, -11],\n",
       " [9, 0, -10]]"
      ]
     },
     "execution_count": 49,
     "metadata": {},
     "output_type": "execute_result"
    }
   ],
   "source": [
    "sorted(numbers)\n",
    "\n",
    "# Sort by comparing first element"
   ]
  },
  {
   "cell_type": "code",
   "execution_count": 54,
   "id": "07ae8d10-50b4-45f3-8456-d3030e1d51db",
   "metadata": {},
   "outputs": [
    {
     "data": {
      "text/plain": [
       "[[9, 0, -10],\n",
       " [8, 1, -11],\n",
       " [7, 2, -12],\n",
       " [6, 3, -13],\n",
       " [5, 4, -14],\n",
       " [4, 5, -15],\n",
       " [3, 6, -16],\n",
       " [2, 7, -17],\n",
       " [1, 8, -18],\n",
       " [0, 9, -19]]"
      ]
     },
     "execution_count": 54,
     "metadata": {},
     "output_type": "execute_result"
    }
   ],
   "source": [
    "sorted(numbers, key=lambda x: x[1])\n",
    "\n",
    "# Sort by comparing second element. Index of second element = 1"
   ]
  },
  {
   "attachments": {},
   "cell_type": "markdown",
   "id": "1a6acae1",
   "metadata": {},
   "source": [
    "## Optional arguments"
   ]
  },
  {
   "cell_type": "code",
   "execution_count": 55,
   "id": "15ed891d-66f4-4484-a45c-2eff415a643e",
   "metadata": {},
   "outputs": [],
   "source": [
    "def greeting(name='no one', pre='Super'):\n",
    "    if name == 'Batman':\n",
    "        return 'Hello Batman! So, nice to meet you!'\n",
    "    else:\n",
    "        return f'Hello --{pre}--{name}!'"
   ]
  },
  {
   "cell_type": "code",
   "execution_count": 58,
   "id": "0e1f444d-d77c-404a-ae22-74db5ba1fc98",
   "metadata": {},
   "outputs": [
    {
     "data": {
      "text/plain": [
       "'Hello --Super--Robin!'"
      ]
     },
     "execution_count": 58,
     "metadata": {},
     "output_type": "execute_result"
    }
   ],
   "source": [
    "greeting('Robin')\n",
    "\n",
    "# pre is default, 'Super'"
   ]
  },
  {
   "cell_type": "code",
   "execution_count": 62,
   "id": "a12d0fdb-f4f8-4c09-a976-a3e79ba1facd",
   "metadata": {},
   "outputs": [
    {
     "data": {
      "text/plain": [
       "'Hello --hello--Robin!'"
      ]
     },
     "execution_count": 62,
     "metadata": {},
     "output_type": "execute_result"
    }
   ],
   "source": [
    "greeting('Robin', pre='hello')\n",
    "\n",
    "# Specifying an optional argument"
   ]
  },
  {
   "attachments": {},
   "cell_type": "markdown",
   "id": "f3c51743",
   "metadata": {},
   "source": [
    "## The importance of functions?"
   ]
  },
  {
   "attachments": {},
   "cell_type": "markdown",
   "id": "fd686ec1",
   "metadata": {},
   "source": [
    "### An argument for functions"
   ]
  },
  {
   "cell_type": "code",
   "execution_count": null,
   "id": "43401882",
   "metadata": {},
   "outputs": [],
   "source": [
    "\n",
    "# Your code here\n"
   ]
  },
  {
   "attachments": {},
   "cell_type": "markdown",
   "id": "c40466cd",
   "metadata": {},
   "source": [
    "### A word of caution"
   ]
  },
  {
   "cell_type": "code",
   "execution_count": null,
   "id": "9726b3a3",
   "metadata": {},
   "outputs": [],
   "source": [
    "\n",
    "# Your code here\n"
   ]
  }
 ],
 "metadata": {
  "kernelspec": {
   "display_name": "Python 3 (ipykernel)",
   "language": "python",
   "name": "python3"
  },
  "language_info": {
   "codemirror_mode": {
    "name": "ipython",
    "version": 3
   },
   "file_extension": ".py",
   "mimetype": "text/x-python",
   "name": "python",
   "nbconvert_exporter": "python",
   "pygments_lexer": "ipython3",
   "version": "3.12.2"
  },
  "toc": {
   "base_numbering": 1,
   "nav_menu": {},
   "number_sections": true,
   "sideBar": true,
   "skip_h1_title": false,
   "title_cell": "Table of Contents",
   "title_sidebar": "Contents",
   "toc_cell": false,
   "toc_position": {},
   "toc_section_display": true,
   "toc_window_display": false
  },
  "vscode": {
   "interpreter": {
    "hash": "31f2aee4e71d21fbe5cf8b01ff0e069b9275f58929596ceb00d14d90e3e16cd6"
   }
  }
 },
 "nbformat": 4,
 "nbformat_minor": 5
}
