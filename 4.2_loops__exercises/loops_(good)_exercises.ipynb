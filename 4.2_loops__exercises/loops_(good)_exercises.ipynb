{
 "cells": [
  {
   "attachments": {},
   "cell_type": "markdown",
   "id": "123456",
   "metadata": {},
   "source": [
    "<div style=\"text-align:left;font-size:2em\"><span style=\"font-weight:bolder;font-size:1.25em\">SP2273 | Learning Portfolio</span><br><br><span style=\"font-weight:bold;color:darkred\">Loops (Good) Exercises</span></div>"
   ]
  },
  {
   "cell_type": "markdown",
   "id": "4e46cf17-cd15-4d16-813f-95fc112df4b2",
   "metadata": {},
   "source": [
    "# Exercise 1 (Generating a list of squared odd integers; for, range(), continue)"
   ]
  },
  {
   "cell_type": "code",
   "execution_count": 73,
   "id": "cc5d905e-180a-45fb-a975-0b791a853158",
   "metadata": {},
   "outputs": [
    {
     "name": "stdout",
     "output_type": "stream",
     "text": [
      "[1, 9, 25, 49, 81]\n"
     ]
    }
   ],
   "source": [
    "squares_1 = list()\n",
    "for number in range(0, 10):\n",
    "    if number%2 == 1:\n",
    "        squares_1.append(number**2)\n",
    "        continue\n",
    "print(squares_1)"
   ]
  },
  {
   "cell_type": "markdown",
   "id": "205b9d41-86ae-404d-bc71-edb9bf08435d",
   "metadata": {},
   "source": [
    "# Exercise 2 (Generating a list of squared odd integers; list comprehension)"
   ]
  },
  {
   "cell_type": "code",
   "execution_count": 28,
   "id": "86282b5c-4b0e-4a9c-b6ec-82620ad9f220",
   "metadata": {},
   "outputs": [
    {
     "name": "stdout",
     "output_type": "stream",
     "text": [
      "[1, 9, 25, 49, 81]\n"
     ]
    }
   ],
   "source": [
    "squares_2 = [number**2 for number in range(10) if number%2==1]\n",
    "print(squares_2)"
   ]
  },
  {
   "cell_type": "markdown",
   "id": "ae96efce-d3f1-45ba-b128-4928fa8081ba",
   "metadata": {},
   "source": [
    "# Exercise 3 (Timeit)"
   ]
  },
  {
   "cell_type": "markdown",
   "id": "e591c321-ad32-47ae-90f1-d797254747fa",
   "metadata": {},
   "source": [
    "## for, range(), continue"
   ]
  },
  {
   "cell_type": "code",
   "execution_count": 59,
   "id": "df1930e8-2755-43ce-8cfd-da03ba1e78cc",
   "metadata": {},
   "outputs": [
    {
     "name": "stdout",
     "output_type": "stream",
     "text": [
      "19.6 ns ± 0.205 ns per loop (mean ± std. dev. of 7 runs, 10,000,000 loops each)\n"
     ]
    }
   ],
   "source": [
    "%timeit squares_1"
   ]
  },
  {
   "cell_type": "markdown",
   "id": "fefbe075-df6f-40a8-b74e-85f2f3a01598",
   "metadata": {},
   "source": [
    "## List comprehension"
   ]
  },
  {
   "cell_type": "code",
   "execution_count": 60,
   "id": "70972f6d-6eba-48ae-94b0-a5eaa0553211",
   "metadata": {},
   "outputs": [
    {
     "name": "stdout",
     "output_type": "stream",
     "text": [
      "20.3 ns ± 0.355 ns per loop (mean ± std. dev. of 7 runs, 10,000,000 loops each)\n"
     ]
    }
   ],
   "source": [
    "%timeit squares_2"
   ]
  },
  {
   "cell_type": "markdown",
   "id": "5fa37e40-1044-4a62-aeeb-c427f5a21300",
   "metadata": {},
   "source": [
    "Using the for loop with range() and continue is faster."
   ]
  },
  {
   "cell_type": "markdown",
   "id": "38b8dabc-9954-4e47-9072-0febc09b550d",
   "metadata": {},
   "source": [
    "## Comparison"
   ]
  },
  {
   "cell_type": "markdown",
   "id": "0f0fa314-bbbf-44e5-abfd-8a641a804403",
   "metadata": {},
   "source": [
    "# Exercise 4 (Decay)"
   ]
  },
  {
   "cell_type": "markdown",
   "id": "660b3d0d-8808-4a09-9f78-1a35c6bdc670",
   "metadata": {},
   "source": [
    "# Exercise 5 (Changes in CO<sub>2</sub>)"
   ]
  },
  {
   "cell_type": "code",
   "execution_count": null,
   "id": "dde7f0d1-2d94-4f2f-925a-f157ec7294d8",
   "metadata": {},
   "outputs": [],
   "source": []
  }
 ],
 "metadata": {
  "kernelspec": {
   "display_name": "Python 3 (ipykernel)",
   "language": "python",
   "name": "python3"
  },
  "language_info": {
   "codemirror_mode": {
    "name": "ipython",
    "version": 3
   },
   "file_extension": ".py",
   "mimetype": "text/x-python",
   "name": "python",
   "nbconvert_exporter": "python",
   "pygments_lexer": "ipython3",
   "version": "3.12.2"
  },
  "toc": {
   "base_numbering": 1,
   "nav_menu": {},
   "number_sections": true,
   "sideBar": true,
   "skip_h1_title": false,
   "title_cell": "Table of Contents",
   "title_sidebar": "Contents",
   "toc_cell": false,
   "toc_position": {},
   "toc_section_display": true,
   "toc_window_display": false
  },
  "vscode": {
   "interpreter": {
    "hash": "31f2aee4e71d21fbe5cf8b01ff0e069b9275f58929596ceb00d14d90e3e16cd6"
   }
  }
 },
 "nbformat": 4,
 "nbformat_minor": 5
}
