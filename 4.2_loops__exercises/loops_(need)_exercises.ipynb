{
 "cells": [
  {
   "attachments": {},
   "cell_type": "markdown",
   "id": "123456",
   "metadata": {},
   "source": [
    "<div style=\"text-align:left;font-size:2em\"><span style=\"font-weight:bolder;font-size:1.25em\">SP2273 | Learning Portfolio</span><br><br><span style=\"font-weight:bold;color:darkred\">Loops (Need) Exercises</span></div>"
   ]
  },
  {
   "cell_type": "markdown",
   "id": "761ee751-3047-455a-926d-6a36202dc0de",
   "metadata": {},
   "source": [
    "# Exercise 1 (Celsius to Fahrenheit)"
   ]
  },
  {
   "cell_type": "code",
   "execution_count": 7,
   "id": "2b6ab7b2-09ef-49fd-8665-54f124539947",
   "metadata": {},
   "outputs": [],
   "source": [
    "temperatures_celsius = [0, 5, 10, 15, 20, 25, 30, 35, 40, 45, 50]"
   ]
  },
  {
   "cell_type": "markdown",
   "id": "ddaab37c-1f20-4f78-948f-ea63db9a75d7",
   "metadata": {},
   "source": [
    "**Formula for conversion**:\n",
    "°C = (°F - 32) × 5/9"
   ]
  },
  {
   "cell_type": "code",
   "execution_count": 2,
   "id": "fc011692-c9a0-401e-9d10-9526fedfc805",
   "metadata": {},
   "outputs": [],
   "source": [
    "import numpy as np"
   ]
  },
  {
   "cell_type": "code",
   "execution_count": 3,
   "id": "0acc5aff-012b-470b-974a-087f37fd1c51",
   "metadata": {},
   "outputs": [
    {
     "data": {
      "text/plain": [
       "array([32.        , 34.77777778, 37.55555556, 40.33333333, 43.11111111,\n",
       "       45.88888889, 48.66666667, 51.44444444, 54.22222222, 57.        ,\n",
       "       59.77777778])"
      ]
     },
     "execution_count": 3,
     "metadata": {},
     "output_type": "execute_result"
    }
   ],
   "source": [
    "py_list_celsius = [0, 5, 10, 15, 20, 25, 30, 35, 40, 45, 50]\n",
    "np_array_celsius = np.array(py_list_celsius)\n",
    "np_array_celsius*5/9+32"
   ]
  },
  {
   "cell_type": "code",
   "execution_count": 5,
   "id": "b4eb3a99-0ed0-4bf7-88c2-fb4726b3c113",
   "metadata": {},
   "outputs": [],
   "source": [
    "temperatures_fahrenheit = [32.        , 34.77777778, 37.55555556, 40.33333333, 43.11111111, 45.88888889, 48.66666667, 51.44444444, 54.22222222, 57.        ,59.77777778]"
   ]
  },
  {
   "cell_type": "code",
   "execution_count": 8,
   "id": "09c797e9-2caa-434b-ae16-f3b640ead141",
   "metadata": {},
   "outputs": [
    {
     "name": "stdout",
     "output_type": "stream",
     "text": [
      "0, 32.0\n",
      "5, 34.77777778\n",
      "10, 37.55555556\n",
      "15, 40.33333333\n",
      "20, 43.11111111\n",
      "25, 45.88888889\n",
      "30, 48.66666667\n",
      "35, 51.44444444\n",
      "40, 54.22222222\n",
      "45, 57.0\n",
      "50, 59.77777778\n"
     ]
    }
   ],
   "source": [
    "for i in range(len(temperatures_celsius)):\n",
    "    temperature_celsius = temperatures_celsius[i]\n",
    "    temperature_fahrenheit = temperatures_fahrenheit[i]\n",
    "    print(f\"{temperature_celsius}, {temperature_fahrenheit}\")"
   ]
  },
  {
   "cell_type": "markdown",
   "id": "5dffebc6-95b1-4dc4-9e28-d7b3386935b3",
   "metadata": {},
   "source": [
    "# Exercise 2 (Multiplication table)"
   ]
  },
  {
   "cell_type": "markdown",
   "id": "0c42879c-f7d1-4d75-b92a-4fe2bcd885dc",
   "metadata": {},
   "source": [
    "## Example"
   ]
  },
  {
   "cell_type": "code",
   "execution_count": 2,
   "id": "386aeb8a-745a-4598-ab43-74372108e0a4",
   "metadata": {},
   "outputs": [
    {
     "name": "stdout",
     "output_type": "stream",
     "text": [
      "A1\tA2\tA3\t\n",
      "\n",
      "B1\tB2\tB3\t\n",
      "\n",
      "C1\tC2\tC3\t\n",
      "\n"
     ]
    }
   ],
   "source": [
    "for letter in ['A', 'B', 'C']:\n",
    "    for number in [1, 2, 3]:\n",
    "        print(f'{letter}{number}', end='\\t')\n",
    "    print('\\n')"
   ]
  },
  {
   "cell_type": "markdown",
   "id": "c461c948-d347-4767-a27d-da6db8ea701a",
   "metadata": {},
   "source": [
    "## Task"
   ]
  },
  {
   "cell_type": "code",
   "execution_count": 39,
   "id": "8b8f896b-36f1-4603-8f68-470b2a01e5a5",
   "metadata": {},
   "outputs": [
    {
     "name": "stdout",
     "output_type": "stream",
     "text": [
      "1   :\t1\t2\t3\t4\t5\t\n",
      "\n",
      "2   :\t2\t4\t6\t8\t10\t\n",
      "\n",
      "3   :\t3\t6\t9\t12\t15\t\n",
      "\n",
      "4   :\t4\t8\t12\t16\t20\t\n",
      "\n",
      "5   :\t5\t10\t15\t20\t25\t\n",
      "\n"
     ]
    }
   ],
   "source": [
    "for count, number in enumerate(range(1, 6),1):\n",
    "    print(f'{count}   :', end='\\t')\n",
    "    for multiplier in range(1, 6):\n",
    "        product = number*multiplier\n",
    "        print(f'{product}', end='\\t')\n",
    "    print('\\n')"
   ]
  },
  {
   "cell_type": "markdown",
   "id": "518d2bbc-c6ab-47bf-a2a9-ca898f53512f",
   "metadata": {},
   "source": [
    "# Exercise 3 (Simulating a coin flip experiment)"
   ]
  },
  {
   "cell_type": "markdown",
   "id": "8a4099ee-63f3-4c07-9cf1-e38aed2e7095",
   "metadata": {},
   "source": [
    "## Example"
   ]
  },
  {
   "cell_type": "code",
   "execution_count": 45,
   "id": "67163d24-519f-4d35-b56c-9d3a2621b914",
   "metadata": {},
   "outputs": [],
   "source": [
    "import numpy as np"
   ]
  },
  {
   "cell_type": "code",
   "execution_count": 6,
   "id": "06a5bcb7-cdf8-4b34-904f-7babdda01165",
   "metadata": {},
   "outputs": [
    {
     "data": {
      "text/plain": [
       "array([0.17385887, 0.85606111, 0.27254554, 0.98637981, 0.53690468,\n",
       "       0.21084396, 0.04664409, 0.38740998, 0.41652355, 0.32394614])"
      ]
     },
     "execution_count": 6,
     "metadata": {},
     "output_type": "execute_result"
    }
   ],
   "source": [
    "np.random.rand(10)"
   ]
  },
  {
   "cell_type": "markdown",
   "id": "c6c6a79e-aa2a-4b5f-881f-5147a9811c42",
   "metadata": {},
   "source": [
    "## Task"
   ]
  },
  {
   "cell_type": "code",
   "execution_count": 80,
   "id": "f4e5e577-df86-4540-8dca-52c002b81431",
   "metadata": {},
   "outputs": [
    {
     "name": "stdout",
     "output_type": "stream",
     "text": [
      "Experiment 1:\tNo. of Heads = 3\t\n",
      "\n",
      "Experiment 2:\tNo. of Heads = 5\t\n",
      "\n",
      "Experiment 3:\tNo. of Heads = 5\t\n",
      "\n",
      "Experiment 4:\tNo. of Heads = 5\t\n",
      "\n",
      "Experiment 5:\tNo. of Heads = 4\t\n",
      "\n",
      "Experiment 6:\tNo. of Heads = 9\t\n",
      "\n",
      "Experiment 7:\tNo. of Heads = 4\t\n",
      "\n",
      "Experiment 8:\tNo. of Heads = 5\t\n",
      "\n",
      "Experiment 9:\tNo. of Heads = 6\t\n",
      "\n",
      "Experiment 10:\tNo. of Heads = 7\t\n",
      "\n"
     ]
    }
   ],
   "source": [
    "for count, number in enumerate(range(1, 11), 1):\n",
    "    print(f'Experiment {count}:', end='\\t')\n",
    "    np_array_random = np.random.rand(10)\n",
    "    my_mask = np_array_random > 0.5\n",
    "    number = sum(my_mask)\n",
    "    print(f'No. of Heads = {number}', end='\\t')\n",
    "    print('\\n')"
   ]
  }
 ],
 "metadata": {
  "kernelspec": {
   "display_name": "Python 3 (ipykernel)",
   "language": "python",
   "name": "python3"
  },
  "language_info": {
   "codemirror_mode": {
    "name": "ipython",
    "version": 3
   },
   "file_extension": ".py",
   "mimetype": "text/x-python",
   "name": "python",
   "nbconvert_exporter": "python",
   "pygments_lexer": "ipython3",
   "version": "3.12.2"
  },
  "toc": {
   "base_numbering": 1,
   "nav_menu": {},
   "number_sections": true,
   "sideBar": true,
   "skip_h1_title": false,
   "title_cell": "Table of Contents",
   "title_sidebar": "Contents",
   "toc_cell": false,
   "toc_position": {},
   "toc_section_display": true,
   "toc_window_display": false
  },
  "vscode": {
   "interpreter": {
    "hash": "31f2aee4e71d21fbe5cf8b01ff0e069b9275f58929596ceb00d14d90e3e16cd6"
   }
  }
 },
 "nbformat": 4,
 "nbformat_minor": 5
}
