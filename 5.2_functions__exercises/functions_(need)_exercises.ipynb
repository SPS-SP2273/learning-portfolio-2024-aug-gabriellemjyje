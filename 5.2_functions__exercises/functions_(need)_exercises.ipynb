{
 "cells": [
  {
   "attachments": {},
   "cell_type": "markdown",
   "id": "123456",
   "metadata": {},
   "source": [
    "<div style=\"text-align:left;font-size:2em\"><span style=\"font-weight:bolder;font-size:1.25em\">SP2273 | Learning Portfolio</span><br><br><span style=\"font-weight:bold;color:darkred\">Functions (Need) Exercises</span></div>"
   ]
  },
  {
   "cell_type": "markdown",
   "id": "372b8f4e-73f0-4351-a906-d9b896d25604",
   "metadata": {},
   "source": [
    "# Exercise 1 (Explain why the code works despite not having an else statement)"
   ]
  },
  {
   "cell_type": "code",
   "execution_count": 19,
   "id": "9d0d794d-19e9-4f6e-a990-4e011ce83b14",
   "metadata": {},
   "outputs": [],
   "source": [
    "def greeting(name):\n",
    "    if name == 'Batman':\n",
    "        return 'Hello Batman! So, nice to meet you!'\n",
    "    return f'Hello {name}!'"
   ]
  },
  {
   "cell_type": "markdown",
   "id": "0b930df2-44de-44e8-a064-50f0f5af2a4f",
   "metadata": {},
   "source": [
    "If name == 'Batman' is not true, the function will automatically skip the \"if\" statement and return with the alternative statement. An \"else\" is not needed as the 2 outcomes are clear, which is name == 'Batman' being true and name == 'Batman' being not true."
   ]
  },
  {
   "cell_type": "markdown",
   "id": "ddffd796-787a-4755-9218-5871a82ff0a3",
   "metadata": {},
   "source": [
    "# Exercise 2 (Calculate and classify BMI)"
   ]
  },
  {
   "cell_type": "markdown",
   "id": "46fad4d2-efa8-482f-b254-2c4211870c6c",
   "metadata": {},
   "source": [
    "|Category|BMI Range|\n",
    "|:---|:---|\n",
    "|Underweight|Less than 18.5|\n",
    "|Normal weight|Between 18.5 and 24.9|\n",
    "|Overweight|Between 25 and 29.9|\n",
    "|Obese|30 or more|"
   ]
  },
  {
   "cell_type": "code",
   "execution_count": 30,
   "id": "7dd06ecb-97d1-4cf6-b21e-52257584a8e3",
   "metadata": {},
   "outputs": [
    {
     "name": "stdout",
     "output_type": "stream",
     "text": [
      "Your BMI category is: Normal weight\n"
     ]
    }
   ],
   "source": [
    "def calculate_bmi(weight_kg, height_m):\n",
    "    bmi = weight_kg / (height_m ** 2)\n",
    "    if bmi < 18.5:\n",
    "        return \"Underweight\"\n",
    "    elif 18.5 <= bmi < 25:\n",
    "        return \"Normal weight\"\n",
    "    elif 25 <= bmi < 30:\n",
    "       return \"Overweight\"\n",
    "    elif bmi >= 30:\n",
    "        return \"Obese\"\n",
    "    else:\n",
    "        return \"Invalid input\"\n",
    "\n",
    "print(f\"Your BMI category is: {calculate_bmi(53, 1.61)}\")"
   ]
  },
  {
   "cell_type": "markdown",
   "id": "fe5c28be-2e24-4a6a-86f3-f9b6e96dccc0",
   "metadata": {},
   "source": [
    "# Exercise 3 (Factorials)"
   ]
  },
  {
   "cell_type": "code",
   "execution_count": 28,
   "id": "e3cb6cc9-090e-4a86-86a2-6fa1c73bb5f6",
   "metadata": {},
   "outputs": [
    {
     "name": "stdout",
     "output_type": "stream",
     "text": [
      "120\n",
      "Invalid input\n"
     ]
    }
   ],
   "source": [
    "def factorial(n):\n",
    "    if n < 0:\n",
    "        return \"Invalid input\"\n",
    "    elif n == 0:\n",
    "        return 1\n",
    "    else:\n",
    "        result = 1\n",
    "        for number in range(1,n+1):\n",
    "            result *= number\n",
    "        return result\n",
    "\n",
    "print(factorial(5))   # Testing\n",
    "print(factorial(-1))  # Testing negative numbers"
   ]
  }
 ],
 "metadata": {
  "kernelspec": {
   "display_name": "Python 3 (ipykernel)",
   "language": "python",
   "name": "python3"
  },
  "language_info": {
   "codemirror_mode": {
    "name": "ipython",
    "version": 3
   },
   "file_extension": ".py",
   "mimetype": "text/x-python",
   "name": "python",
   "nbconvert_exporter": "python",
   "pygments_lexer": "ipython3",
   "version": "3.12.2"
  },
  "toc": {
   "base_numbering": 1,
   "nav_menu": {},
   "number_sections": true,
   "sideBar": true,
   "skip_h1_title": false,
   "title_cell": "Table of Contents",
   "title_sidebar": "Contents",
   "toc_cell": false,
   "toc_position": {},
   "toc_section_display": true,
   "toc_window_display": false
  },
  "vscode": {
   "interpreter": {
    "hash": "31f2aee4e71d21fbe5cf8b01ff0e069b9275f58929596ceb00d14d90e3e16cd6"
   }
  }
 },
 "nbformat": 4,
 "nbformat_minor": 5
}
