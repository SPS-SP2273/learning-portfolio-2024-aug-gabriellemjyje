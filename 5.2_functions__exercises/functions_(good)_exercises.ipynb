{
 "cells": [
  {
   "attachments": {},
   "cell_type": "markdown",
   "id": "123456",
   "metadata": {},
   "source": [
    "<div style=\"text-align:left;font-size:2em\"><span style=\"font-weight:bolder;font-size:1.25em\">SP2273 | Learning Portfolio</span><br><br><span style=\"font-weight:bold;color:darkred\">Functions (Good) Exercises</span></div>"
   ]
  },
  {
   "cell_type": "markdown",
   "id": "844dad71-f95c-468c-8d87-ba25faa793fa",
   "metadata": {},
   "source": [
    "# Exercise 1 (Celsius to Fahrenheit or Kelvin)"
   ]
  },
  {
   "cell_type": "markdown",
   "id": "7b097318-6d1a-41e8-a54a-0d15ab3add87",
   "metadata": {},
   "source": [
    "**Formulas for conversion:**"
   ]
  },
  {
   "cell_type": "markdown",
   "id": "a8f88cfb-85f2-4c9a-9685-f47117ca6dc3",
   "metadata": {},
   "source": [
    "°F = °C x 9/5 + 32"
   ]
  },
  {
   "cell_type": "markdown",
   "id": "166487f3-fe8a-49f9-a99a-e29cdcd5e980",
   "metadata": {},
   "source": [
    "K = °C + 273.15"
   ]
  },
  {
   "cell_type": "code",
   "execution_count": 25,
   "id": "c60d34b6-fbae-454c-9885-705b0298cb0e",
   "metadata": {},
   "outputs": [
    {
     "name": "stdout",
     "output_type": "stream",
     "text": [
      "86.0\n",
      "303.15\n"
     ]
    }
   ],
   "source": [
    "def convert_celsius(temperature_celsius, target_scale = 'Fahrenheit'):\n",
    "    if target_scale == 'Kelvin':\n",
    "        temperature_kelvin = temperature_celsius + 273.15\n",
    "        return temperature_kelvin\n",
    "    else:\n",
    "        temperature_fahrenheit = temperature_celsius * 9/5 + 32\n",
    "        return temperature_fahrenheit\n",
    "\n",
    "# Testing\n",
    "print(convert_celsius(30))\n",
    "print(convert_celsius(30, 'Kelvin')) "
   ]
  },
  {
   "cell_type": "markdown",
   "id": "5c838d9b-b81b-4524-8492-de1cc4f0ddff",
   "metadata": {},
   "source": [
    "# Exercise 2 (Fahrenheit to Celsius or Kelvin)"
   ]
  },
  {
   "cell_type": "markdown",
   "id": "0d4c866a-8ca7-4247-b56d-b40b4db3d29e",
   "metadata": {},
   "source": [
    "**Formulas for conversion:**"
   ]
  },
  {
   "cell_type": "markdown",
   "id": "46f507ff-edb5-4a1f-abaa-696d89c2ce67",
   "metadata": {},
   "source": [
    "°C = (°F - 32) x 5/9"
   ]
  },
  {
   "cell_type": "markdown",
   "id": "4b726d1a-4795-40f7-bd1e-975ffb195b4c",
   "metadata": {},
   "source": [
    "K = (°F - 32) x 5/9 + 273.15"
   ]
  },
  {
   "cell_type": "code",
   "execution_count": 16,
   "id": "9c3a13ff-89de-4c5e-af74-4712716cdcdc",
   "metadata": {},
   "outputs": [
    {
     "name": "stdout",
     "output_type": "stream",
     "text": [
      "-1.1111111111111112\n",
      "272.0388888888889\n"
     ]
    }
   ],
   "source": [
    "def convert_fahrenheit(temperature_fahrenheit, target_scale = 'Celsius'):\n",
    "    if target_scale == 'Kelvin':\n",
    "        temperature_kelvin = (temperature_fahrenheit -32) * 5/9 + 273.15\n",
    "        return temperature_kelvin\n",
    "    else:\n",
    "        temperature_celsius = (temperature_fahrenheit - 32) * 5/9\n",
    "        return temperature_celsius\n",
    "\n",
    "# Testing\n",
    "print(convert_fahrenheit(30))\n",
    "print(convert_fahrenheit(30, 'Kelvin')) "
   ]
  },
  {
   "cell_type": "markdown",
   "id": "d37b47bc-6952-4232-851a-e41e5b9240f4",
   "metadata": {},
   "source": [
    "# Exercise 3 (General Temperature Conversion)"
   ]
  },
  {
   "cell_type": "markdown",
   "id": "543021c3-2add-4379-8eaa-ecbc5b104528",
   "metadata": {},
   "source": [
    "**Formulas for conversion:**"
   ]
  },
  {
   "cell_type": "code",
   "execution_count": null,
   "id": "cec829f4-5338-44dc-88c1-e67ca801f316",
   "metadata": {},
   "outputs": [],
   "source": [
    "°C = K - 273.15"
   ]
  },
  {
   "cell_type": "code",
   "execution_count": null,
   "id": "3007deec-d974-42aa-a1d5-46250680978d",
   "metadata": {},
   "outputs": [],
   "source": [
    "°F = (K - 273.15) x 9/5 + 32"
   ]
  },
  {
   "cell_type": "markdown",
   "id": "2014ddf7-8bbf-42be-8acc-fa113685a379",
   "metadata": {},
   "source": [
    "## Convert Kelvin to Celsius or Fahrenheit"
   ]
  },
  {
   "cell_type": "code",
   "execution_count": 27,
   "id": "12e35cff-9d47-4a30-8a28-175f91b0dca4",
   "metadata": {},
   "outputs": [
    {
     "name": "stdout",
     "output_type": "stream",
     "text": [
      "-243.14999999999998\n",
      "-405.66999999999996\n"
     ]
    }
   ],
   "source": [
    "def convert_kelvin(temperature_kelvin, target_scale = 'Celsius'):\n",
    "    if target_scale == 'Fahrenheit':\n",
    "        temperature_fahrenheit = (temperature_kelvin - 273.15) * 9/5 + 32\n",
    "        return temperature_fahrenheit\n",
    "    else:\n",
    "        temperature_celsius = temperature_kelvin - 273.15\n",
    "        return temperature_celsius\n",
    "\n",
    "# Testing\n",
    "print(convert_kelvin(30))\n",
    "print(convert_kelvin(30, 'Fahrenheit')) "
   ]
  },
  {
   "cell_type": "code",
   "execution_count": 46,
   "id": "6be79460-2c3a-4ccb-a74a-b52cffe28066",
   "metadata": {},
   "outputs": [
    {
     "name": "stdout",
     "output_type": "stream",
     "text": [
      "303.15\n",
      "86.0\n",
      "-1.1111111111111112\n",
      "272.0388888888889\n",
      "-243.14999999999998\n",
      "-405.66999999999996\n"
     ]
    }
   ],
   "source": [
    "def convert_temperature(temperature, source_scale, target_scale):\n",
    "    if source_scale == 'Celsius':\n",
    "        return convert_celsius(temperature, target_scale)\n",
    "    elif source_scale == 'Fahrenheit':\n",
    "        return convert_fahrenheit(temperature, target_scale)\n",
    "    elif source_scale == 'Kelvin':\n",
    "        return convert_kelvin(temperature, target_scale)\n",
    "    else:\n",
    "        return \"Invalid input\"\n",
    "\n",
    "# Testing\n",
    "print(convert_temperature(30,'Celsius','Kelvin'))\n",
    "print(convert_temperature(30,'Celsius','Fahrenheit'))\n",
    "print(convert_temperature(30,'Fahrenheit','Celsius'))\n",
    "print(convert_temperature(30,'Fahrenheit','Kelvin'))\n",
    "print(convert_temperature(30,'Kelvin','Celsius'))\n",
    "print(convert_temperature(30,'Kelvin','Fahrenheit'))"
   ]
  }
 ],
 "metadata": {
  "kernelspec": {
   "display_name": "Python 3 (ipykernel)",
   "language": "python",
   "name": "python3"
  },
  "language_info": {
   "codemirror_mode": {
    "name": "ipython",
    "version": 3
   },
   "file_extension": ".py",
   "mimetype": "text/x-python",
   "name": "python",
   "nbconvert_exporter": "python",
   "pygments_lexer": "ipython3",
   "version": "3.12.2"
  },
  "toc": {
   "base_numbering": 1,
   "nav_menu": {},
   "number_sections": true,
   "sideBar": true,
   "skip_h1_title": false,
   "title_cell": "Table of Contents",
   "title_sidebar": "Contents",
   "toc_cell": false,
   "toc_position": {},
   "toc_section_display": true,
   "toc_window_display": false
  },
  "vscode": {
   "interpreter": {
    "hash": "31f2aee4e71d21fbe5cf8b01ff0e069b9275f58929596ceb00d14d90e3e16cd6"
   }
  }
 },
 "nbformat": 4,
 "nbformat_minor": 5
}
