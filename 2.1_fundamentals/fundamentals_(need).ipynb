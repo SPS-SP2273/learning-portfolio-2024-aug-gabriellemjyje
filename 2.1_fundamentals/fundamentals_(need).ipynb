{
 "cells": [
  {
   "attachments": {},
   "cell_type": "markdown",
   "id": "3fe0440e",
   "metadata": {},
   "source": [
    "# 1 Functions"
   ]
  },
  {
   "attachments": {},
   "cell_type": "markdown",
   "id": "d6991d34",
   "metadata": {},
   "source": [
    "# 2 Python is interpreted"
   ]
  },
  {
   "attachments": {},
   "cell_type": "markdown",
   "id": "feb99b14",
   "metadata": {},
   "source": [
    "# 3 Python is sensitive."
   ]
  },
  {
   "attachments": {},
   "cell_type": "markdown",
   "id": "2cc80e0f",
   "metadata": {},
   "source": [
    "# 4 Comments"
   ]
  },
  {
   "cell_type": "code",
   "execution_count": 3,
   "id": "80d064c5-fda1-4811-ab00-c3adf1f3dec8",
   "metadata": {},
   "outputs": [
    {
     "name": "stdout",
     "output_type": "stream",
     "text": [
      "0.0\n",
      "4.999200127979523e-06\n",
      "9.998400255959046e-06\n",
      "1.499760038393857e-05\n",
      "1.9996800511918092e-05\n",
      "2.4996000639897616e-05\n",
      "2.999520076787714e-05\n",
      "3.499440089585666e-05\n",
      "3.9993601023836184e-05\n",
      "4.499280115181571e-05\n"
     ]
    }
   ],
   "source": [
    "# 200032 is a conversion factor\n",
    "for age_in_thousands_of_years in range(10):\n",
    "    print(age_in_thousands_of_years/200032)"
   ]
  },
  {
   "attachments": {},
   "cell_type": "markdown",
   "id": "473a21b0",
   "metadata": {},
   "source": [
    "# 5 = is not the same as =="
   ]
  },
  {
   "cell_type": "code",
   "execution_count": 8,
   "id": "c861f71d-c2d5-4a1c-8025-c2f6a29a9ec8",
   "metadata": {},
   "outputs": [],
   "source": [
    "name = 'butterfly' # Make name carry 'butterfly'"
   ]
  },
  {
   "cell_type": "markdown",
   "id": "3c75565e-6fb1-4ce6-a79c-bd6f47a58e7c",
   "metadata": {},
   "source": [
    "name=='butterfly'"
   ]
  },
  {
   "attachments": {},
   "cell_type": "markdown",
   "id": "9bbecb67",
   "metadata": {},
   "source": [
    "# 6 Use if to make decisions"
   ]
  },
  {
   "attachments": {},
   "cell_type": "markdown",
   "id": "5f252191",
   "metadata": {},
   "source": [
    "# 7 Indentations (spaces) are sooo IMPORTANT!"
   ]
  },
  {
   "cell_type": "code",
   "execution_count": 10,
   "id": "84942c36-5682-4531-b161-670b90d80725",
   "metadata": {},
   "outputs": [
    {
     "name": "stdout",
     "output_type": "stream",
     "text": [
      "10\n"
     ]
    }
   ],
   "source": [
    "x = 10\n",
    "print(x)"
   ]
  },
  {
   "cell_type": "code",
   "execution_count": 9,
   "id": "2fda3f97-fa7a-41c8-95ac-041ae960c80c",
   "metadata": {},
   "outputs": [
    {
     "ename": "IndentationError",
     "evalue": "unexpected indent (1537435392.py, line 2)",
     "output_type": "error",
     "traceback": [
      "\u001b[0;36m  Cell \u001b[0;32mIn[9], line 2\u001b[0;36m\u001b[0m\n\u001b[0;31m    print(x)\u001b[0m\n\u001b[0m    ^\u001b[0m\n\u001b[0;31mIndentationError\u001b[0m\u001b[0;31m:\u001b[0m unexpected indent\n"
     ]
    }
   ],
   "source": [
    "x = 10\n",
    " print(x)"
   ]
  },
  {
   "attachments": {},
   "cell_type": "markdown",
   "id": "f4282dca",
   "metadata": {},
   "source": [
    "# 8 ‘butterfly’ is English, butterfly is a variable."
   ]
  },
  {
   "cell_type": "code",
   "execution_count": null,
   "id": "28776f0e-5c67-40ae-b54f-15fac09bb082",
   "metadata": {},
   "outputs": [],
   "source": [
    "print('butterfly')\n",
    "# This works because in this case, butterfly is an English word"
   ]
  },
  {
   "cell_type": "code",
   "execution_count": 28,
   "id": "64e9b71e-4e76-4893-ae1a-f1cf32f5a014",
   "metadata": {},
   "outputs": [
    {
     "ename": "NameError",
     "evalue": "name 'butterfly' is not defined",
     "output_type": "error",
     "traceback": [
      "\u001b[0;31m---------------------------------------------------------------------------\u001b[0m",
      "\u001b[0;31mNameError\u001b[0m                                 Traceback (most recent call last)",
      "Cell \u001b[0;32mIn[28], line 1\u001b[0m\n\u001b[0;32m----> 1\u001b[0m \u001b[38;5;28mprint\u001b[39m(\u001b[43mbutterfly\u001b[49m)\n\u001b[1;32m      2\u001b[0m \u001b[38;5;66;03m# This does not work because butterfly is now a variable and is not defined\u001b[39;00m\n",
      "\u001b[0;31mNameError\u001b[0m: name 'butterfly' is not defined"
     ]
    }
   ],
   "source": [
    "print(butterfly)\n",
    "# This does not work because butterfly is now a variable and is not defined"
   ]
  },
  {
   "cell_type": "code",
   "execution_count": 30,
   "id": "cc769f27-72e7-419c-b238-06e809da81fc",
   "metadata": {},
   "outputs": [
    {
     "name": "stdout",
     "output_type": "stream",
     "text": [
      "10\n"
     ]
    }
   ],
   "source": [
    "butterfly=10\n",
    "print(butterfly)\n",
    "# This works because the variable \"butterfly\" is now defined as \"10\""
   ]
  },
  {
   "attachments": {},
   "cell_type": "markdown",
   "id": "ab7302c7",
   "metadata": {},
   "source": [
    "# 9 Brackets"
   ]
  },
  {
   "attachments": {},
   "cell_type": "markdown",
   "id": "332d2c5c",
   "metadata": {},
   "source": [
    "# 10 Giving Python superpowers with Packages"
   ]
  },
  {
   "attachments": {},
   "cell_type": "markdown",
   "id": "f0203c36",
   "metadata": {},
   "source": [
    "## 10.1 Some Context"
   ]
  },
  {
   "attachments": {},
   "cell_type": "markdown",
   "id": "f96c87c3",
   "metadata": {},
   "source": [
    "## 10.2 Importing the math package"
   ]
  },
  {
   "attachments": {},
   "cell_type": "markdown",
   "id": "8c20540d",
   "metadata": {},
   "source": [
    "## 10.3 Importing the numpy package"
   ]
  },
  {
   "attachments": {},
   "cell_type": "markdown",
   "id": "4bad18d6",
   "metadata": {},
   "source": [
    "## 10.4 Why so many packages?"
   ]
  },
  {
   "attachments": {},
   "cell_type": "markdown",
   "id": "34c6bfa3",
   "metadata": {},
   "source": [
    "# 11 The dot (.)"
   ]
  },
  {
   "cell_type": "code",
   "execution_count": null,
   "id": "154224b6-5e9a-4c98-a64e-b58ace8f04c0",
   "metadata": {},
   "outputs": [],
   "source": []
  },
  {
   "cell_type": "code",
   "execution_count": null,
   "id": "4706f0fe-db2d-4315-aea1-340d5c289d0c",
   "metadata": {},
   "outputs": [],
   "source": []
  },
  {
   "cell_type": "code",
   "execution_count": null,
   "id": "2e8a1d5c-3e3d-4e69-8323-ce21da58ce92",
   "metadata": {},
   "outputs": [],
   "source": []
  },
  {
   "cell_type": "code",
   "execution_count": null,
   "id": "3b9d1fae-ab00-4c20-bcfa-1db7779def78",
   "metadata": {},
   "outputs": [],
   "source": []
  },
  {
   "attachments": {},
   "cell_type": "markdown",
   "id": "20a33c37",
   "metadata": {},
   "source": [
    "## Footnotes"
   ]
  }
 ],
 "metadata": {
  "kernelspec": {
   "display_name": "Python 3 (ipykernel)",
   "language": "python",
   "name": "python3"
  },
  "language_info": {
   "codemirror_mode": {
    "name": "ipython",
    "version": 3
   },
   "file_extension": ".py",
   "mimetype": "text/x-python",
   "name": "python",
   "nbconvert_exporter": "python",
   "pygments_lexer": "ipython3",
   "version": "3.12.4"
  },
  "toc": {
   "base_numbering": 1,
   "nav_menu": {},
   "number_sections": true,
   "sideBar": true,
   "skip_h1_title": false,
   "title_cell": "Table of Contents",
   "title_sidebar": "Contents",
   "toc_cell": false,
   "toc_position": {},
   "toc_section_display": true,
   "toc_window_display": false
  },
  "vscode": {
   "interpreter": {
    "hash": "31f2aee4e71d21fbe5cf8b01ff0e069b9275f58929596ceb00d14d90e3e16cd6"
   }
  }
 },
 "nbformat": 4,
 "nbformat_minor": 5
}
