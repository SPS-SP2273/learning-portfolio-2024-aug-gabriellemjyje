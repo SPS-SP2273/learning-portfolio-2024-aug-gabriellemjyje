{
 "cells": [
  {
   "attachments": {},
   "cell_type": "markdown",
   "id": "123456",
   "metadata": {},
   "source": [
    "<div style=\"text-align:left;font-size:2em\"><span style=\"font-weight:bolder;font-size:1.25em\">SP2273 | Learning Portfolio</span><br><br><span style=\"font-weight:bold;color:darkred\">Fundamentals (Good)</span></div>"
   ]
  },
  {
   "attachments": {},
   "cell_type": "markdown",
   "id": "21499ad8",
   "metadata": {},
   "source": [
    "# What to expect in this chapter"
   ]
  },
  {
   "cell_type": "code",
   "execution_count": null,
   "id": "61c6ec0e-e90f-4e90-aaf8-f3e80d4840bc",
   "metadata": {},
   "outputs": [],
   "source": []
  },
  {
   "attachments": {},
   "cell_type": "markdown",
   "id": "b0d02da6",
   "metadata": {
    "jp-MarkdownHeadingCollapsed": true
   },
   "source": [
    "# There is more to if"
   ]
  },
  {
   "attachments": {},
   "cell_type": "markdown",
   "id": "b64e396f",
   "metadata": {},
   "source": [
    "# Asking questions"
   ]
  },
  {
   "cell_type": "code",
   "execution_count": 1,
   "id": "25b6fce5-2eaf-4812-9f02-41e8f807aa14",
   "metadata": {},
   "outputs": [],
   "source": [
    "fruits = ['apple','banana','pineapple']\n",
    "vegetables = ['celery','spinach','broccoli']"
   ]
  },
  {
   "cell_type": "markdown",
   "id": "034c7cab-9276-4a12-8135-c881420cf640",
   "metadata": {},
   "source": [
    "### Example 1"
   ]
  },
  {
   "cell_type": "code",
   "execution_count": 5,
   "id": "7189b36d-267b-4ff0-a2e2-1e3d3113731d",
   "metadata": {},
   "outputs": [
    {
     "data": {
      "text/plain": [
       "True"
      ]
     },
     "execution_count": 5,
     "metadata": {},
     "output_type": "execute_result"
    }
   ],
   "source": [
    "# Is 'apple' in the list 'fruits'?\n",
    "'apple' in fruits"
   ]
  },
  {
   "cell_type": "markdown",
   "id": "f04f64c9-3fa8-49fc-8217-2f9a9e55ac03",
   "metadata": {},
   "source": [
    "### Example 2"
   ]
  },
  {
   "cell_type": "code",
   "execution_count": 4,
   "id": "d9e7b1b5-3e78-496d-a9cb-c5db962f414a",
   "metadata": {},
   "outputs": [
    {
     "data": {
      "text/plain": [
       "False"
      ]
     },
     "execution_count": 4,
     "metadata": {},
     "output_type": "execute_result"
    }
   ],
   "source": [
    "'peach' in fruits"
   ]
  },
  {
   "cell_type": "markdown",
   "id": "2c30b077-83b6-41d8-b7d5-89772e634888",
   "metadata": {},
   "source": [
    "### Example 3"
   ]
  },
  {
   "cell_type": "code",
   "execution_count": 10,
   "id": "d3555892-7da1-463f-aecf-962ca16ded97",
   "metadata": {},
   "outputs": [
    {
     "data": {
      "text/plain": [
       "True"
      ]
     },
     "execution_count": 10,
     "metadata": {},
     "output_type": "execute_result"
    }
   ],
   "source": [
    "'banana' in fruits and 'celery' in vegetables"
   ]
  },
  {
   "cell_type": "markdown",
   "id": "a5d90f60-7f75-4636-b778-c7cc20db4510",
   "metadata": {},
   "source": [
    "### Example 4"
   ]
  },
  {
   "cell_type": "code",
   "execution_count": 8,
   "id": "98c28b9f-3deb-43a7-b1c7-af5fc48afce5",
   "metadata": {},
   "outputs": [
    {
     "data": {
      "text/plain": [
       "True"
      ]
     },
     "execution_count": 8,
     "metadata": {},
     "output_type": "execute_result"
    }
   ],
   "source": [
    "'apple' in fruits or 'kangkong' in vegetables"
   ]
  },
  {
   "cell_type": "markdown",
   "id": "9c6a06a0-49b4-4669-b16f-777b0706efd3",
   "metadata": {},
   "source": [
    "### Example 5"
   ]
  },
  {
   "cell_type": "code",
   "execution_count": 6,
   "id": "785cf502-92eb-42b5-b044-ecf8c43fa5c0",
   "metadata": {},
   "outputs": [
    {
     "data": {
      "text/plain": [
       "True"
      ]
     },
     "execution_count": 6,
     "metadata": {},
     "output_type": "execute_result"
    }
   ],
   "source": [
    "'apples' > 'Apples'\n",
    "# 'a' is assigned a larger value than 'A' in the system"
   ]
  },
  {
   "attachments": {},
   "cell_type": "markdown",
   "id": "ce139fd0",
   "metadata": {},
   "source": [
    "## Asking Math questions"
   ]
  },
  {
   "attachments": {},
   "cell_type": "markdown",
   "id": "431dc73a",
   "metadata": {},
   "source": [
    "# Python stores information in different formats or types"
   ]
  },
  {
   "cell_type": "code",
   "execution_count": 11,
   "id": "ec5a74f4-98ff-42ab-b785-c56efffd9f16",
   "metadata": {},
   "outputs": [
    {
     "data": {
      "text/plain": [
       "'1.2341.2341.2341.2341.234'"
      ]
     },
     "execution_count": 11,
     "metadata": {},
     "output_type": "execute_result"
    }
   ],
   "source": [
    "'1.234'*5"
   ]
  },
  {
   "cell_type": "code",
   "execution_count": null,
   "id": "2f6228b0-46db-41c4-afaa-65d6a51aa2db",
   "metadata": {},
   "outputs": [],
   "source": []
  },
  {
   "attachments": {},
   "cell_type": "markdown",
   "id": "1595af55",
   "metadata": {},
   "source": [
    "# Never compare floats directly"
   ]
  },
  {
   "cell_type": "markdown",
   "id": "6910d087-bb20-4b96-9d75-4d08c82dba8e",
   "metadata": {},
   "source": [
    "## The Problem"
   ]
  },
  {
   "cell_type": "code",
   "execution_count": 13,
   "id": "16f08cc2-21f1-4571-adac-6dcb310552a5",
   "metadata": {},
   "outputs": [
    {
     "data": {
      "text/plain": [
       "0.30000000000000004"
      ]
     },
     "execution_count": 13,
     "metadata": {},
     "output_type": "execute_result"
    }
   ],
   "source": [
    "a * 3"
   ]
  },
  {
   "cell_type": "code",
   "execution_count": 14,
   "id": "bc902846-f82e-4e0e-9d59-451e29f2660a",
   "metadata": {},
   "outputs": [
    {
     "data": {
      "text/plain": [
       "False"
      ]
     },
     "execution_count": 14,
     "metadata": {},
     "output_type": "execute_result"
    }
   ],
   "source": [
    "a = 0.1\n",
    "a3 = 0.3\n",
    "a * 3 == a3\n",
    "\n",
    "# False because 0.1 x 0.3 is truncated and not 0.3"
   ]
  },
  {
   "attachments": {},
   "cell_type": "markdown",
   "id": "546c277b",
   "metadata": {},
   "source": [
    "## A solution"
   ]
  },
  {
   "cell_type": "code",
   "execution_count": 18,
   "id": "dbc8792c-b794-424f-b4a5-624f52671038",
   "metadata": {},
   "outputs": [
    {
     "data": {
      "text/plain": [
       "True"
      ]
     },
     "execution_count": 18,
     "metadata": {},
     "output_type": "execute_result"
    }
   ],
   "source": [
    "eps = 1E-10\n",
    "abs(a * 3 - a3) < eps"
   ]
  },
  {
   "cell_type": "code",
   "execution_count": null,
   "id": "34ee6221-7594-4e5d-b4a2-e274c7611529",
   "metadata": {},
   "outputs": [],
   "source": [
    "import numpy as np"
   ]
  },
  {
   "attachments": {},
   "cell_type": "markdown",
   "id": "452055fb",
   "metadata": {},
   "source": [
    "# Combining English and variables"
   ]
  },
  {
   "cell_type": "code",
   "execution_count": 5,
   "id": "8704fb32-cb0d-4fb6-960b-010cc779ab01",
   "metadata": {},
   "outputs": [
    {
     "name": "stdout",
     "output_type": "stream",
     "text": [
      "The cube of pi to 6 decimal places is 31.006277\n"
     ]
    }
   ],
   "source": [
    "print(f'The cube of pi to 6 decimal places is {np.pi**3:.6f}')"
   ]
  },
  {
   "attachments": {},
   "cell_type": "markdown",
   "id": "1f1f1df8",
   "metadata": {},
   "source": [
    "## Structure of f-strings"
   ]
  },
  {
   "cell_type": "markdown",
   "id": "4b074f8f-a3e0-4b76-968e-55427d7fb23f",
   "metadata": {},
   "source": [
    "# Escape Sequences"
   ]
  },
  {
   "attachments": {},
   "cell_type": "markdown",
   "id": "f63182ec",
   "metadata": {
    "jp-MarkdownHeadingCollapsed": true
   },
   "source": [
    "## Self-documenting f-strings"
   ]
  },
  {
   "attachments": {},
   "cell_type": "markdown",
   "id": "33ca052f",
   "metadata": {
    "jp-MarkdownHeadingCollapsed": true
   },
   "source": [
    "# Computers read = from Right to Left!"
   ]
  },
  {
   "attachments": {},
   "cell_type": "markdown",
   "id": "c397b0b1",
   "metadata": {},
   "source": [
    "# Shorter and Cleaner Code"
   ]
  },
  {
   "attachments": {},
   "cell_type": "markdown",
   "id": "04024581",
   "metadata": {},
   "source": [
    "# Python can be a prima-donna."
   ]
  },
  {
   "attachments": {},
   "cell_type": "markdown",
   "id": "36dd957d",
   "metadata": {},
   "source": [
    "# Best Practices for Scientific Computing"
   ]
  },
  {
   "attachments": {},
   "cell_type": "markdown",
   "id": "58d968f9",
   "metadata": {},
   "source": [
    "# Looking for help"
   ]
  }
 ],
 "metadata": {
  "kernelspec": {
   "display_name": "Python 3 (ipykernel)",
   "language": "python",
   "name": "python3"
  },
  "language_info": {
   "codemirror_mode": {
    "name": "ipython",
    "version": 3
   },
   "file_extension": ".py",
   "mimetype": "text/x-python",
   "name": "python",
   "nbconvert_exporter": "python",
   "pygments_lexer": "ipython3",
   "version": "3.12.2"
  },
  "toc": {
   "base_numbering": 1,
   "nav_menu": {},
   "number_sections": true,
   "sideBar": true,
   "skip_h1_title": false,
   "title_cell": "Table of Contents",
   "title_sidebar": "Contents",
   "toc_cell": false,
   "toc_position": {},
   "toc_section_display": true,
   "toc_window_display": false
  },
  "vscode": {
   "interpreter": {
    "hash": "31f2aee4e71d21fbe5cf8b01ff0e069b9275f58929596ceb00d14d90e3e16cd6"
   }
  }
 },
 "nbformat": 4,
 "nbformat_minor": 5
}
