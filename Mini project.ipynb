{
 "cells": [
  {
   "cell_type": "code",
   "execution_count": 10,
   "id": "a66f4074-31a9-485f-86d1-8746010ce40f",
   "metadata": {},
   "outputs": [
    {
     "name": "stdin",
     "output_type": "stream",
     "text": [
      "Please type your DNA sequence: AAAAAGACNNTGAAAAANNNNT\n"
     ]
    },
    {
     "name": "stdout",
     "output_type": "stream",
     "text": [
      "Amino Acid Sequence: KKK\n"
     ]
    }
   ],
   "source": [
    "codon_chart = {'AUG': 'M', 'UAA': 'STOP', 'UAG': 'STOP', 'UGA': 'STOP', \n",
    "               'UUU': 'F', 'UUC': 'F', 'UUA': 'L', 'UUG': 'L',\n",
    "               'UCU': 'S', 'UCC': 'S', 'UCA': 'S', 'UCG': 'S',\n",
    "              'UAU': 'Y', 'UAC': 'Y', 'UGU': 'C', 'UGC': 'C', 'UGG': 'W',\n",
    "              'CUU': 'L', 'CUC': 'L', 'CUA': 'L', 'CUG': 'L',\n",
    "              'CCU': 'P', 'CCC': 'P', 'CCA': 'P', 'CCG': 'P',\n",
    "              'CAU': 'H', 'CAC': 'H', 'CAA': 'Q', 'CAG': 'Q',\n",
    "              'CGU': 'R', 'CGC': 'R', 'CGA': 'R', 'CGG': 'R',\n",
    "              'AUU': 'I', 'AUC': 'I', 'AUA': 'I',\n",
    "              'ACU': 'T', 'ACC': 'T', 'ACA': 'T', 'ACG': 'T',\n",
    "              'AAU': 'N', 'AAC': 'N', 'AAA': 'K', 'AAG': 'K',\n",
    "              'AGU': 'S', 'AGC': 'S', 'AGA': 'R', 'AGG': 'R',\n",
    "              'GUU': 'V', 'GUC': 'V', 'GUA': 'V', 'GUG': 'V',\n",
    "              'GCU': 'A', 'GCC': 'A', 'GCA': 'A', 'GCG': 'A',\n",
    "              'GAU': 'D', 'GAC': 'D', 'GAA': 'E', 'GAG': 'E',\n",
    "              'GGU': 'G', 'GGC': 'G', 'GGA': 'G', 'GGG': 'G'}\n",
    "\n",
    "dna_seq = input('Please type your DNA sequence:')\n",
    "def dnaseq_aminoacidseq(dna_seq):\n",
    "    rna_seq = dna_seq.replace('T', 'U') # Convert to mRNA seq\n",
    "    amino_acids = []\n",
    "    for i in range(0, len(rna_seq), 3): # Range from 1st to last index, in steps of 3 (bc every 3 nucleotides is 1 codon)\n",
    "        codon = rna_seq[i:i+3]\n",
    "        if codon in codon_chart:\n",
    "            amino_acid = codon_chart[codon]\n",
    "            if amino_acid == 'STOP':\n",
    "                break\n",
    "            amino_acids.append(amino_acid)\n",
    "    amino_acids_string = ''.join([str(element) for element in amino_acids]) # Converting to string\n",
    "    return amino_acids_string\n",
    "\n",
    "amino_acid_seq = dnaseq_aminoacidseq(dna_seq)\n",
    "print(f\"Amino Acid Sequence: {amino_acid_seq}\")\n",
    "\n",
    "# Can use .transcribe() and .translate()"
   ]
  },
  {
   "cell_type": "code",
   "execution_count": 14,
   "id": "43053ea0-5529-47cb-b6fd-11cbbac3f472",
   "metadata": {},
   "outputs": [
    {
     "name": "stdout",
     "output_type": "stream",
     "text": [
      "Query : Query_1413305 Length: 591 Strand: Plus\n",
      "        unnamed protein product\n",
      "Target: pdb|1A35|A Length: 591 Strand: Plus\n",
      "        Chain A, PROTEIN (DNA TOPOISOMERASE I) [Homo sapiens] >pdb|1A36|A Chain\n",
      "        A, TOPOISOMERASE I [Homo sapiens]\n",
      "\n",
      "Score:1216 bits(3145), Expect:0,\n",
      "Identities:590/591(100%),  Positives:591/591(100%),  Gaps:0.591(0%)\n",
      "\n",
      "pdb|1A35|         0 KPKNKDKDKKVPEPDNKKKKPKKEEEQKWKWWEEERYPEGIKWKFLEHKGPVFAPPYEPL\n",
      "                  0 ||||||||||||||||||||||||||||||||||||||||||||||||||||||||||||\n",
      "Query_141         0 KPKNKDKDKKVPEPDNKKKKPKKEEEQKWKWWEEERYPEGIKWKFLEHKGPVFAPPYEPL\n",
      "\n",
      "pdb|1A35|        60 PENVKFYYDGKVMKLSPKAEEVATFFAKMLDHEYTTKEIFRKNFFKDWRKEMTNEEKNII\n",
      "                 60 ||||||||||||||||||||||||||||||||||||||||||||||||||||||||||||\n",
      "Query_141        60 PENVKFYYDGKVMKLSPKAEEVATFFAKMLDHEYTTKEIFRKNFFKDWRKEMTNEEKNII\n",
      "\n",
      "pdb|1A35|       120 TNLSKCDFTQMSQYFKAQTEARKQMSKEEKLKIKEENEKLLKEYGFCIMDNHKERIANFK\n",
      "                120 ||||||||||||||||||||||||||||||||||||||||||||||||||||||||||||\n",
      "Query_141       120 TNLSKCDFTQMSQYFKAQTEARKQMSKEEKLKIKEENEKLLKEYGFCIMDNHKERIANFK\n",
      "\n",
      "pdb|1A35|       180 IEPPGLFRGRGNHPKMGMLKRRIMPEDIIINCSKDAKVPSPPPGHKWKEVRHDNKVTWLV\n",
      "                180 ||||||||||||||||||||||||||||||||||||||||||||||||||||||||||||\n",
      "Query_141       180 IEPPGLFRGRGNHPKMGMLKRRIMPEDIIINCSKDAKVPSPPPGHKWKEVRHDNKVTWLV\n",
      "\n",
      "pdb|1A35|       240 SWTENIQGSIKYIMLNPSSRIKGEKDWQKYETARRLKKCVDKIRNQYREDWKSKEMKVRQ\n",
      "                240 ||||||||||||||||||||||||||||||||||||||||||||||||||||||||||||\n",
      "Query_141       240 SWTENIQGSIKYIMLNPSSRIKGEKDWQKYETARRLKKCVDKIRNQYREDWKSKEMKVRQ\n",
      "\n",
      "pdb|1A35|       300 RAVALYFIDKLALRAGNEKEEGETADTVGCCSLRVEHINLHPELDGQEYVVEFDFLGKDS\n",
      "                300 ||||||||||||||||||||||||||||||||||||||||||||||||||||||||||||\n",
      "Query_141       300 RAVALYFIDKLALRAGNEKEEGETADTVGCCSLRVEHINLHPELDGQEYVVEFDFLGKDS\n",
      "\n",
      "pdb|1A35|       360 IRYYNKVPVEKRVFKNLQLFMENKQPEDDLFDRLNTGILNKHLQDLMEGLTAKVFRTYNA\n",
      "                360 ||||||||||||||||||||||||||||||||||||||||||||||||||||||||||||\n",
      "Query_141       360 IRYYNKVPVEKRVFKNLQLFMENKQPEDDLFDRLNTGILNKHLQDLMEGLTAKVFRTYNA\n",
      "\n",
      "pdb|1A35|       420 SITLQQQLKELTAPDENIPAKILSYNRANRAVAILCNHQRAPPKTFEKSMMNLQTKIDAK\n",
      "                420 ||||||||||||||||||||||||||||||||||||||||||||||||||||||||||||\n",
      "Query_141       420 SITLQQQLKELTAPDENIPAKILSYNRANRAVAILCNHQRAPPKTFEKSMMNLQTKIDAK\n",
      "\n",
      "pdb|1A35|       480 KEQLADARRDLKSAKADAKVMKDAKTKKVVESKKKAVQRLEEQLMKLEVQATDREENKQI\n",
      "                480 ||||||||||||||||||||||||||||||||||||||||||||||||||||||||||||\n",
      "Query_141       480 KEQLADARRDLKSAKADAKVMKDAKTKKVVESKKKAVQRLEEQLMKLEVQATDREENKQI\n",
      "\n",
      "pdb|1A35|       540 ALGTSKLNFLDPRITVAWCKKWGVPIEKIYNKTQREKFAWAIDMADEDYEF 591\n",
      "                540 ||||||||.|||||||||||||||||||||||||||||||||||||||||| 591\n",
      "Query_141       540 ALGTSKLNYLDPRITVAWCKKWGVPIEKIYNKTQREKFAWAIDMADEDYEF 591\n",
      "\n",
      " \n",
      "\n",
      " 1A35_A\n"
     ]
    }
   ],
   "source": [
    "from Bio import Blast # Blast module from Biopython\n",
    "\n",
    "result_stream = Blast.qblast('blastp', 'pdb', 'KPKNKDKDKKVPEPDNKKKKPKKEEEQKWKWWEEERYPEGIKWKFLEHKGPVFAPPYEPLPENVKFYYDGKVMKLSPKAEEVATFFAKMLDHEYTTKEIFRKNFFKDWRKEMTNEEKNIITNLSKCDFTQMSQYFKAQTEARKQMSKEEKLKIKEENEKLLKEYGFCIMDNHKERIANFKIEPPGLFRGRGNHPKMGMLKRRIMPEDIIINCSKDAKVPSPPPGHKWKEVRHDNKVTWLVSWTENIQGSIKYIMLNPSSRIKGEKDWQKYETARRLKKCVDKIRNQYREDWKSKEMKVRQRAVALYFIDKLALRAGNEKEEGETADTVGCCSLRVEHINLHPELDGQEYVVEFDFLGKDSIRYYNKVPVEKRVFKNLQLFMENKQPEDDLFDRLNTGILNKHLQDLMEGLTAKVFRTYNASITLQQQLKELTAPDENIPAKILSYNRANRAVAILCNHQRAPPKTFEKSMMNLQTKIDAKKEQLADARRDLKSAKADAKVMKDAKTKKVVESKKKAVQRLEEQLMKLEVQATDREENKQIALGTSKLNYLDPRITVAWCKKWGVPIEKIYNKTQREKFAWAIDMADEDYEF')\n",
    "# qblast passes sequence data as the main parameter\n",
    "# Internal programme: blastp for protein. Otherwise, blastn is for nucleotides\n",
    "# Database: pdb to access pdb files only\n",
    "# Database: nr stands for non-redundant. All identical sequences are represented by a single entry in the database. Allows to access all identical sequences in the database\n",
    "# Results are given in XML format by default\n",
    "\n",
    "with open(\"my_blast.xml\", \"wb\") as out_stream:\n",
    "    out_stream.write(result_stream.read())\n",
    "# Results are read and written to a file\n",
    "# wb: File is opened in write-binary mode\n",
    "\n",
    "result_stream = open(\"my_blast.xml\", \"rb\")\n",
    "# rb: File is opened in read-binary mode\n",
    "\n",
    "blast_record = Blast.read(result_stream)\n",
    "# File is opened and read in BLAST\n",
    "\n",
    "print(blast_record[0][0], # # Access the first record (though only one query is input in this example) and first hit (alignment)\n",
    "      '\\n\\n', blast_record[0].target.name) # Sequence name/ identifier \n",
    "# There are multiple hits in 1 record"
   ]
  },
  {
   "cell_type": "code",
   "execution_count": 17,
   "id": "3e9427f7-09f0-41d8-a40b-a3a2fa0b03b1",
   "metadata": {},
   "outputs": [
    {
     "name": "stdout",
     "output_type": "stream",
     "text": [
      "PDB ID: 1A35\n"
     ]
    },
    {
     "ename": "ValueError",
     "evalue": "you must provide file extension if using file-like object or text content",
     "output_type": "error",
     "traceback": [
      "\u001b[0;31m---------------------------------------------------------------------------\u001b[0m",
      "\u001b[0;31mValueError\u001b[0m                                Traceback (most recent call last)",
      "Cell \u001b[0;32mIn[17], line 19\u001b[0m\n\u001b[1;32m     16\u001b[0m     pdb_file\u001b[38;5;241m.\u001b[39mwrite(response\u001b[38;5;241m.\u001b[39mtext)  \u001b[38;5;66;03m# Write the content to the file\u001b[39;00m\n\u001b[1;32m     18\u001b[0m \u001b[38;5;66;03m# Visualise using nglview\u001b[39;00m\n\u001b[0;32m---> 19\u001b[0m view \u001b[38;5;241m=\u001b[39m \u001b[43mnv\u001b[49m\u001b[38;5;241;43m.\u001b[39;49m\u001b[43mshow_file\u001b[49m\u001b[43m(\u001b[49m\u001b[38;5;124;43mf\u001b[39;49m\u001b[38;5;124;43m\"\u001b[39;49m\u001b[38;5;132;43;01m{\u001b[39;49;00m\u001b[43mfirst_pdb_id\u001b[49m\u001b[38;5;132;43;01m}\u001b[39;49;00m\u001b[38;5;124;43m\"\u001b[39;49m\u001b[43m)\u001b[49m\n\u001b[1;32m     20\u001b[0m view\u001b[38;5;241m.\u001b[39madd_representation(\u001b[38;5;124m'\u001b[39m\u001b[38;5;124mcartoon\u001b[39m\u001b[38;5;124m'\u001b[39m)\n\u001b[1;32m     21\u001b[0m view\n",
      "File \u001b[0;32m~/miniconda3/lib/python3.12/site-packages/nglview/show.py:246\u001b[0m, in \u001b[0;36mshow_file\u001b[0;34m(path, **kwargs)\u001b[0m\n\u001b[1;32m    244\u001b[0m \u001b[38;5;28;01melse\u001b[39;00m:\n\u001b[1;32m    245\u001b[0m     view \u001b[38;5;241m=\u001b[39m NGLWidget()\n\u001b[0;32m--> 246\u001b[0m     \u001b[43mview\u001b[49m\u001b[38;5;241;43m.\u001b[39;49m\u001b[43madd_component\u001b[49m\u001b[43m(\u001b[49m\u001b[43mpath\u001b[49m\u001b[43m,\u001b[49m\u001b[43m \u001b[49m\u001b[38;5;241;43m*\u001b[39;49m\u001b[38;5;241;43m*\u001b[39;49m\u001b[43mkwargs\u001b[49m\u001b[43m)\u001b[49m\n\u001b[1;32m    247\u001b[0m \u001b[38;5;28;01mreturn\u001b[39;00m view\n",
      "File \u001b[0;32m~/miniconda3/lib/python3.12/site-packages/nglview/widget.py:1216\u001b[0m, in \u001b[0;36mNGLWidget.add_component\u001b[0;34m(self, filename, **kwargs)\u001b[0m\n\u001b[1;32m   1213\u001b[0m     \u001b[38;5;28;01mif\u001b[39;00m package_name \u001b[38;5;129;01min\u001b[39;00m BACKENDS:\n\u001b[1;32m   1214\u001b[0m         filename \u001b[38;5;241m=\u001b[39m BACKENDS[package_name](filename)\n\u001b[0;32m-> 1216\u001b[0m \u001b[38;5;28;43mself\u001b[39;49m\u001b[38;5;241;43m.\u001b[39;49m\u001b[43m_load_data\u001b[49m\u001b[43m(\u001b[49m\u001b[43mfilename\u001b[49m\u001b[43m,\u001b[49m\u001b[43m \u001b[49m\u001b[38;5;241;43m*\u001b[39;49m\u001b[38;5;241;43m*\u001b[39;49m\u001b[43mkwargs\u001b[49m\u001b[43m)\u001b[49m\n\u001b[1;32m   1217\u001b[0m \u001b[38;5;66;03m# assign an ID\u001b[39;00m\n\u001b[1;32m   1218\u001b[0m \u001b[38;5;28mself\u001b[39m\u001b[38;5;241m.\u001b[39m_ngl_component_ids\u001b[38;5;241m.\u001b[39mappend(\u001b[38;5;28mstr\u001b[39m(uuid\u001b[38;5;241m.\u001b[39muuid4()))\n",
      "File \u001b[0;32m~/miniconda3/lib/python3.12/site-packages/nglview/widget.py:1254\u001b[0m, in \u001b[0;36mNGLWidget._load_data\u001b[0;34m(self, obj, **kwargs)\u001b[0m\n\u001b[1;32m   1251\u001b[0m blob \u001b[38;5;241m=\u001b[39m fh\u001b[38;5;241m.\u001b[39mread(force_buffer\u001b[38;5;241m=\u001b[39m\u001b[38;5;28;01mTrue\u001b[39;00m)\n\u001b[1;32m   1252\u001b[0m passing_buffer \u001b[38;5;241m=\u001b[39m \u001b[38;5;28;01mTrue\u001b[39;00m\n\u001b[0;32m-> 1254\u001b[0m \u001b[38;5;28;01mif\u001b[39;00m \u001b[43mfh\u001b[49m\u001b[38;5;241;43m.\u001b[39;49m\u001b[43mext\u001b[49m \u001b[38;5;129;01mis\u001b[39;00m \u001b[38;5;28;01mNone\u001b[39;00m \u001b[38;5;129;01mand\u001b[39;00m passing_buffer:\n\u001b[1;32m   1255\u001b[0m     \u001b[38;5;28;01mraise\u001b[39;00m \u001b[38;5;167;01mValueError\u001b[39;00m(\u001b[38;5;124m'\u001b[39m\u001b[38;5;124mmust provide extension\u001b[39m\u001b[38;5;124m'\u001b[39m)\n\u001b[1;32m   1257\u001b[0m kwargs2[\u001b[38;5;124m'\u001b[39m\u001b[38;5;124mext\u001b[39m\u001b[38;5;124m'\u001b[39m] \u001b[38;5;241m=\u001b[39m fh\u001b[38;5;241m.\u001b[39mext\n",
      "File \u001b[0;32m~/miniconda3/lib/python3.12/site-packages/nglview/utils/py_utils.py:242\u001b[0m, in \u001b[0;36mFileManager.ext\u001b[0;34m(self)\u001b[0m\n\u001b[1;32m    239\u001b[0m \u001b[38;5;28;01melse\u001b[39;00m:\n\u001b[1;32m    240\u001b[0m     \u001b[38;5;28;01mif\u001b[39;00m \u001b[38;5;28mhasattr\u001b[39m(\u001b[38;5;28mself\u001b[39m\u001b[38;5;241m.\u001b[39msrc, \u001b[38;5;124m'\u001b[39m\u001b[38;5;124mread\u001b[39m\u001b[38;5;124m'\u001b[39m) \u001b[38;5;129;01mor\u001b[39;00m (\u001b[38;5;129;01mnot\u001b[39;00m \u001b[38;5;28mself\u001b[39m\u001b[38;5;241m.\u001b[39mis_filename\n\u001b[1;32m    241\u001b[0m                                      \u001b[38;5;129;01mand\u001b[39;00m \u001b[38;5;129;01mnot\u001b[39;00m \u001b[38;5;28mself\u001b[39m\u001b[38;5;241m.\u001b[39mis_url):\n\u001b[0;32m--> 242\u001b[0m         \u001b[38;5;28;01mraise\u001b[39;00m \u001b[38;5;167;01mValueError\u001b[39;00m(\n\u001b[1;32m    243\u001b[0m             \u001b[38;5;124m\"\u001b[39m\u001b[38;5;124myou must provide file extension if using file-like object or text content\u001b[39m\u001b[38;5;124m\"\u001b[39m\n\u001b[1;32m    244\u001b[0m         )\n\u001b[1;32m    245\u001b[0m     \u001b[38;5;28;01mif\u001b[39;00m \u001b[38;5;28mself\u001b[39m\u001b[38;5;241m.\u001b[39mis_compressed:\n\u001b[1;32m    246\u001b[0m         \u001b[38;5;28;01mreturn\u001b[39;00m \u001b[38;5;28mself\u001b[39m\u001b[38;5;241m.\u001b[39msrc\u001b[38;5;241m.\u001b[39msplit(\u001b[38;5;124m'\u001b[39m\u001b[38;5;124m.\u001b[39m\u001b[38;5;124m'\u001b[39m)[\u001b[38;5;241m-\u001b[39m\u001b[38;5;241m2\u001b[39m]\n",
      "\u001b[0;31mValueError\u001b[0m: you must provide file extension if using file-like object or text content"
     ]
    }
   ],
   "source": [
    "import requests\n",
    "import nglview as nv\n",
    "\n",
    "pdb_ids = [blast_record[0].target.name.split('_')[0]] # Create PDB ID list\n",
    "\n",
    "if pdb_ids:  # If list is not empty\n",
    "    first_pdb_id = pdb_ids[0]  # First result\n",
    "    print(f\"PDB ID: {first_pdb_id}\")  # Print the PDB ID\n",
    "\n",
    "    # Construct the URL to download the PDB file\n",
    "    pdb_url = f\"https://files.rcsb.org/download/{first_pdb_id}.pdb\"\n",
    "    response = requests.get(pdb_url)  # Request to download the PDB file\n",
    "\n",
    "    if response.status_code == 200:  # Check for successful request\n",
    "        with open(f\"{first_pdb_id}.pdb\", \"w\") as pdb_file:  # Open file in write mode\n",
    "            pdb_file.write(response.text)  # Write the content to the file\n",
    "\n",
    "        # Visualise using nglview\n",
    "        view = nv.show_file(f\"{first_pdb_id}\")\n",
    "        view.add_representation('cartoon')\n",
    "        view"
   ]
  },
  {
   "cell_type": "code",
   "execution_count": 18,
   "id": "81960f2d-8fef-4829-afb3-a33e0c93de82",
   "metadata": {},
   "outputs": [
    {
     "data": {
      "application/vnd.jupyter.widget-view+json": {
       "model_id": "2136794a3132486382e6e5177ff0b99d",
       "version_major": 2,
       "version_minor": 0
      },
      "text/plain": [
       "NGLWidget()"
      ]
     },
     "metadata": {},
     "output_type": "display_data"
    }
   ],
   "source": [
    "view = nv.show_pdbid(\"1A35\")\n",
    "view.add_representation('cartoon')\n",
    "view"
   ]
  },
  {
   "cell_type": "code",
   "execution_count": null,
   "id": "c1af32ae-8041-4d34-86bb-8183a49eed8b",
   "metadata": {},
   "outputs": [],
   "source": [
    " # Parse the PDB file and compute DSSP\n",
    "        parser = PDBParser(QUIET=True)\n",
    "        structure = parser.get_structure(first_pdb_id, f\"{first_pdb_id}.pdb\")\n",
    "        model = structure[0]  # Get the first model\n",
    "        dssp = DSSP(model, f\"{first_pdb_id}.pdb\")  # Compute DSSP\n",
    "\n",
    "        # Create a secondary structure representation\n",
    "        secondary_structure = {key: dssp[key][2] for key in dssp.keys()}  # Extract secondary structure info\n",
    "\n",
    "        # Visualise using nglview\n",
    "        view = nv.show_file(f\"{first_pdb_id}.pdb\")\n",
    "        view.add_representation('cartoon')\n",
    "\n",
    "        # Add DSSP annotation as a selection or label\n",
    "        for residue, struct in secondary_structure.items():\n",
    "            # Customize based on your needs, here we're simply printing them\n",
    "            print(f\"Residue: {residue}, Structure: {struct}\")\n",
    "\n",
    "        view"
   ]
  }
 ],
 "metadata": {
  "kernelspec": {
   "display_name": "Python 3 (ipykernel)",
   "language": "python",
   "name": "python3"
  },
  "language_info": {
   "codemirror_mode": {
    "name": "ipython",
    "version": 3
   },
   "file_extension": ".py",
   "mimetype": "text/x-python",
   "name": "python",
   "nbconvert_exporter": "python",
   "pygments_lexer": "ipython3",
   "version": "3.12.2"
  }
 },
 "nbformat": 4,
 "nbformat_minor": 5
}
