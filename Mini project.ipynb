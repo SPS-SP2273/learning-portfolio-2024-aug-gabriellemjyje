{
 "cells": [
  {
   "cell_type": "code",
   "execution_count": 1,
   "id": "a66f4074-31a9-485f-86d1-8746010ce40f",
   "metadata": {},
   "outputs": [
    {
     "name": "stdin",
     "output_type": "stream",
     "text": [
      "Please type your DNA sequence: ATGCGGAAG\n"
     ]
    },
    {
     "name": "stdout",
     "output_type": "stream",
     "text": [
      "MRK\n"
     ]
    }
   ],
   "source": [
    "codon_chart = {'AUG': 'M', 'UAA': 'STOP', 'UAG': 'STOP', 'UGA': 'STOP', \n",
    "               'UUU': 'F', 'UUC': 'F', 'UUA': 'L', \n",
    "               'UCU': 'S', 'UCC': 'S', 'UCA': 'S', 'UCG': 'S',\n",
    "              'UAU': 'Y', 'UAC': 'Y', 'UGU': 'C', 'UGC': 'C', 'UGG': 'W',\n",
    "              'CUU': 'L', 'CUC': 'L', 'CUA': 'L', 'CUG': 'L',\n",
    "              'CCU': 'P', 'CCC': 'P', 'CCA': 'P', 'CCG': 'P',\n",
    "              'CAU': 'H', 'CAC': 'H', 'CAA': 'Q', 'CAG': 'Q',\n",
    "              'CGU': 'R', 'CGC': 'R', 'CGA': 'R', 'CGG': 'R',\n",
    "              'AAU': 'I', 'AUC': 'I', 'AUA': 'I',\n",
    "              'ACU': 'T', 'ACC': 'T', 'ACA': 'T', 'ACG': 'T',\n",
    "              'AAU': 'N', 'AAC': 'N', 'AAA': 'K', 'AAG': 'K',\n",
    "              'AGU': 'S', 'AGC': 'S', 'AGA': 'R', 'AGG': 'R',\n",
    "              'GUU': 'V', 'GUC': 'V', 'GUA': 'V', 'GUG': 'V',\n",
    "              'GCU': 'A', 'GCC': 'A', 'GCA': 'A', 'GCG': 'A',\n",
    "              'GAU': 'D', 'GAC': 'D', 'GAA': 'E', 'GAG': 'E',\n",
    "              'GGU': 'G', 'GGC': 'G', 'GGA': 'G', 'GGG': 'G'}\n",
    "\n",
    "dna_seq = input('Please type your DNA sequence:')\n",
    "def dnaseq_aminoacidseq(dna_seq):\n",
    "    rna_seq = dna_seq.replace('T', 'U') #Convert to mRNA seq\n",
    "    amino_acids = []\n",
    "    for i in range(0, len(rna_seq), 3): # Range from 1st to last index, in steps of 3 (bc every 3 nucleotides is 1 codon)\n",
    "        codon = rna_seq[i:i+3]\n",
    "        if codon in codon_chart:\n",
    "            amino_acid = codon_chart[codon]\n",
    "            if amino_acid == 'STOP':\n",
    "                break\n",
    "            amino_acids.append(amino_acid)\n",
    "    amino_acids_string = ''.join([str(element) for element in amino_acids]) # Converting to string\n",
    "    return amino_acids_string\n",
    "\n",
    "print(dnaseq_aminoacidseq(dna_seq))"
   ]
  },
  {
   "cell_type": "code",
   "execution_count": 1,
   "id": "dd04b8b9-5fa4-4f96-9aab-59366299183b",
   "metadata": {},
   "outputs": [
    {
     "name": "stdout",
     "output_type": "stream",
     "text": [
      "Query: unnamed protein product\n",
      "Hit: pdb|6B3Q|a Chain a, Insulin [Homo sapiens] >pdb|6B3Q|b Chain b, Insulin [Homo sapiens] >pdb|6B70|a Chain a, Insulin [Homo sapiens] >pdb|6B70|c Chain c, Insulin [Homo sapiens] >pdb|6BFC|a Chain a, Insulin [Homo sapiens] >pdb|6BFC|b Chain b, Insulin [Homo sapiens] >pdb|6JK8|C Chain C, Insulin [Homo sapiens] >pdb|6JK8|D Chain D, Insulin [Homo sapiens] >pdb|6TC2|A Chain A, Insulin [Homo sapiens] >pdb|6TC2|B Chain B, Insulin [Homo sapiens] >pdb|6TC2|C Chain C, Insulin [Homo sapiens] >pdb|6TC2|D Chain D, Insulin [Homo sapiens] >pdb|6TC2|E Chain E, Insulin [Homo sapiens] >pdb|6TC2|F Chain F, Insulin [Homo sapiens] >pdb|6TC2|G Chain G, Insulin [Homo sapiens] >pdb|6TC2|H Chain H, Insulin [Homo sapiens] >pdb|6TC2|I Chain I, Insulin [Homo sapiens] >pdb|6TC2|J Chain J, Insulin [Homo sapiens] >pdb|6TC2|K Chain K, Insulin [Homo sapiens] >pdb|6TC2|L Chain L, Insulin [Homo sapiens] >pdb|7STH|C Chain C, Insulin [Homo sapiens] >pdb|7STH|D Chain D, Insulin [Homo sapiens] >pdb|7STI|C Chain C, Insulin [Homo sapiens] >pdb|7STJ|C Chain C, Insulin [Homo sapiens] >pdb|7STJ|D Chain D, Insulin [Homo sapiens] >pdb|7STK|C Chain C, Insulin [Homo sapiens] >pdb|7STK|D Chain D, Insulin [Homo sapiens] >pdb|8EYX|D Chain D, Insulin [Homo sapiens] >pdb|8EYX|E Chain E, Insulin [Homo sapiens] >pdb|8EYX|F Chain F, Insulin [Homo sapiens] >pdb|8EYX|G Chain G, Insulin [Homo sapiens] >pdb|8EYY|C Chain C, Insulin [Homo sapiens] >pdb|8EYY|D Chain D, Insulin [Homo sapiens] >pdb|8EYY|E Chain E, Insulin [Homo sapiens] >pdb|8EYY|F Chain F, Insulin [Homo sapiens] >pdb|8EZ0|D Chain D, Insulin [Homo sapiens] >pdb|8EZ0|E Chain E, Insulin [Homo sapiens] >pdb|8EZ0|F Chain F, Insulin [Homo sapiens] >pdb|8EZ0|G Chain G, Insulin [Homo sapiens]\n",
      "Score: 113.0, E-value: 2.63339e-09\n",
      "Hit: pdb|3UTQ|C Chain C, Insulin [Homo sapiens] >pdb|3UTS|C Chain C, Insulin [Homo sapiens] >pdb|3UTS|H Chain H, Insulin [Homo sapiens] >pdb|3UTT|C Chain C, Insulin [Homo sapiens] >pdb|3UTT|H Chain H, Insulin [Homo sapiens]\n",
      "Score: 48.0, E-value: 5.22319\n"
     ]
    }
   ],
   "source": [
    "from Bio.Blast import NCBIWWW, NCBIXML\n",
    "\n",
    "query_sequence = \"MALWMRLLPLLALLALWGPDPAAA\" \n",
    "\n",
    "result_handle = NCBIWWW.qblast(\"blastp\", \"pdb\", query_sequence)\n",
    "\n",
    "blast_records = NCBIXML.parse(result_handle)\n",
    "\n",
    "for blast_record in blast_records:\n",
    "    print(f\"Query: {blast_record.query}\")\n",
    "    for alignment in blast_record.alignments:\n",
    "        for hsp in alignment.hsps:\n",
    "            print(f\"Hit: {alignment.title}\")\n",
    "            print(f\"Score: {hsp.score}, E-value: {hsp.expect}\")\n"
   ]
  }
 ],
 "metadata": {
  "kernelspec": {
   "display_name": "Python 3 (ipykernel)",
   "language": "python",
   "name": "python3"
  },
  "language_info": {
   "codemirror_mode": {
    "name": "ipython",
    "version": 3
   },
   "file_extension": ".py",
   "mimetype": "text/x-python",
   "name": "python",
   "nbconvert_exporter": "python",
   "pygments_lexer": "ipython3",
   "version": "3.12.2"
  }
 },
 "nbformat": 4,
 "nbformat_minor": 5
}
