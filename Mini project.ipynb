{
 "cells": [
  {
   "cell_type": "code",
   "execution_count": 18,
   "id": "a66f4074-31a9-485f-86d1-8746010ce40f",
   "metadata": {},
   "outputs": [
    {
     "name": "stdin",
     "output_type": "stream",
     "text": [
      "Please type your DNA sequence: ATGGTGAGCAAGGGCGAGGATAACATG\n"
     ]
    },
    {
     "name": "stdout",
     "output_type": "stream",
     "text": [
      "Amino Acid Sequence: MVSKGEDNM\n"
     ]
    }
   ],
   "source": [
    "codon_chart = {'AUG': 'M', 'UAA': 'STOP', 'UAG': 'STOP', 'UGA': 'STOP', \n",
    "               'UUU': 'F', 'UUC': 'F', 'UUA': 'L', 'UUG': 'L',\n",
    "               'UCU': 'S', 'UCC': 'S', 'UCA': 'S', 'UCG': 'S',\n",
    "              'UAU': 'Y', 'UAC': 'Y', 'UGU': 'C', 'UGC': 'C', 'UGG': 'W',\n",
    "              'CUU': 'L', 'CUC': 'L', 'CUA': 'L', 'CUG': 'L',\n",
    "              'CCU': 'P', 'CCC': 'P', 'CCA': 'P', 'CCG': 'P',\n",
    "              'CAU': 'H', 'CAC': 'H', 'CAA': 'Q', 'CAG': 'Q',\n",
    "              'CGU': 'R', 'CGC': 'R', 'CGA': 'R', 'CGG': 'R',\n",
    "              'AUU': 'I', 'AUC': 'I', 'AUA': 'I',\n",
    "              'ACU': 'T', 'ACC': 'T', 'ACA': 'T', 'ACG': 'T',\n",
    "              'AAU': 'N', 'AAC': 'N', 'AAA': 'K', 'AAG': 'K',\n",
    "              'AGU': 'S', 'AGC': 'S', 'AGA': 'R', 'AGG': 'R',\n",
    "              'GUU': 'V', 'GUC': 'V', 'GUA': 'V', 'GUG': 'V',\n",
    "              'GCU': 'A', 'GCC': 'A', 'GCA': 'A', 'GCG': 'A',\n",
    "              'GAU': 'D', 'GAC': 'D', 'GAA': 'E', 'GAG': 'E',\n",
    "              'GGU': 'G', 'GGC': 'G', 'GGA': 'G', 'GGG': 'G'}\n",
    "\n",
    "dna_seq = input('Please type your DNA sequence:')\n",
    "def dnaseq_aminoacidseq(dna_seq):\n",
    "    rna_seq = dna_seq.replace('T', 'U') # Convert to mRNA seq\n",
    "    amino_acids = []\n",
    "    for i in range(0, len(rna_seq), 3): # Range from 1st to last index, in steps of 3 (bc every 3 nucleotides is 1 codon)\n",
    "        codon = rna_seq[i:i+3]\n",
    "        if codon in codon_chart:\n",
    "            amino_acid = codon_chart[codon]\n",
    "            if amino_acid == 'STOP':\n",
    "                break\n",
    "            amino_acids.append(amino_acid)\n",
    "    amino_acids_string = ''.join([str(element) for element in amino_acids]) # Converting to string\n",
    "    return amino_acids_string\n",
    "\n",
    "amino_acid_seq = dnaseq_aminoacidseq(dna_seq)\n",
    "print(f\"Amino Acid Sequence: {amino_acid_seq}\")"
   ]
  },
  {
   "cell_type": "code",
   "execution_count": 19,
   "id": "a3f2635f-305a-4044-9c10-56ca65efcb2c",
   "metadata": {},
   "outputs": [
    {
     "data": {
      "text/html": [
       "<div>\n",
       "<style scoped>\n",
       "    .dataframe tbody tr th:only-of-type {\n",
       "        vertical-align: middle;\n",
       "    }\n",
       "\n",
       "    .dataframe tbody tr th {\n",
       "        vertical-align: top;\n",
       "    }\n",
       "\n",
       "    .dataframe thead th {\n",
       "        text-align: right;\n",
       "    }\n",
       "</style>\n",
       "<table border=\"1\" class=\"dataframe\">\n",
       "  <thead>\n",
       "    <tr style=\"text-align: right;\">\n",
       "      <th></th>\n",
       "    </tr>\n",
       "  </thead>\n",
       "  <tbody>\n",
       "  </tbody>\n",
       "</table>\n",
       "</div>"
      ],
      "text/plain": [
       "Empty DataFrame\n",
       "Columns: []\n",
       "Index: []"
      ]
     },
     "execution_count": 19,
     "metadata": {},
     "output_type": "execute_result"
    }
   ],
   "source": [
    "from Bio.Blast import NCBIWWW # Online version of BLAST. Must have internet connection to run\n",
    "from Bio.Blast import NCBIXML\n",
    "import pandas as pd\n",
    "import requests\n",
    "import nglview as nv\n",
    "\n",
    "# BLAST query\n",
    "result_handle = NCBIWWW.qblast(\"blastp\", \"nr\", amino_acid_seq)\n",
    "# qblast passes sequence data as the main parameter\n",
    "# Internal programme: blastp for protein. Otherwise, blastn is for nucleotides\n",
    "# Database: nr stands for non-redundant. All identical sequences are represented by a single entry in the database. Allows to access all identical sequences in the database\n",
    "# Results are given in XML format by default\n",
    "\n",
    "# Read results\n",
    "blast_results = NCBIXML.parse(result_handle)\n",
    "# For multiple results\n",
    "# What parse does: \n",
    "# Single result is blast_records = NCBIXML.read(result_handle)\n",
    "\n",
    "# Create dataframe using Pandas\n",
    "blast_hits = []\n",
    "for blast_result in blast_results:\n",
    "    for alignment in blast_result.alignments: # Calling for alignments in results\n",
    "        for hsp in alignment.hsps: # HSP is High-scoring Segment Pair; Local alignment with no gaps that achieves one of the highest alignment scores in a given search\n",
    "            blast_hits.append({'Description': alignment.title, \n",
    "                           'Length': alignment.length,\n",
    "                           'E-value': hsp.expect,\n",
    "                           'Score': hsp.score,\n",
    "                           'Identity': hsp.identities,\n",
    "                           'Query': hsp.query,\n",
    "                           'Match': hsp.match})\n",
    "df_blast = pd.DataFrame(blast_hits)\n",
    "df_blast.head(5)"
   ]
  },
  {
   "cell_type": "code",
   "execution_count": null,
   "id": "3e9427f7-09f0-41d8-a40b-a3a2fa0b03b1",
   "metadata": {},
   "outputs": [],
   "source": [
    "# Creating list of pdb_ids\n",
    "pdb_ids = [alignment.accession for blast_result in blast_results for alignment in blast_result.alignments] # Accession number\n",
    "\n",
    "if pdb_ids: # If list is not empty\n",
    "    first_pdb_id = pdb_ids[0] # First result\n",
    "    print(f\"PDB ID: {first_pdb_id}\") # Call PDB file from RCSB PDB (protein database)\n",
    "    pdb_url = f\"https://files.rcsb.org/download/{first_pdb_id}.pdb\"\n",
    "    response = requests.get(pdb_url) # Request to take extract the PDB file from the URL\n",
    "    if response.status_code == 200: # 200 is the code for successful request\n",
    "        with open(f\"{first_pdb_id}.pdb\", \"w\") as pdb_file: # w: write mode\n",
    "            pdb_file.write(response.text) # Write as text and save PDB file\n",
    "        # Visualise using nglview\n",
    "        view = nv.show_file(f\"{first_pdb_id}.pdb\")\n",
    "        view.add_representation('cartoon')\n",
    "        view"
   ]
  },
  {
   "cell_type": "code",
   "execution_count": null,
   "id": "58df9cf4-0bad-46e1-9e9c-4730aa7fabb7",
   "metadata": {},
   "outputs": [],
   "source": [
    "'PDB ID': alignment.hit_id.split('|')[3] if '|' in alignment.hit_id else None})\n",
    "# May or may not need this\n",
    "# alignment.hit_id.split('|'): Splits the hit_id string into a list using | as the delimiter.\n",
    "# [3]: Retrieves the fourth element from the list (index 3).\n",
    "# if '|' in alignment.hit_id: Checks if there are any | characters in hit_id.\n",
    "# else None: If no | is found, assigns None to the PDB ID bc it's unlikely to contain a PDB file"
   ]
  }
 ],
 "metadata": {
  "kernelspec": {
   "display_name": "Python 3 (ipykernel)",
   "language": "python",
   "name": "python3"
  },
  "language_info": {
   "codemirror_mode": {
    "name": "ipython",
    "version": 3
   },
   "file_extension": ".py",
   "mimetype": "text/x-python",
   "name": "python",
   "nbconvert_exporter": "python",
   "pygments_lexer": "ipython3",
   "version": "3.12.2"
  }
 },
 "nbformat": 4,
 "nbformat_minor": 5
}
