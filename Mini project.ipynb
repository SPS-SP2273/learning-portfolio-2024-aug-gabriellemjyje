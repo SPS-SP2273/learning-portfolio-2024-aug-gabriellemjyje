{
 "cells": [
  {
   "cell_type": "code",
   "execution_count": 7,
   "id": "a66f4074-31a9-485f-86d1-8746010ce40f",
   "metadata": {},
   "outputs": [
    {
     "name": "stdin",
     "output_type": "stream",
     "text": [
      "Please type your DNA sequence: ATGGTGACCTCTGAGGAGCCTGTTGCCACGTCACGTTGACACCTGAGGACGGTGGTGCC\n"
     ]
    },
    {
     "name": "stdout",
     "output_type": "stream",
     "text": [
      "Amino Acid Sequence: MVTSEEPVATSR\n"
     ]
    }
   ],
   "source": [
    "codon_chart = {'AUG': 'M', 'UAA': 'STOP', 'UAG': 'STOP', 'UGA': 'STOP', \n",
    "               'UUU': 'F', 'UUC': 'F', 'UUA': 'L', 'UUG': 'L',\n",
    "               'UCU': 'S', 'UCC': 'S', 'UCA': 'S', 'UCG': 'S',\n",
    "              'UAU': 'Y', 'UAC': 'Y', 'UGU': 'C', 'UGC': 'C', 'UGG': 'W',\n",
    "              'CUU': 'L', 'CUC': 'L', 'CUA': 'L', 'CUG': 'L',\n",
    "              'CCU': 'P', 'CCC': 'P', 'CCA': 'P', 'CCG': 'P',\n",
    "              'CAU': 'H', 'CAC': 'H', 'CAA': 'Q', 'CAG': 'Q',\n",
    "              'CGU': 'R', 'CGC': 'R', 'CGA': 'R', 'CGG': 'R',\n",
    "              'AUU': 'I', 'AUC': 'I', 'AUA': 'I',\n",
    "              'ACU': 'T', 'ACC': 'T', 'ACA': 'T', 'ACG': 'T',\n",
    "              'AAU': 'N', 'AAC': 'N', 'AAA': 'K', 'AAG': 'K',\n",
    "              'AGU': 'S', 'AGC': 'S', 'AGA': 'R', 'AGG': 'R',\n",
    "              'GUU': 'V', 'GUC': 'V', 'GUA': 'V', 'GUG': 'V',\n",
    "              'GCU': 'A', 'GCC': 'A', 'GCA': 'A', 'GCG': 'A',\n",
    "              'GAU': 'D', 'GAC': 'D', 'GAA': 'E', 'GAG': 'E',\n",
    "              'GGU': 'G', 'GGC': 'G', 'GGA': 'G', 'GGG': 'G'}\n",
    "\n",
    "dna_seq = input('Please type your DNA sequence:')\n",
    "def dnaseq_aminoacidseq(dna_seq):\n",
    "    rna_seq = dna_seq.replace('T', 'U') # Convert to mRNA seq\n",
    "    amino_acids = []\n",
    "    for i in range(0, len(rna_seq), 3): # Range from 1st to last index, in steps of 3 (bc every 3 nucleotides is 1 codon)\n",
    "        codon = rna_seq[i:i+3]\n",
    "        if codon in codon_chart:\n",
    "            amino_acid = codon_chart[codon]\n",
    "            if amino_acid == 'STOP':\n",
    "                break\n",
    "            amino_acids.append(amino_acid)\n",
    "    amino_acids_string = ''.join([str(element) for element in amino_acids]) # Converting to string\n",
    "    return amino_acids_string\n",
    "\n",
    "amino_acid_seq = dnaseq_aminoacidseq(dna_seq)\n",
    "print(f\"Amino Acid Sequence: {amino_acid_seq}\")\n",
    "\n",
    "# Can use .transcribe() and .translate()"
   ]
  },
  {
   "cell_type": "code",
   "execution_count": 8,
   "id": "43053ea0-5529-47cb-b6fd-11cbbac3f472",
   "metadata": {},
   "outputs": [
    {
     "name": "stdout",
     "output_type": "stream",
     "text": [
      "Query: Query_3508321\n",
      "       unnamed protein product\n",
      "  Hit: gb|KAI2558339.1| (length=90)\n",
      "       hemoglobin subunit beta, partial [Homo sapiens] >gb|KAI4069683.1|\n",
      "       hemoglobin subunit beta, partial [Homo sapiens] >gb|UXQ07652.1|\n",
      "       hemoglobin subunit beta, partial [Homo sapiens]\n",
      " HSPs: ----  --------  ---------  ------  ---------------  ---------------------\n",
      "          #   E-value  Bit score    Span      Query range              Hit range\n",
      "       ----  --------  ---------  ------  ---------------  ---------------------\n",
      "          0   5.5e-36     126.72      60           [0:60]                 [0:60] \n",
      "\n",
      " KAI2558339 \n",
      "\n",
      " Query : Query_3508321 Length: 60 Strand: Plus\n",
      "        unnamed protein product\n",
      "Target: gb|KAI2558339.1| Length: 90 Strand: Plus\n",
      "        hemoglobin subunit beta, partial [Homo sapiens] >gb|KAI4069683.1|\n",
      "        hemoglobin subunit beta, partial [Homo sapiens] >gb|UXQ07652.1|\n",
      "        hemoglobin subunit beta, partial [Homo sapiens]\n",
      "\n",
      "Score:126 bits(317), Expect:5e-36,\n",
      "Identities:60/60(100%),  Positives:60/60(100%),  Gaps:0.60(0%)\n",
      "\n",
      "gb|KAI255         0 MVHLTPEEKSAVTALWGKVNVDEVGGEALGRLLVVYPWTQRFFESFGDLSTPDAVMGNPK\n",
      "                  0 ||||||||||||||||||||||||||||||||||||||||||||||||||||||||||||\n",
      "Query_350         0 MVHLTPEEKSAVTALWGKVNVDEVGGEALGRLLVVYPWTQRFFESFGDLSTPDAVMGNPK\n",
      "\n",
      "gb|KAI255        60 \n",
      "                 60 \n",
      "Query_350        60 \n",
      "\n",
      "\n"
     ]
    }
   ],
   "source": [
    "from Bio import Blast # Blast module from Biopython\n",
    "\n",
    "result_stream = Blast.qblast('blastp', 'nr', 'MVHLTPEEKSAVTALWGKVNVDEVGGEALGRLLVVYPWTQRFFESFGDLSTPDAVMGNPK')\n",
    "# qblast passes sequence data as the main parameter\n",
    "# Internal programme: blastp for protein. Otherwise, blastn is for nucleotides\n",
    "# Database: nr stands for non-redundant. All identical sequences are represented by a single entry in the database. Allows to access all identical sequences in the database\n",
    "# Results are given in XML format by default\n",
    "\n",
    "with open(\"my_blast.xml\", \"wb\") as out_stream:\n",
    "    out_stream.write(result_stream.read())\n",
    "# Results are read and written to a file\n",
    "# wb: File is opened in write-binary mode\n",
    "\n",
    "result_stream = open(\"my_blast.xml\", \"rb\")\n",
    "# rb: File is opened in read-binary mode\n",
    "\n",
    "blast_record = Blast.read(result_stream)\n",
    "# File is opened and read in BLAST\n",
    "\n",
    "print(blast_record[0], # Access first record\n",
    "      '\\n\\n', blast_record[0].target.name, # Sequence name/ identifier\n",
    "      '\\n\\n', blast_record[0][0]) # Access the first record (though only one query is input in this example) and first hit (alignment)\n",
    "# There are multiple hits in 1 record"
   ]
  },
  {
   "cell_type": "code",
   "execution_count": 20,
   "id": "3e9427f7-09f0-41d8-a40b-a3a2fa0b03b1",
   "metadata": {},
   "outputs": [
    {
     "name": "stdout",
     "output_type": "stream",
     "text": [
      "PDB ID: KAI2558339\n"
     ]
    }
   ],
   "source": [
    "import requests\n",
    "import nglview as nv\n",
    "\n",
    "pdb_ids = [blast_record[0].target.name.split('_')[0]] # Create PDB ID list\n",
    "\n",
    "if pdb_ids:  # If list is not empty\n",
    "    first_pdb_id = pdb_ids[0]  # First result\n",
    "    print(f\"PDB ID: {first_pdb_id}\")  # Print the PDB ID\n",
    "\n",
    "    # Construct the URL to download the PDB file\n",
    "    pdb_url = f\"https://files.rcsb.org/download/{first_pdb_id}.pdb\"\n",
    "    response = requests.get(pdb_url)  # Request to download the PDB file\n",
    "\n",
    "    if response.status_code == 200:  # Check for successful request\n",
    "        with open(f\"{first_pdb_id}.pdb\", \"w\") as pdb_file:  # Open file in write mode\n",
    "            pdb_file.write(response.text)  # Write the content to the file\n",
    "\n",
    "        # Visualise using nglview\n",
    "        view = nv.show_file(f\"{first_pdb_id}.pdb\")\n",
    "        view.add_representation('cartoon')\n",
    "        view"
   ]
  },
  {
   "cell_type": "code",
   "execution_count": 24,
   "id": "81960f2d-8fef-4829-afb3-a33e0c93de82",
   "metadata": {},
   "outputs": [
    {
     "data": {
      "application/vnd.jupyter.widget-view+json": {
       "model_id": "f7c4f268dbda4b10a0b67196eac8cae2",
       "version_major": 2,
       "version_minor": 0
      },
      "text/plain": [
       "NGLWidget()"
      ]
     },
     "metadata": {},
     "output_type": "display_data"
    }
   ],
   "source": [
    "view = nv.show_pdbid(\"1A3N\")\n",
    "view.add_representation('cartoon')\n",
    "view"
   ]
  }
 ],
 "metadata": {
  "kernelspec": {
   "display_name": "Python 3 (ipykernel)",
   "language": "python",
   "name": "python3"
  },
  "language_info": {
   "codemirror_mode": {
    "name": "ipython",
    "version": 3
   },
   "file_extension": ".py",
   "mimetype": "text/x-python",
   "name": "python",
   "nbconvert_exporter": "python",
   "pygments_lexer": "ipython3",
   "version": "3.12.2"
  }
 },
 "nbformat": 4,
 "nbformat_minor": 5
}
