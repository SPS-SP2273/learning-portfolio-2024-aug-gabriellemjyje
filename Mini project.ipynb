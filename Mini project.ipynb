{
 "cells": [
  {
   "cell_type": "code",
   "execution_count": 3,
   "id": "a66f4074-31a9-485f-86d1-8746010ce40f",
   "metadata": {},
   "outputs": [
    {
     "name": "stdin",
     "output_type": "stream",
     "text": [
      "Please type your DNA sequence: ATGCGAGGA\n"
     ]
    },
    {
     "name": "stdout",
     "output_type": "stream",
     "text": [
      "MetArgGly\n"
     ]
    }
   ],
   "source": [
    "codon_chart = {'AUG': 'Met', 'UAA': 'STOP', 'UAG': 'STOP', 'UGA': 'STOP', \n",
    "               'UUU': 'Phe', 'UUC': 'Phe', 'UUA': 'Leu', \n",
    "               'UCU': 'Ser', 'UCC': 'Ser', 'UCA': 'Ser', 'UCG': 'Ser',\n",
    "              'UAU': 'Tyr', 'UAC': 'Tyr', 'UGU': 'Cys', 'UGC': 'Cys', 'UGG': 'Trp',\n",
    "              'CUU': 'Leu', 'CUC': 'Leu', 'CUA': 'Leu', 'CUG': 'Leu',\n",
    "              'CCU': 'Pro', 'CCC': 'Pro', 'CCA': 'Pro', 'CCG': 'Pro',\n",
    "              'CAU': 'His', 'CAC': 'His', 'CAA': 'Gln', 'CAG': 'Gln',\n",
    "              'CGU': 'Arg', 'CGC': 'Arg', 'CGA': 'Arg', 'CGG': 'Arg',\n",
    "              'AAU': 'Ile', 'AUC': 'Ile', 'AUA': 'Ile',\n",
    "              'ACU': 'Thr', 'ACC': 'Thr', 'ACA': 'Thr', 'ACG': 'Thr',\n",
    "              'AAU': 'Asn', 'AAC': 'Asn', 'AAA': 'Lys', 'AAG': 'Lys',\n",
    "              'AGU': 'Ser', 'AGC': 'Ser', 'AGA': 'Arg', 'AGG': 'Arg',\n",
    "              'GUU': 'Val', 'GUC': 'Val', 'GUA': 'Val', 'GUG': 'Val',\n",
    "              'GCU': 'Ala', 'GCC': 'Ala', 'GCA': 'Ala', 'GCG': 'Ala',\n",
    "              'GAU': 'Asp', 'GAC': 'Asp', 'GAA': 'Glu', 'GAG': 'Glu',\n",
    "              'GGU': 'Gly', 'GGC': 'Gly', 'GGA': 'Gly', 'GGG': 'Gly'}\n",
    "\n",
    "dna_seq = input('Please type your DNA sequence:')\n",
    "def dnaseq_aminoacidseq(dna_seq):\n",
    "    rna_seq = dna_seq.replace('T', 'U') #Convert to mRNA seq\n",
    "    amino_acids = []\n",
    "    for i in range(0, len(rna_seq), 3): # Range from 1st to last index, in steps of 3 (bc every 3 nucleotides is 1 codon)\n",
    "        codon = rna_seq[i:i+3]\n",
    "        if codon in codon_chart:\n",
    "            amino_acid = codon_chart[codon]\n",
    "            if amino_acid == 'STOP':\n",
    "                break\n",
    "            amino_acids.append(amino_acid)\n",
    "    amino_acids_string = ''.join([str(element) for element in amino_acids]) # Converting to string\n",
    "    return amino_acids_string\n",
    "\n",
    "print(dnaseq_aminoacidseq(dna_seq))"
   ]
  },
  {
   "cell_type": "code",
   "execution_count": null,
   "id": "dd04b8b9-5fa4-4f96-9aab-59366299183b",
   "metadata": {},
   "outputs": [],
   "source": [
    "from Bio.Blast import NCBIWWW, NCBIXML\n",
    "\n",
    "query_sequence = \"MALWMRLLPLLALLALWGPDPAAA\" \n",
    "\n",
    "result_handle = NCBIWWW.qblast(\"blastp\", \"pdb\", query_sequence)\n",
    "\n",
    "blast_records = NCBIXML.parse(result_handle)\n",
    "\n",
    "for blast_record in blast_records:\n",
    "    print(f\"Query: {blast_record.query}\")\n",
    "    for alignment in blast_record.alignments:\n",
    "        for hsp in alignment.hsps:\n",
    "            print(f\"Hit: {alignment.title}\")\n",
    "            print(f\"Score: {hsp.score}, E-value: {hsp.expect}\")\n"
   ]
  }
 ],
 "metadata": {
  "kernelspec": {
   "display_name": "Python 3 (ipykernel)",
   "language": "python",
   "name": "python3"
  },
  "language_info": {
   "codemirror_mode": {
    "name": "ipython",
    "version": 3
   },
   "file_extension": ".py",
   "mimetype": "text/x-python",
   "name": "python",
   "nbconvert_exporter": "python",
   "pygments_lexer": "ipython3",
   "version": "3.12.2"
  }
 },
 "nbformat": 4,
 "nbformat_minor": 5
}
