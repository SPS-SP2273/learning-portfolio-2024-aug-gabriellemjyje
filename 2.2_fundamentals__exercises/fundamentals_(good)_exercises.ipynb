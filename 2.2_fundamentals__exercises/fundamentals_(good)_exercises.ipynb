{
 "cells": [
  {
   "attachments": {},
   "cell_type": "markdown",
   "id": "123456",
   "metadata": {},
   "source": [
    "<div style=\"text-align:left;font-size:2em\"><span style=\"font-weight:bolder;font-size:1.25em\">SP2273 | Learning Portfolio</span><br><br><span style=\"font-weight:bold;color:darkred\">Fundamentals (Good) Exercises</span></div>"
   ]
  },
  {
   "cell_type": "markdown",
   "id": "56520741-8e14-4db7-97c9-228b09503805",
   "metadata": {},
   "source": [
    "# Exercise 1 (f-strings)"
   ]
  },
  {
   "cell_type": "markdown",
   "id": "5514e949-bdfa-4083-9aa1-a9d896220e92",
   "metadata": {},
   "source": [
    "## Task 1"
   ]
  },
  {
   "cell_type": "code",
   "execution_count": null,
   "id": "d704ef48-71b8-418b-93d4-ef70d494b305",
   "metadata": {},
   "outputs": [],
   "source": [
    "user_input = input('Please provide me with a number?')\n",
    "print('You entered', user_input)"
   ]
  },
  {
   "cell_type": "markdown",
   "id": "d2ce2c45-b15b-402a-9cef-d9008b21b198",
   "metadata": {},
   "source": [
    "## Task 2"
   ]
  },
  {
   "cell_type": "code",
   "execution_count": 1,
   "id": "5253ccb9-9f00-4b7a-8cf0-a2f136c06b8d",
   "metadata": {},
   "outputs": [
    {
     "ename": "SyntaxError",
     "evalue": "invalid syntax (3154233673.py, line 3)",
     "output_type": "error",
     "traceback": [
      "\u001b[0;36m  Cell \u001b[0;32mIn[1], line 3\u001b[0;36m\u001b[0m\n\u001b[0;31m    print('My name is', user_input_name, and I am, user_input_age, years old.)\u001b[0m\n\u001b[0m                                         ^\u001b[0m\n\u001b[0;31mSyntaxError\u001b[0m\u001b[0;31m:\u001b[0m invalid syntax\n"
     ]
    }
   ],
   "source": [
    "user_input_name = input('Please provide me with a name?')\n",
    "user_input_age = input('Please provide me with a number?')\n",
    "print('My name is', user_input_name, and I am, user_input_age, years old.)"
   ]
  },
  {
   "cell_type": "markdown",
   "id": "ab0b0383-cb0a-418f-a2a0-968f92314c6b",
   "metadata": {},
   "source": [
    "## Task 3 (pi in different numbers of decimal places)"
   ]
  },
  {
   "cell_type": "code",
   "execution_count": 7,
   "id": "6063ad2a-3f2e-444f-9dd2-4812a3924156",
   "metadata": {},
   "outputs": [],
   "source": [
    "pi = 3.141592653589793"
   ]
  },
  {
   "cell_type": "code",
   "execution_count": 9,
   "id": "95f8aead-83f4-4059-8a8b-a9a906e782c6",
   "metadata": {},
   "outputs": [
    {
     "name": "stdout",
     "output_type": "stream",
     "text": [
      "The value of pi to 2 decimal places is: 3.14.\n"
     ]
    }
   ],
   "source": [
    "twodp = f'{pi:.2f}'\n",
    "print(f\"The value of pi to 2 decimal places is: {twodp}.\")"
   ]
  },
  {
   "cell_type": "code",
   "execution_count": 11,
   "id": "dc562832-b4bb-498e-904f-c87560b55a65",
   "metadata": {},
   "outputs": [
    {
     "name": "stdout",
     "output_type": "stream",
     "text": [
      "The value of pi to 3 decimal places is: 3.142.\n"
     ]
    }
   ],
   "source": [
    "threedp = f'{pi:.3f}'\n",
    "print(f\"The value of pi to 3 decimal places is: {threedp}.\")"
   ]
  },
  {
   "cell_type": "code",
   "execution_count": 13,
   "id": "8f6fa0b6-cafc-44a6-8871-d58e01d07a16",
   "metadata": {},
   "outputs": [
    {
     "name": "stdout",
     "output_type": "stream",
     "text": [
      "The value of pi to 4 decimal places is: 3.1416.\n"
     ]
    }
   ],
   "source": [
    "fourdp = f'{pi:.4f}'\n",
    "print(f\"The value of pi to 4 decimal places is: {fourdp}.\")"
   ]
  },
  {
   "cell_type": "markdown",
   "id": "9c9b3a01-cea6-4e17-9255-308d59df0837",
   "metadata": {},
   "source": [
    "## Task 4 (Printout of prices)"
   ]
  },
  {
   "cell_type": "markdown",
   "id": "ee893b7f-1a1f-4088-abe1-037316c07fe2",
   "metadata": {},
   "source": [
    "|Fruit |Price|\n",
    "|:--:  |:--: |\n",
    "|Apple |\\\\$0.99|\n",
    "|Banana|\\\\$0.59|\n",
    "|Orange|\\\\$1.29|"
   ]
  },
  {
   "cell_type": "code",
   "execution_count": null,
   "id": "156d14c1-3d1e-4867-b03e-2ecb39386bc9",
   "metadata": {},
   "outputs": [],
   "source": [
    "text = \"Apple      $ 0.99\"\n",
    "print(f'{text:<15}')"
   ]
  },
  {
   "cell_type": "markdown",
   "id": "ce4805b5-1f80-4f5b-a14f-5f67ce73f146",
   "metadata": {},
   "source": [
    "# Exercise 2 (Grade calculator)"
   ]
  },
  {
   "cell_type": "markdown",
   "id": "f8e75e75-f30a-42f1-ad82-94ce8d055b19",
   "metadata": {},
   "source": [
    "# Exercise 3 (Debugging code)"
   ]
  },
  {
   "cell_type": "code",
   "execution_count": null,
   "id": "e303d147-e424-4c31-bd11-022e81addaf9",
   "metadata": {},
   "outputs": [],
   "source": []
  }
 ],
 "metadata": {
  "kernelspec": {
   "display_name": "Python 3 (ipykernel)",
   "language": "python",
   "name": "python3"
  },
  "language_info": {
   "codemirror_mode": {
    "name": "ipython",
    "version": 3
   },
   "file_extension": ".py",
   "mimetype": "text/x-python",
   "name": "python",
   "nbconvert_exporter": "python",
   "pygments_lexer": "ipython3",
   "version": "3.12.2"
  },
  "toc": {
   "base_numbering": 1,
   "nav_menu": {},
   "number_sections": true,
   "sideBar": true,
   "skip_h1_title": false,
   "title_cell": "Table of Contents",
   "title_sidebar": "Contents",
   "toc_cell": false,
   "toc_position": {},
   "toc_section_display": true,
   "toc_window_display": false
  },
  "vscode": {
   "interpreter": {
    "hash": "31f2aee4e71d21fbe5cf8b01ff0e069b9275f58929596ceb00d14d90e3e16cd6"
   }
  }
 },
 "nbformat": 4,
 "nbformat_minor": 5
}
