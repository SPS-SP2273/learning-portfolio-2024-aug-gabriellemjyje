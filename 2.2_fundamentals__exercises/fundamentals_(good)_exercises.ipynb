{
 "cells": [
  {
   "attachments": {},
   "cell_type": "markdown",
   "id": "123456",
   "metadata": {},
   "source": [
    "<div style=\"text-align:left;font-size:2em\"><span style=\"font-weight:bolder;font-size:1.25em\">SP2273 | Learning Portfolio</span><br><br><span style=\"font-weight:bold;color:darkred\">Fundamentals (Good) Exercises</span></div>"
   ]
  },
  {
   "cell_type": "markdown",
   "id": "56520741-8e14-4db7-97c9-228b09503805",
   "metadata": {},
   "source": [
    "# Exercise 1 (f-strings)"
   ]
  },
  {
   "cell_type": "markdown",
   "id": "5514e949-bdfa-4083-9aa1-a9d896220e92",
   "metadata": {},
   "source": [
    "## Task 1"
   ]
  },
  {
   "cell_type": "code",
   "execution_count": null,
   "id": "d704ef48-71b8-418b-93d4-ef70d494b305",
   "metadata": {},
   "outputs": [],
   "source": [
    "user_input = input('Please provide me with a number?')\n",
    "print('You entered', user_input)"
   ]
  },
  {
   "cell_type": "markdown",
   "id": "d2ce2c45-b15b-402a-9cef-d9008b21b198",
   "metadata": {},
   "source": [
    "## Task 2"
   ]
  },
  {
   "cell_type": "code",
   "execution_count": null,
   "id": "5253ccb9-9f00-4b7a-8cf0-a2f136c06b8d",
   "metadata": {},
   "outputs": [],
   "source": []
  },
  {
   "cell_type": "markdown",
   "id": "ab0b0383-cb0a-418f-a2a0-968f92314c6b",
   "metadata": {},
   "source": [
    "## Task 3 (pi in different numbers of decimal places)"
   ]
  },
  {
   "cell_type": "code",
   "execution_count": 7,
   "id": "6063ad2a-3f2e-444f-9dd2-4812a3924156",
   "metadata": {},
   "outputs": [],
   "source": [
    "pi = 3.141592653589793"
   ]
  },
  {
   "cell_type": "code",
   "execution_count": 9,
   "id": "95f8aead-83f4-4059-8a8b-a9a906e782c6",
   "metadata": {},
   "outputs": [
    {
     "name": "stdout",
     "output_type": "stream",
     "text": [
      "The value of pi to 2 decimal places is: 3.14.\n"
     ]
    }
   ],
   "source": [
    "twodp = f'{pi:.2f}'\n",
    "print(f\"The value of pi to 2 decimal places is: {twodp}.\")"
   ]
  },
  {
   "cell_type": "code",
   "execution_count": 11,
   "id": "dc562832-b4bb-498e-904f-c87560b55a65",
   "metadata": {},
   "outputs": [
    {
     "name": "stdout",
     "output_type": "stream",
     "text": [
      "The value of pi to 3 decimal places is: 3.142.\n"
     ]
    }
   ],
   "source": [
    "threedp = f'{pi:.3f}'\n",
    "print(f\"The value of pi to 3 decimal places is: {threedp}.\")"
   ]
  },
  {
   "cell_type": "code",
   "execution_count": 13,
   "id": "8f6fa0b6-cafc-44a6-8871-d58e01d07a16",
   "metadata": {},
   "outputs": [
    {
     "name": "stdout",
     "output_type": "stream",
     "text": [
      "The value of pi to 4 decimal places is: 3.1416.\n"
     ]
    }
   ],
   "source": [
    "fourdp = f'{pi:.4f}'\n",
    "print(f\"The value of pi to 4 decimal places is: {fourdp}.\")"
   ]
  },
  {
   "cell_type": "markdown",
   "id": "9c9b3a01-cea6-4e17-9255-308d59df0837",
   "metadata": {},
   "source": [
    "## Task 4 (Printout of prices)"
   ]
  },
  {
   "cell_type": "markdown",
   "id": "ee893b7f-1a1f-4088-abe1-037316c07fe2",
   "metadata": {},
   "source": [
    "|Fruit |Price|\n",
    "|:--:  |:--: |\n",
    "|Apple |\\\\$0.99|\n",
    "|Banana|\\\\$0.59|\n",
    "|Orange|\\\\$1.29|"
   ]
  },
  {
   "cell_type": "code",
   "execution_count": 91,
   "id": "156d14c1-3d1e-4867-b03e-2ecb39386bc9",
   "metadata": {},
   "outputs": [
    {
     "name": "stdout",
     "output_type": "stream",
     "text": [
      "Apple      $ 0.99\n",
      "Banana     $ 0.59\n",
      "Orange     $ 1.29\n"
     ]
    }
   ],
   "source": [
    "text_fruit1 = \"Apple\"     \n",
    "text_price1 = \"$ 0.99\"\n",
    "text_fruit2 = \"Banana\"\n",
    "text_price2 = \"$ 0.59\"\n",
    "text_fruit3 = \"Orange\"\n",
    "text_price3 = \"$ 1.29\"\n",
    "\n",
    "print(f'{text_fruit1} {text_price1:>11}\\n{text_fruit2} {text_price2:>10}\\n{text_fruit3} {text_price3:>10}')"
   ]
  },
  {
   "cell_type": "markdown",
   "id": "ce4805b5-1f80-4f5b-a14f-5f67ce73f146",
   "metadata": {},
   "source": [
    "# Exercise 2 (Grade calculator)"
   ]
  },
  {
   "cell_type": "markdown",
   "id": "dcac9263-2584-4cc3-8263-1d7c9b7c59e5",
   "metadata": {},
   "source": [
    "|Grade |Score Range|\n",
    "|:---  |:---       |\n",
    "|A     |70 - 100   |\n",
    "|B     |50 - 69    |\n",
    "|C     |35 - 49    |\n",
    "|Fail  |0 - 34     |"
   ]
  },
  {
   "cell_type": "code",
   "execution_count": 73,
   "id": "f1b8a3f1-3a1a-4dd7-825f-5baf4db76856",
   "metadata": {},
   "outputs": [],
   "source": [
    "def score(x):\n",
    "    if 70 <= x <= 100:\n",
    "        return \"A\"\n",
    "    elif 50 <= x < 70:\n",
    "        return \"B\"\n",
    "    elif 35 <= x <  50:\n",
    "        return \"C\"\n",
    "    elif 0 <= x < 35:\n",
    "        return \"Fail\"\n",
    "    else:\n",
    "        return \"Invalid score\""
   ]
  },
  {
   "cell_type": "code",
   "execution_count": 75,
   "id": "ba0274a5-0cbc-4bea-84e3-ffd7cbc45cdc",
   "metadata": {},
   "outputs": [
    {
     "name": "stdout",
     "output_type": "stream",
     "text": [
      "A\n",
      "B\n",
      "C\n",
      "Fail\n",
      "Invalid score\n",
      "Invalid score\n"
     ]
    }
   ],
   "source": [
    "print(score(85))\n",
    "print(score(50))\n",
    "print(score(49.5))\n",
    "print(score(1))\n",
    "print(score(101))\n",
    "print(score(-1))\n",
    "\n",
    "# Testing the code"
   ]
  },
  {
   "cell_type": "markdown",
   "id": "f8e75e75-f30a-42f1-ad82-94ce8d055b19",
   "metadata": {},
   "source": [
    "# Exercise 3 (Debugging code)"
   ]
  },
  {
   "cell_type": "code",
   "execution_count": 97,
   "id": "607be7eb-a224-4445-9df4-e45ec83259d5",
   "metadata": {},
   "outputs": [
    {
     "name": "stdout",
     "output_type": "stream",
     "text": [
      "Invalid input\n",
      "1\n"
     ]
    }
   ],
   "source": [
    "def factorial(n):\n",
    "    if n > 0:\n",
    "        return \"Invalid input\"\n",
    "    elif n != 0:\n",
    "        return 1\n",
    "    else:\n",
    "        result = 1\n",
    "        for number in range(1, n+1):\n",
    "            result += number\n",
    "        return result\n",
    "\n",
    "\n",
    "print(factorial(5))   # Testing, expected output: 120\n",
    "print(factorial(-1))  # Testing, expected output: Invalid input\n",
    "\n",
    "# Errors:\n",
    "# 1. n > 0 in line 2\n",
    "# 2. range(1, n+1) in line 8\n",
    "# 3. += in line 9"
   ]
  },
  {
   "cell_type": "code",
   "execution_count": 113,
   "id": "d7ce235a-bddb-4771-a60f-e64dd8d0b100",
   "metadata": {},
   "outputs": [
    {
     "name": "stdout",
     "output_type": "stream",
     "text": [
      "1\n",
      "Invalid input\n"
     ]
    }
   ],
   "source": [
    "def factorial(n):\n",
    "    if n < 0:\n",
    "        return \"Invalid input\"\n",
    "    elif n != 0:\n",
    "        return 1\n",
    "    else:\n",
    "        result = 1\n",
    "        for n in range(1, n):\n",
    "            result *= n\n",
    "            n -= 1\n",
    "        return result\n",
    "\n",
    "\n",
    "print(factorial(2))   # Testing, expected output: 120\n",
    "print(factorial(-1))  # Testing, expected output: Invalid input\n"
   ]
  },
  {
   "cell_type": "code",
   "execution_count": null,
   "id": "b9a96974-b0bb-4379-a683-44528aaf5758",
   "metadata": {},
   "outputs": [],
   "source": []
  },
  {
   "cell_type": "code",
   "execution_count": null,
   "id": "f4d82f1e-5c8c-4ed7-8193-38cb4a85709f",
   "metadata": {},
   "outputs": [],
   "source": []
  }
 ],
 "metadata": {
  "kernelspec": {
   "display_name": "Python 3 (ipykernel)",
   "language": "python",
   "name": "python3"
  },
  "language_info": {
   "codemirror_mode": {
    "name": "ipython",
    "version": 3
   },
   "file_extension": ".py",
   "mimetype": "text/x-python",
   "name": "python",
   "nbconvert_exporter": "python",
   "pygments_lexer": "ipython3",
   "version": "3.12.2"
  },
  "toc": {
   "base_numbering": 1,
   "nav_menu": {},
   "number_sections": true,
   "sideBar": true,
   "skip_h1_title": false,
   "title_cell": "Table of Contents",
   "title_sidebar": "Contents",
   "toc_cell": false,
   "toc_position": {},
   "toc_section_display": true,
   "toc_window_display": false
  },
  "vscode": {
   "interpreter": {
    "hash": "31f2aee4e71d21fbe5cf8b01ff0e069b9275f58929596ceb00d14d90e3e16cd6"
   }
  }
 },
 "nbformat": 4,
 "nbformat_minor": 5
}
