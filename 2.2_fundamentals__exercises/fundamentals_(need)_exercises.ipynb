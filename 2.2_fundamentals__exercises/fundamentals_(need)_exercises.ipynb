{
 "cells": [
  {
   "attachments": {},
   "cell_type": "markdown",
   "id": "123456",
   "metadata": {},
   "source": [
    "<div style=\"text-align:left;font-size:2em\"><span style=\"font-weight:bolder;font-size:1.25em\">SP2273 | Learning Portfolio</span><br><br><span style=\"font-weight:bold;color:darkred\">Fundamentals (Need) Exercises</span></div>"
   ]
  },
  {
   "cell_type": "markdown",
   "id": "62c5a2ef-7a01-4b18-af3d-f110698aafe8",
   "metadata": {},
   "source": [
    "# Exercise 1 (Recalling Python features)"
   ]
  },
  {
   "cell_type": "markdown",
   "id": "52f72606-0b04-4e44-b26f-18ff8a4e8815",
   "metadata": {},
   "source": [
    "1. Python is interpreted by an interprator that works on commands one by one.\n",
    "2. Python is case-sensitive.\n",
    "3. Packages can be imported into Python.\n",
    "4. Python has built-in funcions like \"print()\".\n",
    "5. Indentations are crucial in Python.\n",
    "6. There are 3 types of brackets used: () is used for mathematics, [] is used for lists and {} is used for dictionaries.\n",
    "7. Comments can be added into cells, which do not affect the code written in the cells.\n",
    "8. *\"\"=\"\" and \"\"==\"\" are different; \"=\" means \"equals\", \"==\" is used to check if something is equal.*\n",
    "9. *\"if\" can be used to make decisions; If the condition stated is true, a command is executed.*\n",
    "10. *In functions, arguments in inverted commas (\"\" or '') are English words while arguments without any inverted commas are variables.*\n",
    "11. *\".\" is used to indicate that a function belongs to an imported package.*"
   ]
  },
  {
   "cell_type": "markdown",
   "id": "1313963a-6d06-42ec-93c3-d2978ba17364",
   "metadata": {},
   "source": [
    "# Exercise 2 (Debugging code)"
   ]
  },
  {
   "cell_type": "code",
   "execution_count": 1,
   "id": "7790009b-8fe4-4b31-9960-17ad64e4eb52",
   "metadata": {},
   "outputs": [
    {
     "ename": "NameError",
     "evalue": "name 'sqrt' is not defined",
     "output_type": "error",
     "traceback": [
      "\u001b[0;31m---------------------------------------------------------------------------\u001b[0m",
      "\u001b[0;31mNameError\u001b[0m                                 Traceback (most recent call last)",
      "Cell \u001b[0;32mIn[1], line 2\u001b[0m\n\u001b[1;32m      1\u001b[0m x, y \u001b[38;5;241m=\u001b[39m \u001b[38;5;241m3\u001b[39m, \u001b[38;5;241m4\u001b[39m\n\u001b[0;32m----> 2\u001b[0m z \u001b[38;5;241m=\u001b[39m \u001b[43msqrt\u001b[49m(x\u001b[38;5;241m*\u001b[39m\u001b[38;5;241m2\u001b[39m \u001b[38;5;241m+\u001b[39m y\u001b[38;5;241m*\u001b[39m\u001b[38;5;241m2\u001b[39m)\n\u001b[1;32m      3\u001b[0m Print(x,y,z)\n",
      "\u001b[0;31mNameError\u001b[0m: name 'sqrt' is not defined"
     ]
    }
   ],
   "source": [
    "x, y = 3, 4\n",
    "z = sqrt(x*2 + y**2)\n",
    "Print(x,y,z)\n",
    "\n",
    "# Wrong code"
   ]
  },
  {
   "cell_type": "code",
   "execution_count": 10,
   "id": "33f08486-fde9-4851-8d75-776b5f071a46",
   "metadata": {},
   "outputs": [],
   "source": [
    "import math"
   ]
  },
  {
   "cell_type": "code",
   "execution_count": 24,
   "id": "96cd2cfa-c8ff-43a1-a886-a9e636a08d32",
   "metadata": {},
   "outputs": [
    {
     "name": "stdout",
     "output_type": "stream",
     "text": [
      "3 4 5.0\n"
     ]
    }
   ],
   "source": [
    "x, y = 3, 4\n",
    "z = math.sqrt(x**2 + y**2)\n",
    "print(x,y,z)\n",
    "\n",
    "# Fixed code"
   ]
  },
  {
   "cell_type": "markdown",
   "id": "bf50d23d-623f-4595-ad85-3ecc6734e49a",
   "metadata": {},
   "source": [
    "# Exercise 3 (Description of Python terms)"
   ]
  },
  {
   "cell_type": "markdown",
   "id": "98461978-81c8-45de-8b74-708e52367405",
   "metadata": {},
   "source": [
    "|#   |Term        |Description|\n",
    "|:--:|:---        |:--:       |\n",
    "|1   |Function    |It carries out a particular task (e.g., \"print()\" function prints arguments on the screen).|\n",
    "|2   |Arguments   |An argument is the input to a function, resulting in an output.|\n",
    "|3   |Comments    |They are remarks that one can add in a cell without affecting any code written as the interpretor disregards all comments.|\n",
    "|4   |Indentations|They are spaces and the presence or absence of them may cause a code to not work.|\n",
    "|5   |Packages    |They are additional functions that are not included in Python but can be imported into Python.|\n",
    "|6   |.           |It is used to indicate that a function is from an imported package.|\n",
    "|7   |:           |It is used to indicate the beginning of a new part of the code, such as a loop (for, while), statement (if) or function.|\n",
    "|8   |[]          |It is used to contain elements in a list.|\n",
    "|9   |[[], []]    |It is used to include multiple individual lists in an overall list.|\n",
    "|10  |{}          |It is used to contain data in a dictionary, which stores pairs of a key and a value.|"
   ]
  },
  {
   "cell_type": "markdown",
   "id": "956aba7e-9384-4eb8-ae21-84bd548ebfd7",
   "metadata": {},
   "source": [
    "# Exercise 4 (Multiple ways of dividing)"
   ]
  },
  {
   "cell_type": "code",
   "execution_count": 2,
   "id": "e4a52253-27e4-400c-a392-eb75f389021d",
   "metadata": {},
   "outputs": [
    {
     "data": {
      "text/plain": [
       "0.5"
      ]
     },
     "execution_count": 2,
     "metadata": {},
     "output_type": "execute_result"
    }
   ],
   "source": [
    "1/2"
   ]
  },
  {
   "cell_type": "code",
   "execution_count": 3,
   "id": "ac904dec-b39a-45cd-a66f-303a77d9d8a1",
   "metadata": {},
   "outputs": [
    {
     "data": {
      "text/plain": [
       "1.5"
      ]
     },
     "execution_count": 3,
     "metadata": {},
     "output_type": "execute_result"
    }
   ],
   "source": [
    "3/2"
   ]
  },
  {
   "cell_type": "code",
   "execution_count": 4,
   "id": "9c9c45ff-068d-4fd3-887d-ee5a3e350991",
   "metadata": {},
   "outputs": [
    {
     "data": {
      "text/plain": [
       "0"
      ]
     },
     "execution_count": 4,
     "metadata": {},
     "output_type": "execute_result"
    }
   ],
   "source": [
    "1//2"
   ]
  },
  {
   "cell_type": "code",
   "execution_count": 5,
   "id": "79a76d5c-2b58-424f-98bc-21bda93c56e5",
   "metadata": {},
   "outputs": [
    {
     "data": {
      "text/plain": [
       "1"
      ]
     },
     "execution_count": 5,
     "metadata": {},
     "output_type": "execute_result"
    }
   ],
   "source": [
    "3//2"
   ]
  },
  {
   "cell_type": "code",
   "execution_count": 7,
   "id": "230139bb-f104-44fb-a589-dd654e16642f",
   "metadata": {},
   "outputs": [
    {
     "data": {
      "text/plain": [
       "3"
      ]
     },
     "execution_count": 7,
     "metadata": {},
     "output_type": "execute_result"
    }
   ],
   "source": [
    "7//2"
   ]
  },
  {
   "cell_type": "code",
   "execution_count": 8,
   "id": "a73edc08-1b33-4d8a-aff3-9f4cba214a51",
   "metadata": {},
   "outputs": [
    {
     "data": {
      "text/plain": [
       "3"
      ]
     },
     "execution_count": 8,
     "metadata": {},
     "output_type": "execute_result"
    }
   ],
   "source": [
    "9//3"
   ]
  },
  {
   "cell_type": "code",
   "execution_count": 9,
   "id": "05e3d8c6-061e-4dc1-8f8c-9f3a01fcec9d",
   "metadata": {},
   "outputs": [
    {
     "data": {
      "text/plain": [
       "2"
      ]
     },
     "execution_count": 9,
     "metadata": {},
     "output_type": "execute_result"
    }
   ],
   "source": [
    "4//2"
   ]
  },
  {
   "cell_type": "code",
   "execution_count": 11,
   "id": "d91da296-6598-4df8-9fba-62477d430f35",
   "metadata": {},
   "outputs": [
    {
     "data": {
      "text/plain": [
       "0"
      ]
     },
     "execution_count": 11,
     "metadata": {},
     "output_type": "execute_result"
    }
   ],
   "source": [
    "6%2"
   ]
  },
  {
   "cell_type": "code",
   "execution_count": 12,
   "id": "bdfc2809-1c13-44e0-a16b-aa471d34a19a",
   "metadata": {},
   "outputs": [
    {
     "data": {
      "text/plain": [
       "1"
      ]
     },
     "execution_count": 12,
     "metadata": {},
     "output_type": "execute_result"
    }
   ],
   "source": [
    "7%2"
   ]
  },
  {
   "cell_type": "code",
   "execution_count": 13,
   "id": "8349dccb-1aa6-4321-9564-05c1042646a7",
   "metadata": {},
   "outputs": [
    {
     "data": {
      "text/plain": [
       "1"
      ]
     },
     "execution_count": 13,
     "metadata": {},
     "output_type": "execute_result"
    }
   ],
   "source": [
    "7%3"
   ]
  },
  {
   "cell_type": "code",
   "execution_count": 14,
   "id": "7680e163-3077-4f27-9515-7a430c3df361",
   "metadata": {},
   "outputs": [
    {
     "data": {
      "text/plain": [
       "0"
      ]
     },
     "execution_count": 14,
     "metadata": {},
     "output_type": "execute_result"
    }
   ],
   "source": [
    "10%5"
   ]
  },
  {
   "cell_type": "code",
   "execution_count": 15,
   "id": "ed188a12-444a-4425-833e-b5c5ac6c7e27",
   "metadata": {},
   "outputs": [
    {
     "data": {
      "text/plain": [
       "0"
      ]
     },
     "execution_count": 15,
     "metadata": {},
     "output_type": "execute_result"
    }
   ],
   "source": [
    "15%5"
   ]
  },
  {
   "cell_type": "code",
   "execution_count": 21,
   "id": "a33474c3-d388-40c1-a61a-f02558219a17",
   "metadata": {},
   "outputs": [
    {
     "data": {
      "text/plain": [
       "2.5"
      ]
     },
     "execution_count": 21,
     "metadata": {},
     "output_type": "execute_result"
    }
   ],
   "source": [
    "5/2\n",
    "\n",
    "# It carries out division."
   ]
  },
  {
   "cell_type": "code",
   "execution_count": 22,
   "id": "a7ce5caf-0188-4302-9666-64284d0b2749",
   "metadata": {},
   "outputs": [
    {
     "data": {
      "text/plain": [
       "2"
      ]
     },
     "execution_count": 22,
     "metadata": {},
     "output_type": "execute_result"
    }
   ],
   "source": [
    "5//2\n",
    "\n",
    "# It carries out division but disregards the remainder, resulting in only integer answers."
   ]
  },
  {
   "cell_type": "code",
   "execution_count": 23,
   "id": "62b946e4-2def-4f88-9758-64798d081862",
   "metadata": {
    "scrolled": true
   },
   "outputs": [
    {
     "data": {
      "text/plain": [
       "1"
      ]
     },
     "execution_count": 23,
     "metadata": {},
     "output_type": "execute_result"
    }
   ],
   "source": [
    "5%2\n",
    "\n",
    "# It results in the remainder obtained from division."
   ]
  }
 ],
 "metadata": {
  "kernelspec": {
   "display_name": "Python 3 (ipykernel)",
   "language": "python",
   "name": "python3"
  },
  "language_info": {
   "codemirror_mode": {
    "name": "ipython",
    "version": 3
   },
   "file_extension": ".py",
   "mimetype": "text/x-python",
   "name": "python",
   "nbconvert_exporter": "python",
   "pygments_lexer": "ipython3",
   "version": "3.12.2"
  },
  "toc": {
   "base_numbering": 1,
   "nav_menu": {},
   "number_sections": true,
   "sideBar": true,
   "skip_h1_title": false,
   "title_cell": "Table of Contents",
   "title_sidebar": "Contents",
   "toc_cell": false,
   "toc_position": {},
   "toc_section_display": true,
   "toc_window_display": false
  },
  "vscode": {
   "interpreter": {
    "hash": "31f2aee4e71d21fbe5cf8b01ff0e069b9275f58929596ceb00d14d90e3e16cd6"
   }
  }
 },
 "nbformat": 4,
 "nbformat_minor": 5
}
