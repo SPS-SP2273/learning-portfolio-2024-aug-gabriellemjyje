{
 "cells": [
  {
   "attachments": {},
   "cell_type": "markdown",
   "id": "123456",
   "metadata": {},
   "source": [
    "<div style=\"text-align:left;font-size:2em\"><span style=\"font-weight:bolder;font-size:1.25em\">SP2273 | Learning Portfolio</span><br><br><span style=\"font-weight:bold;color:darkred\">Files, Folders & OS (Need)</span></div>"
   ]
  },
  {
   "cell_type": "code",
   "execution_count": 2,
   "id": "a862f5a7-9c44-4540-8b35-7ecc498fb627",
   "metadata": {},
   "outputs": [],
   "source": [
    "import os, glob, shutil"
   ]
  },
  {
   "attachments": {},
   "cell_type": "markdown",
   "id": "26c08363",
   "metadata": {},
   "source": [
    "# Important concepts"
   ]
  },
  {
   "attachments": {},
   "cell_type": "markdown",
   "id": "284838c1",
   "metadata": {},
   "source": [
    "## Path"
   ]
  },
  {
   "attachments": {},
   "cell_type": "markdown",
   "id": "334656b8",
   "metadata": {},
   "source": [
    "## More about relative paths"
   ]
  },
  {
   "attachments": {},
   "cell_type": "markdown",
   "id": "1386fd07",
   "metadata": {},
   "source": [
    "### macOS or Linux"
   ]
  },
  {
   "cell_type": "code",
   "execution_count": null,
   "id": "0a3c82f9",
   "metadata": {},
   "outputs": [],
   "source": [
    "\n",
    "# Your code here\n"
   ]
  },
  {
   "attachments": {},
   "cell_type": "markdown",
   "id": "2b6278a2",
   "metadata": {},
   "source": [
    "## Path separator"
   ]
  },
  {
   "cell_type": "code",
   "execution_count": 3,
   "id": "e76e761a-ac5e-4fc3-adcf-8a490e8ab095",
   "metadata": {},
   "outputs": [
    {
     "data": {
      "text/plain": [
       "'/'"
      ]
     },
     "execution_count": 3,
     "metadata": {},
     "output_type": "execute_result"
    }
   ],
   "source": [
    "os.path.sep \n",
    "\n",
    "# Check what part separator your computer uses"
   ]
  },
  {
   "attachments": {},
   "cell_type": "markdown",
   "id": "f702329f",
   "metadata": {},
   "source": [
    "## Text files vs. Binary files"
   ]
  },
  {
   "attachments": {},
   "cell_type": "markdown",
   "id": "25badbc8",
   "metadata": {},
   "source": [
    "## Extensions"
   ]
  },
  {
   "attachments": {},
   "cell_type": "markdown",
   "id": "8e0a2fbf",
   "metadata": {},
   "source": [
    "# Opening and closing files"
   ]
  },
  {
   "attachments": {},
   "cell_type": "markdown",
   "id": "36cd0e24",
   "metadata": {},
   "source": [
    "## Reading data"
   ]
  },
  {
   "cell_type": "code",
   "execution_count": 16,
   "id": "01149887-8c55-4d2e-ab1b-d5642bc51f7f",
   "metadata": {
    "scrolled": true
   },
   "outputs": [
    {
     "name": "stdout",
     "output_type": "stream",
     "text": [
      "{\n",
      " \"cells\": [\n",
      "  {\n",
      "   \"attachments\": {},\n",
      "   \"cell_type\": \"markdown\",\n",
      "   \"id\": \"123456\",\n",
      "   \"metadata\": {},\n",
      "   \"source\": [\n",
      "    \"<div style=\\\"text-align:left;font-size:2em\\\"><span style=\\\"font-weight:bolder;font-size:1.25em\\\">SP2273 | Learning Portfolio</span><br><br><span style=\\\"font-weight:bold;color:darkred\\\">Files, Folders & OS (Need)</span></div>\"\n",
      "   ]\n",
      "  },\n",
      "  {\n",
      "   \"cell_type\": \"code\",\n",
      "   \"execution_count\": 2,\n",
      "   \"id\": \"a862f5a7-9c44-4540-8b35-7ecc498fb627\",\n",
      "   \"metadata\": {},\n",
      "   \"outputs\": [],\n",
      "   \"source\": [\n",
      "    \"import os, glob, shutil\"\n",
      "   ]\n",
      "  },\n",
      "  {\n",
      "   \"attachments\": {},\n",
      "   \"cell_type\": \"markdown\",\n",
      "   \"id\": \"26c08363\",\n",
      "   \"metadata\": {},\n",
      "   \"source\": [\n",
      "    \"# Important concepts\"\n",
      "   ]\n",
      "  },\n",
      "  {\n",
      "   \"attachments\": {},\n",
      "   \"cell_type\": \"markdown\",\n",
      "   \"id\": \"284838c1\",\n",
      "   \"metadata\": {},\n",
      "   \"source\": [\n",
      "    \"## Path\"\n",
      "   ]\n",
      "  },\n",
      "  {\n",
      "   \"attachments\": {},\n",
      "   \"cell_type\": \"markdown\",\n",
      "   \"id\": \"334656b8\",\n",
      "   \"metadata\": {},\n",
      "   \"source\": [\n",
      "    \"## More about relative paths\"\n",
      "   ]\n",
      "  },\n",
      "  {\n",
      "   \"attachments\": {},\n",
      "   \"cell_type\": \"markdown\",\n",
      "   \"id\": \"1386fd07\",\n",
      "   \"metadata\": {},\n",
      "   \"source\": [\n",
      "    \"### macOS or Linux\"\n",
      "   ]\n",
      "  },\n",
      "  {\n",
      "   \"cell_type\": \"code\",\n",
      "   \"execution_count\": null,\n",
      "   \"id\": \"0a3c82f9\",\n",
      "   \"metadata\": {},\n",
      "   \"outputs\": [],\n",
      "   \"source\": [\n",
      "    \"\\n\",\n",
      "    \"# Your code here\\n\"\n",
      "   ]\n",
      "  },\n",
      "  {\n",
      "   \"attachments\": {},\n",
      "   \"cell_type\": \"markdown\",\n",
      "   \"id\": \"2b6278a2\",\n",
      "   \"metadata\": {},\n",
      "   \"source\": [\n",
      "    \"## Path separator\"\n",
      "   ]\n",
      "  },\n",
      "  {\n",
      "   \"cell_type\": \"code\",\n",
      "   \"execution_count\": 3,\n",
      "   \"id\": \"e76e761a-ac5e-4fc3-adcf-8a490e8ab095\",\n",
      "   \"metadata\": {},\n",
      "   \"outputs\": [\n",
      "    {\n",
      "     \"data\": {\n",
      "      \"text/plain\": [\n",
      "       \"'/'\"\n",
      "      ]\n",
      "     },\n",
      "     \"execution_count\": 3,\n",
      "     \"metadata\": {},\n",
      "     \"output_type\": \"execute_result\"\n",
      "    }\n",
      "   ],\n",
      "   \"source\": [\n",
      "    \"os.path.sep \\n\",\n",
      "    \"\\n\",\n",
      "    \"# Check what part separator your computer uses\"\n",
      "   ]\n",
      "  },\n",
      "  {\n",
      "   \"attachments\": {},\n",
      "   \"cell_type\": \"markdown\",\n",
      "   \"id\": \"f702329f\",\n",
      "   \"metadata\": {},\n",
      "   \"source\": [\n",
      "    \"## Text files vs. Binary files\"\n",
      "   ]\n",
      "  },\n",
      "  {\n",
      "   \"attachments\": {},\n",
      "   \"cell_type\": \"markdown\",\n",
      "   \"id\": \"25badbc8\",\n",
      "   \"metadata\": {},\n",
      "   \"source\": [\n",
      "    \"## Extensions\"\n",
      "   ]\n",
      "  },\n",
      "  {\n",
      "   \"attachments\": {},\n",
      "   \"cell_type\": \"markdown\",\n",
      "   \"id\": \"8e0a2fbf\",\n",
      "   \"metadata\": {},\n",
      "   \"source\": [\n",
      "    \"# Opening and closing files\"\n",
      "   ]\n",
      "  },\n",
      "  {\n",
      "   \"attachments\": {},\n",
      "   \"cell_type\": \"markdown\",\n",
      "   \"id\": \"36cd0e24\",\n",
      "   \"metadata\": {},\n",
      "   \"source\": [\n",
      "    \"## Reading data\"\n",
      "   ]\n",
      "  },\n",
      "  {\n",
      "   \"cell_type\": \"code\",\n",
      "   \"execution_count\": 15,\n",
      "   \"id\": \"01149887-8c55-4d2e-ab1b-d5642bc51f7f\",\n",
      "   \"metadata\": {},\n",
      "   \"outputs\": [\n",
      "    {\n",
      "     \"ename\": \"SyntaxError\",\n",
      "     \"evalue\": \"unterminated string literal (detected at line 1) (762858814.py, line 1)\",\n",
      "     \"output_type\": \"error\",\n",
      "     \"traceback\": [\n",
      "      \"\\u001b[0;36m  Cell \\u001b[0;32mIn[15], line 1\\u001b[0;36m\\u001b[0m\\n\\u001b[0;31m    with open('files,_folders_&_os_(need).ipynb, 'r') as file:\\u001b[0m\\n\\u001b[0m                                                  ^\\u001b[0m\\n\\u001b[0;31mSyntaxError\\u001b[0m\\u001b[0;31m:\\u001b[0m unterminated string literal (detected at line 1)\\n\"\n",
      "     ]\n",
      "    }\n",
      "   ],\n",
      "   \"source\": [\n",
      "    \"with open('files,_folders_&_os_(need).ipynb, 'r') as file:\\n\",\n",
      "    \"    filetext = file.read()\\n\",\n",
      "    \"\\n\",\n",
      "    \"print(filetext)\\n\",\n",
      "    \"\\n\",\n",
      "    \"# USE 'r' for READING\"\n",
      "   ]\n",
      "  },\n",
      "  {\n",
      "   \"attachments\": {},\n",
      "   \"cell_type\": \"markdown\",\n",
      "   \"id\": \"1a962788\",\n",
      "   \"metadata\": {},\n",
      "   \"source\": [\n",
      "    \"## Writing data\"\n",
      "   ]\n",
      "  },\n",
      "  {\n",
      "   \"attachments\": {},\n",
      "   \"cell_type\": \"markdown\",\n",
      "   \"id\": \"6908c4df\",\n",
      "   \"metadata\": {},\n",
      "   \"source\": [\n",
      "    \"### Writing to a file in one go\"\n",
      "   ]\n",
      "  },\n",
      "  {\n",
      "   \"cell_type\": \"code\",\n",
      "   \"execution_count\": null,\n",
      "   \"id\": \"66e3f086\",\n",
      "   \"metadata\": {},\n",
      "   \"outputs\": [],\n",
      "   \"source\": [\n",
      "    \"\\n\",\n",
      "    \"# Your code here\\n\"\n",
      "   ]\n",
      "  },\n",
      "  {\n",
      "   \"attachments\": {},\n",
      "   \"cell_type\": \"markdown\",\n",
      "   \"id\": \"d69ef50b\",\n",
      "   \"metadata\": {},\n",
      "   \"source\": [\n",
      "    \"### Writing to a file, line by line\"\n",
      "   ]\n",
      "  },\n",
      "  {\n",
      "   \"cell_type\": \"code\",\n",
      "   \"execution_count\": null,\n",
      "   \"id\": \"d7659bb7\",\n",
      "   \"metadata\": {},\n",
      "   \"outputs\": [],\n",
      "   \"source\": [\n",
      "    \"\\n\",\n",
      "    \"# Your code here\\n\"\n",
      "   ]\n",
      "  },\n",
      "  {\n",
      "   \"attachments\": {},\n",
      "   \"cell_type\": \"markdown\",\n",
      "   \"id\": \"07c91358\",\n",
      "   \"metadata\": {},\n",
      "   \"source\": [\n",
      "    \"# Some useful packages\"\n",
      "   ]\n",
      "  },\n",
      "  {\n",
      "   \"attachments\": {},\n",
      "   \"cell_type\": \"markdown\",\n",
      "   \"id\": \"dfe9b967\",\n",
      "   \"metadata\": {},\n",
      "   \"source\": [\n",
      "    \"# OS safe paths\"\n",
      "   ]\n",
      "  },\n",
      "  {\n",
      "   \"attachments\": {},\n",
      "   \"cell_type\": \"markdown\",\n",
      "   \"id\": \"6de094a6\",\n",
      "   \"metadata\": {},\n",
      "   \"source\": [\n",
      "    \"# Folders\"\n",
      "   ]\n",
      "  },\n",
      "  {\n",
      "   \"attachments\": {},\n",
      "   \"cell_type\": \"markdown\",\n",
      "   \"id\": \"91e96575\",\n",
      "   \"metadata\": {},\n",
      "   \"source\": [\n",
      "    \"## Creating folders\"\n",
      "   ]\n",
      "  },\n",
      "  {\n",
      "   \"attachments\": {},\n",
      "   \"cell_type\": \"markdown\",\n",
      "   \"id\": \"8331188a\",\n",
      "   \"metadata\": {},\n",
      "   \"source\": [\n",
      "    \"## Checking for existence\"\n",
      "   ]\n",
      "  },\n",
      "  {\n",
      "   \"cell_type\": \"code\",\n",
      "   \"execution_count\": 6,\n",
      "   \"id\": \"075e852f-76d7-4fdd-890a-981f38a8c0ed\",\n",
      "   \"metadata\": {},\n",
      "   \"outputs\": [\n",
      "    {\n",
      "     \"data\": {\n",
      "      \"text/plain\": [\n",
      "       \"True\"\n",
      "      ]\n",
      "     },\n",
      "     \"execution_count\": 6,\n",
      "     \"metadata\": {},\n",
      "     \"output_type\": \"execute_result\"\n",
      "    }\n",
      "   ],\n",
      "   \"source\": [\n",
      "    \"os.path.exists('/Users/gabrielle/Documents/GitHub/learning-portfolio-2024-aug-gabriellemjyje/4.1_loops')\\n\",\n",
      "    \"\\n\",\n",
      "    \"# Checking if file exists\"\n",
      "   ]\n",
      "  },\n",
      "  {\n",
      "   \"cell_type\": \"code\",\n",
      "   \"execution_count\": 7,\n",
      "   \"id\": \"dcf6bec3-67f8-460c-a2c3-e1b85f6fa60d\",\n",
      "   \"metadata\": {},\n",
      "   \"outputs\": [\n",
      "    {\n",
      "     \"data\": {\n",
      "      \"text/plain\": [\n",
      "       \"True\"\n",
      "      ]\n",
      "     },\n",
      "     \"execution_count\": 7,\n",
      "     \"metadata\": {},\n",
      "     \"output_type\": \"execute_result\"\n",
      "    }\n",
      "   ],\n",
      "   \"source\": [\n",
      "    \"loops = '/Users/gabrielle/Documents/GitHub/learning-portfolio-2024-aug-gabriellemjyje/4.1_loops'\\n\",\n",
      "    \"os.path.exists(loops)\"\n",
      "   ]\n",
      "  },\n",
      "  {\n",
      "   \"cell_type\": \"code\",\n",
      "   \"execution_count\": 8,\n",
      "   \"id\": \"fc987c71-6583-4e7c-82f2-1e260878cbb1\",\n",
      "   \"metadata\": {},\n",
      "   \"outputs\": [\n",
      "    {\n",
      "     \"data\": {\n",
      "      \"text/plain\": [\n",
      "       \"True\"\n",
      "      ]\n",
      "     },\n",
      "     \"execution_count\": 8,\n",
      "     \"metadata\": {},\n",
      "     \"output_type\": \"execute_result\"\n",
      "    }\n",
      "   ],\n",
      "   \"source\": [\n",
      "    \"os.path.exists('files,_folders_&_os_(need).ipynb')\"\n",
      "   ]\n",
      "  },\n",
      "  {\n",
      "   \"cell_type\": \"code\",\n",
      "   \"execution_count\": 9,\n",
      "   \"id\": \"64afcafa-344c-4594-ad3a-9434cd3e402e\",\n",
      "   \"metadata\": {},\n",
      "   \"outputs\": [\n",
      "    {\n",
      "     \"data\": {\n",
      "      \"text/plain\": [\n",
      "       \"False\"\n",
      "      ]\n",
      "     },\n",
      "     \"execution_count\": 9,\n",
      "     \"metadata\": {},\n",
      "     \"output_type\": \"execute_result\"\n",
      "    }\n",
      "   ],\n",
      "   \"source\": [\n",
      "    \"os.path.exists('nihao')\"\n",
      "   ]\n",
      "  },\n",
      "  {\n",
      "   \"attachments\": {},\n",
      "   \"cell_type\": \"markdown\",\n",
      "   \"id\": \"2d326e3a\",\n",
      "   \"metadata\": {},\n",
      "   \"source\": [\n",
      "    \"### Using try-except\"\n",
      "   ]\n",
      "  },\n",
      "  {\n",
      "   \"cell_type\": \"code\",\n",
      "   \"execution_count\": null,\n",
      "   \"id\": \"7a524254\",\n",
      "   \"metadata\": {},\n",
      "   \"outputs\": [],\n",
      "   \"source\": [\n",
      "    \"\\n\",\n",
      "    \"# Your code here\\n\"\n",
      "   ]\n",
      "  },\n",
      "  {\n",
      "   \"attachments\": {},\n",
      "   \"cell_type\": \"markdown\",\n",
      "   \"id\": \"e2efd8e9\",\n",
      "   \"metadata\": {},\n",
      "   \"source\": [\n",
      "    \"### Using os.path.exists()\"\n",
      "   ]\n",
      "  },\n",
      "  {\n",
      "   \"cell_type\": \"code\",\n",
      "   \"execution_count\": null,\n",
      "   \"id\": \"b737db86\",\n",
      "   \"metadata\": {},\n",
      "   \"outputs\": [],\n",
      "   \"source\": [\n",
      "    \"\\n\",\n",
      "    \"# Your code here\\n\"\n",
      "   ]\n",
      "  },\n",
      "  {\n",
      "   \"attachments\": {},\n",
      "   \"cell_type\": \"markdown\",\n",
      "   \"id\": \"2b8375e5\",\n",
      "   \"metadata\": {},\n",
      "   \"source\": [\n",
      "    \"## Copying files\"\n",
      "   ]\n",
      "  },\n",
      "  {\n",
      "   \"attachments\": {},\n",
      "   \"cell_type\": \"markdown\",\n",
      "   \"id\": \"4c89bf2c\",\n",
      "   \"metadata\": {},\n",
      "   \"source\": [\n",
      "    \"# Listing and looking for files\"\n",
      "   ]\n",
      "  },\n",
      "  {\n",
      "   \"attachments\": {},\n",
      "   \"cell_type\": \"markdown\",\n",
      "   \"id\": \"e259eb0f\",\n",
      "   \"metadata\": {},\n",
      "   \"source\": [\n",
      "    \"# Extracting file info\"\n",
      "   ]\n",
      "  },\n",
      "  {\n",
      "   \"attachments\": {},\n",
      "   \"cell_type\": \"markdown\",\n",
      "   \"id\": \"d417cf66\",\n",
      "   \"metadata\": {},\n",
      "   \"source\": [\n",
      "    \"# Deleting stuff\"\n",
      "   ]\n",
      "  },\n",
      "  {\n",
      "   \"cell_type\": \"code\",\n",
      "   \"execution_count\": null,\n",
      "   \"id\": \"bf747b72-26b9-4a71-b4f8-8ef7439779d4\",\n",
      "   \"metadata\": {},\n",
      "   \"outputs\": [],\n",
      "   \"source\": [\n",
      "    \"# Misc\"\n",
      "   ]\n",
      "  },\n",
      "  {\n",
      "   \"cell_type\": \"code\",\n",
      "   \"execution_count\": 10,\n",
      "   \"id\": \"fb4fca12-3884-4764-87ef-d4e95d0807be\",\n",
      "   \"metadata\": {},\n",
      "   \"outputs\": [\n",
      "    {\n",
      "     \"name\": \"stdout\",\n",
      "     \"output_type\": \"stream\",\n",
      "     \"text\": [\n",
      "      \"./data-files/hahaha.txt\\n\"\n",
      "     ]\n",
      "    }\n",
      "   ],\n",
      "   \"source\": [\n",
      "    \"loops = f'./data-files/hahaha.txt'\\n\",\n",
      "    \"print(loops)\"\n",
      "   ]\n",
      "  },\n",
      "  {\n",
      "   \"cell_type\": \"code\",\n",
      "   \"execution_count\": 11,\n",
      "   \"id\": \"ad1e0d98-41c7-4ae6-84d7-1aaf2c453d51\",\n",
      "   \"metadata\": {},\n",
      "   \"outputs\": [\n",
      "    {\n",
      "     \"data\": {\n",
      "      \"text/plain\": [\n",
      "       \"('', 'hahaha.txt')\"\n",
      "      ]\n",
      "     },\n",
      "     \"execution_count\": 11,\n",
      "     \"metadata\": {},\n",
      "     \"output_type\": \"execute_result\"\n",
      "    }\n",
      "   ],\n",
      "   \"source\": [\n",
      "    \"os.path.split('hahaha.txt')\"\n",
      "   ]\n",
      "  },\n",
      "  {\n",
      "   \"cell_type\": \"code\",\n",
      "   \"execution_count\": 12,\n",
      "   \"id\": \"7ddf7d8b-0434-4706-a227-3d7d73b9e7e4\",\n",
      "   \"metadata\": {},\n",
      "   \"outputs\": [\n",
      "    {\n",
      "     \"data\": {\n",
      "      \"text/plain\": [\n",
      "       \"('hahaha', '.txt')\"\n",
      "      ]\n",
      "     },\n",
      "     \"execution_count\": 12,\n",
      "     \"metadata\": {},\n",
      "     \"output_type\": \"execute_result\"\n",
      "    }\n",
      "   ],\n",
      "   \"source\": [\n",
      "    \"os.path.splitext('hahaha.txt')\"\n",
      "   ]\n",
      "  },\n",
      "  {\n",
      "   \"cell_type\": \"code\",\n",
      "   \"execution_count\": 14,\n",
      "   \"id\": \"a9a44d8b-4b51-4924-af06-368c44f8d10b\",\n",
      "   \"metadata\": {},\n",
      "   \"outputs\": [\n",
      "    {\n",
      "     \"ename\": \"SyntaxError\",\n",
      "     \"evalue\": \"unterminated f-string literal (detected at line 2) (2704415822.py, line 2)\",\n",
      "     \"output_type\": \"error\",\n",
      "     \"traceback\": [\n",
      "      \"\\u001b[0;36m  Cell \\u001b[0;32mIn[14], line 2\\u001b[0;36m\\u001b[0m\\n\\u001b[0;31m    os.mkdir(f'hello{i})\\u001b[0m\\n\\u001b[0m             ^\\u001b[0m\\n\\u001b[0;31mSyntaxError\\u001b[0m\\u001b[0;31m:\\u001b[0m unterminated f-string literal (detected at line 2)\\n\"\n",
      "     ]\n",
      "    }\n",
      "   ],\n",
      "   \"source\": [\n",
      "    \"for i in range(5):\\n\",\n",
      "    \"    os.mkdir(f'hello{i})\"\n",
      "   ]\n",
      "  },\n",
      "  {\n",
      "   \"cell_type\": \"code\",\n",
      "   \"execution_count\": null,\n",
      "   \"id\": \"15b6caa9-71f0-411b-bca9-e03b47416895\",\n",
      "   \"metadata\": {},\n",
      "   \"outputs\": [],\n",
      "   \"source\": []\n",
      "  }\n",
      " ],\n",
      " \"metadata\": {\n",
      "  \"kernelspec\": {\n",
      "   \"display_name\": \"Python 3 (ipykernel)\",\n",
      "   \"language\": \"python\",\n",
      "   \"name\": \"python3\"\n",
      "  },\n",
      "  \"language_info\": {\n",
      "   \"codemirror_mode\": {\n",
      "    \"name\": \"ipython\",\n",
      "    \"version\": 3\n",
      "   },\n",
      "   \"file_extension\": \".py\",\n",
      "   \"mimetype\": \"text/x-python\",\n",
      "   \"name\": \"python\",\n",
      "   \"nbconvert_exporter\": \"python\",\n",
      "   \"pygments_lexer\": \"ipython3\",\n",
      "   \"version\": \"3.12.2\"\n",
      "  },\n",
      "  \"toc\": {\n",
      "   \"base_numbering\": 1,\n",
      "   \"nav_menu\": {},\n",
      "   \"number_sections\": true,\n",
      "   \"sideBar\": true,\n",
      "   \"skip_h1_title\": false,\n",
      "   \"title_cell\": \"Table of Contents\",\n",
      "   \"title_sidebar\": \"Contents\",\n",
      "   \"toc_cell\": false,\n",
      "   \"toc_position\": {},\n",
      "   \"toc_section_display\": true,\n",
      "   \"toc_window_display\": false\n",
      "  },\n",
      "  \"vscode\": {\n",
      "   \"interpreter\": {\n",
      "    \"hash\": \"31f2aee4e71d21fbe5cf8b01ff0e069b9275f58929596ceb00d14d90e3e16cd6\"\n",
      "   }\n",
      "  }\n",
      " },\n",
      " \"nbformat\": 4,\n",
      " \"nbformat_minor\": 5\n",
      "}\n",
      "\n"
     ]
    }
   ],
   "source": [
    "with open('files,_folders_&_os_(need).ipynb', 'r') as file:\n",
    "    filetext = file.read()\n",
    "\n",
    "print(filetext)\n",
    "\n",
    "# USE 'r' for READING"
   ]
  },
  {
   "attachments": {},
   "cell_type": "markdown",
   "id": "1a962788",
   "metadata": {},
   "source": [
    "## Writing data"
   ]
  },
  {
   "attachments": {},
   "cell_type": "markdown",
   "id": "6908c4df",
   "metadata": {},
   "source": [
    "### Writing to a file in one go"
   ]
  },
  {
   "cell_type": "code",
   "execution_count": null,
   "id": "66e3f086",
   "metadata": {},
   "outputs": [],
   "source": [
    "\n",
    "# Your code here\n"
   ]
  },
  {
   "attachments": {},
   "cell_type": "markdown",
   "id": "d69ef50b",
   "metadata": {},
   "source": [
    "### Writing to a file, line by line"
   ]
  },
  {
   "cell_type": "code",
   "execution_count": null,
   "id": "d7659bb7",
   "metadata": {},
   "outputs": [],
   "source": [
    "\n",
    "# Your code here\n"
   ]
  },
  {
   "attachments": {},
   "cell_type": "markdown",
   "id": "07c91358",
   "metadata": {},
   "source": [
    "# Some useful packages"
   ]
  },
  {
   "attachments": {},
   "cell_type": "markdown",
   "id": "dfe9b967",
   "metadata": {},
   "source": [
    "# OS safe paths"
   ]
  },
  {
   "attachments": {},
   "cell_type": "markdown",
   "id": "6de094a6",
   "metadata": {},
   "source": [
    "# Folders"
   ]
  },
  {
   "attachments": {},
   "cell_type": "markdown",
   "id": "91e96575",
   "metadata": {},
   "source": [
    "## Creating folders"
   ]
  },
  {
   "attachments": {},
   "cell_type": "markdown",
   "id": "8331188a",
   "metadata": {},
   "source": [
    "## Checking for existence"
   ]
  },
  {
   "cell_type": "code",
   "execution_count": 6,
   "id": "075e852f-76d7-4fdd-890a-981f38a8c0ed",
   "metadata": {},
   "outputs": [
    {
     "data": {
      "text/plain": [
       "True"
      ]
     },
     "execution_count": 6,
     "metadata": {},
     "output_type": "execute_result"
    }
   ],
   "source": [
    "os.path.exists('/Users/gabrielle/Documents/GitHub/learning-portfolio-2024-aug-gabriellemjyje/4.1_loops')\n",
    "\n",
    "# Checking if file exists"
   ]
  },
  {
   "cell_type": "code",
   "execution_count": 7,
   "id": "dcf6bec3-67f8-460c-a2c3-e1b85f6fa60d",
   "metadata": {},
   "outputs": [
    {
     "data": {
      "text/plain": [
       "True"
      ]
     },
     "execution_count": 7,
     "metadata": {},
     "output_type": "execute_result"
    }
   ],
   "source": [
    "loops = '/Users/gabrielle/Documents/GitHub/learning-portfolio-2024-aug-gabriellemjyje/4.1_loops'\n",
    "os.path.exists(loops)"
   ]
  },
  {
   "cell_type": "code",
   "execution_count": 8,
   "id": "fc987c71-6583-4e7c-82f2-1e260878cbb1",
   "metadata": {},
   "outputs": [
    {
     "data": {
      "text/plain": [
       "True"
      ]
     },
     "execution_count": 8,
     "metadata": {},
     "output_type": "execute_result"
    }
   ],
   "source": [
    "os.path.exists('files,_folders_&_os_(need).ipynb')"
   ]
  },
  {
   "cell_type": "code",
   "execution_count": 9,
   "id": "64afcafa-344c-4594-ad3a-9434cd3e402e",
   "metadata": {},
   "outputs": [
    {
     "data": {
      "text/plain": [
       "False"
      ]
     },
     "execution_count": 9,
     "metadata": {},
     "output_type": "execute_result"
    }
   ],
   "source": [
    "os.path.exists('nihao')"
   ]
  },
  {
   "attachments": {},
   "cell_type": "markdown",
   "id": "2d326e3a",
   "metadata": {},
   "source": [
    "### Using try-except"
   ]
  },
  {
   "cell_type": "code",
   "execution_count": null,
   "id": "7a524254",
   "metadata": {},
   "outputs": [],
   "source": [
    "\n",
    "# Your code here\n"
   ]
  },
  {
   "attachments": {},
   "cell_type": "markdown",
   "id": "e2efd8e9",
   "metadata": {},
   "source": [
    "### Using os.path.exists()"
   ]
  },
  {
   "cell_type": "code",
   "execution_count": null,
   "id": "b737db86",
   "metadata": {},
   "outputs": [],
   "source": [
    "\n",
    "# Your code here\n"
   ]
  },
  {
   "attachments": {},
   "cell_type": "markdown",
   "id": "2b8375e5",
   "metadata": {},
   "source": [
    "## Copying files"
   ]
  },
  {
   "attachments": {},
   "cell_type": "markdown",
   "id": "4c89bf2c",
   "metadata": {},
   "source": [
    "# Listing and looking for files"
   ]
  },
  {
   "attachments": {},
   "cell_type": "markdown",
   "id": "e259eb0f",
   "metadata": {},
   "source": [
    "# Extracting file info"
   ]
  },
  {
   "attachments": {},
   "cell_type": "markdown",
   "id": "d417cf66",
   "metadata": {},
   "source": [
    "# Deleting stuff"
   ]
  },
  {
   "cell_type": "markdown",
   "id": "2a5a71d2-3e74-438a-b69a-77ca6b489014",
   "metadata": {},
   "source": [
    "# Misc"
   ]
  },
  {
   "cell_type": "code",
   "execution_count": 10,
   "id": "fb4fca12-3884-4764-87ef-d4e95d0807be",
   "metadata": {},
   "outputs": [
    {
     "name": "stdout",
     "output_type": "stream",
     "text": [
      "./data-files/hahaha.txt\n"
     ]
    }
   ],
   "source": [
    "loops = f'./data-files/hahaha.txt'\n",
    "print(loops)"
   ]
  },
  {
   "cell_type": "code",
   "execution_count": 11,
   "id": "ad1e0d98-41c7-4ae6-84d7-1aaf2c453d51",
   "metadata": {},
   "outputs": [
    {
     "data": {
      "text/plain": [
       "('', 'hahaha.txt')"
      ]
     },
     "execution_count": 11,
     "metadata": {},
     "output_type": "execute_result"
    }
   ],
   "source": [
    "os.path.split('hahaha.txt')"
   ]
  },
  {
   "cell_type": "code",
   "execution_count": 12,
   "id": "7ddf7d8b-0434-4706-a227-3d7d73b9e7e4",
   "metadata": {},
   "outputs": [
    {
     "data": {
      "text/plain": [
       "('hahaha', '.txt')"
      ]
     },
     "execution_count": 12,
     "metadata": {},
     "output_type": "execute_result"
    }
   ],
   "source": [
    "os.path.splitext('hahaha.txt')"
   ]
  },
  {
   "cell_type": "code",
   "execution_count": 17,
   "id": "a9a44d8b-4b51-4924-af06-368c44f8d10b",
   "metadata": {},
   "outputs": [
    {
     "name": "stdout",
     "output_type": "stream",
     "text": [
      "The history saving thread hit an unexpected error (OperationalError('attempt to write a readonly database')).History will not be written to the database.\n"
     ]
    },
    {
     "ename": "SyntaxError",
     "evalue": "unterminated f-string literal (detected at line 2) (2704415822.py, line 2)",
     "output_type": "error",
     "traceback": [
      "\u001b[0;36m  Cell \u001b[0;32mIn[17], line 2\u001b[0;36m\u001b[0m\n\u001b[0;31m    os.mkdir(f'hello{i})\u001b[0m\n\u001b[0m             ^\u001b[0m\n\u001b[0;31mSyntaxError\u001b[0m\u001b[0;31m:\u001b[0m unterminated f-string literal (detected at line 2)\n"
     ]
    }
   ],
   "source": [
    "for i in range(5):\n",
    "    os.mkdir(f'hello{i})"
   ]
  },
  {
   "cell_type": "code",
   "execution_count": null,
   "id": "15b6caa9-71f0-411b-bca9-e03b47416895",
   "metadata": {},
   "outputs": [],
   "source": []
  }
 ],
 "metadata": {
  "kernelspec": {
   "display_name": "Python 3 (ipykernel)",
   "language": "python",
   "name": "python3"
  },
  "language_info": {
   "codemirror_mode": {
    "name": "ipython",
    "version": 3
   },
   "file_extension": ".py",
   "mimetype": "text/x-python",
   "name": "python",
   "nbconvert_exporter": "python",
   "pygments_lexer": "ipython3",
   "version": "3.12.2"
  },
  "toc": {
   "base_numbering": 1,
   "nav_menu": {},
   "number_sections": true,
   "sideBar": true,
   "skip_h1_title": false,
   "title_cell": "Table of Contents",
   "title_sidebar": "Contents",
   "toc_cell": false,
   "toc_position": {},
   "toc_section_display": true,
   "toc_window_display": false
  },
  "vscode": {
   "interpreter": {
    "hash": "31f2aee4e71d21fbe5cf8b01ff0e069b9275f58929596ceb00d14d90e3e16cd6"
   }
  }
 },
 "nbformat": 4,
 "nbformat_minor": 5
}
