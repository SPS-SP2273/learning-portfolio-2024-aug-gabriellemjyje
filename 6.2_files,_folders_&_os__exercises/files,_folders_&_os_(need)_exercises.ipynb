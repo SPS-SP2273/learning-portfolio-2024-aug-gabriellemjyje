{
 "cells": [
  {
   "attachments": {},
   "cell_type": "markdown",
   "id": "123456",
   "metadata": {},
   "source": [
    "<div style=\"text-align:left;font-size:2em\"><span style=\"font-weight:bolder;font-size:1.25em\">SP2273 | Learning Portfolio</span><br><br><span style=\"font-weight:bold;color:darkred\">Files, Folders & OS (Need) Exercises</span></div>"
   ]
  },
  {
   "cell_type": "code",
   "execution_count": 51,
   "id": "a83f9cfc-0a11-45ad-a262-889ba37da213",
   "metadata": {},
   "outputs": [],
   "source": [
    "import os, glob, shutil"
   ]
  },
  {
   "cell_type": "markdown",
   "id": "ea266c0c-0e22-449f-b1fd-cd17822064cb",
   "metadata": {},
   "source": [
    "# Task 1 (Converting file name)"
   ]
  },
  {
   "cell_type": "code",
   "execution_count": 12,
   "id": "3ced97a9-456f-440e-9c5e-ac6e4c464d05",
   "metadata": {},
   "outputs": [],
   "source": [
    "month_info = {\n",
    "'jan': '01', 'feb': '02', 'mar': '03',\n",
    "'apr': '04', 'may': '05', 'jun': '06',\n",
    "'jul': '07', 'aug': '08', 'sep': '09',\n",
    "'oct': '10', 'nov': '11', 'dec': '12'\n",
    "}"
   ]
  },
  {
   "cell_type": "code",
   "execution_count": 59,
   "id": "75c0c074-bb10-4475-bf71-0095710ade59",
   "metadata": {},
   "outputs": [
    {
     "name": "stdout",
     "output_type": "stream",
     "text": [
      "10-08-singapore.txt\n"
     ]
    }
   ],
   "source": [
    "def convert_filename(filename):\n",
    "    # Splitting parts of filename\n",
    "    name, extension = filename.split('.')\n",
    "    month_alphabet, date_city = name.split('-')\n",
    "    date, city = date_city.split('_')\n",
    "    \n",
    "    # Using dictionary to convert month in alphabets to month in numbers\n",
    "    month_number = month_info[month_alphabet]\n",
    "    \n",
    "    # Converting filename\n",
    "    converted_filename = f\"{month_number}-{date}-{city}.{extension}\"\n",
    "    return converted_filename\n",
    "\n",
    "print(convert_filename('oct-08_singapore.txt'))"
   ]
  },
  {
   "cell_type": "markdown",
   "id": "772f44db-1ff6-4054-a91a-8002c934204d",
   "metadata": {},
   "source": [
    "Or is this enough?"
   ]
  },
  {
   "cell_type": "code",
   "execution_count": 16,
   "id": "06a09007-17b0-4591-aabd-99095e4a4cc1",
   "metadata": {},
   "outputs": [
    {
     "name": "stdout",
     "output_type": "stream",
     "text": [
      "10-08-singapore.txt\n"
     ]
    }
   ],
   "source": [
    "print(f\"{month_info['oct']}-08-singapore.txt\")"
   ]
  },
  {
   "cell_type": "markdown",
   "id": "2f46880f-85e7-477b-a862-cc2e5ea9bc42",
   "metadata": {},
   "source": [
    "# Task 2 (Coding a function to convert file name)"
   ]
  },
  {
   "cell_type": "code",
   "execution_count": 4,
   "id": "1eace60a-7fe8-4c16-802f-3b1e898d8d60",
   "metadata": {},
   "outputs": [
    {
     "data": {
      "text/plain": [
       "'10-08-singapore.txt'"
      ]
     },
     "execution_count": 4,
     "metadata": {},
     "output_type": "execute_result"
    }
   ],
   "source": [
    "def rename_my_file(old_file_name):\n",
    "    name, extension = old_file_name.split('.')\n",
    "    month_alphabet, date_city = name.split('-')\n",
    "    date, city = date_city.split('_')\n",
    "    month_number = month_info[month_alphabet]\n",
    "    new_file_name = f\"{month_number}-{date}-{city}.{extension}\"\n",
    "    return new_file_name\n",
    "\n",
    "rename_my_file('oct-08_singapore.txt')"
   ]
  },
  {
   "cell_type": "markdown",
   "id": "cea93f8d-2afb-4e14-9c5c-723859ff0f28",
   "metadata": {},
   "source": [
    "# Task 3 (Converting list of file names)"
   ]
  },
  {
   "cell_type": "code",
   "execution_count": 8,
   "id": "16af1c0e-2f40-4526-8404-4fec571029ff",
   "metadata": {},
   "outputs": [
    {
     "name": "stdout",
     "output_type": "stream",
     "text": [
      "oct-08_singapore.txt ----> 10-08-singapore.txt\n",
      "jul-10_cairo.txt ----> 07-10-cairo.txt\n",
      "may-15_dhaka.txt ----> 05-15-dhaka.txt\n",
      "may-13_cairo.txt ----> 05-13-cairo.txt\n",
      "oct-21_cairo.txt ----> 10-21-cairo.txt\n",
      "jan-10_singapore.txt ----> 01-10-singapore.txt\n",
      "jun-20_tokyo.txt ----> 06-20-tokyo.txt\n",
      "aug-06_jakarta.txt ----> 08-06-jakarta.txt\n",
      "dec-21_karachi.txt ----> 12-21-karachi.txt\n",
      "jan-01_tokyo.txt ----> 01-01-tokyo.txt\n"
     ]
    }
   ],
   "source": [
    "old_file_names = ['oct-08_singapore.txt', 'jul-10_cairo.txt', 'may-15_dhaka.txt',\n",
    " 'may-13_cairo.txt', 'oct-21_cairo.txt', 'jan-10_singapore.txt',\n",
    " 'jun-20_tokyo.txt', 'aug-06_jakarta.txt', 'dec-21_karachi.txt',\n",
    " 'jan-01_tokyo.txt']\n",
    "\n",
    "for old_file_name in old_file_names:\n",
    "    print(f\"{old_file_name} ----> {rename_my_file(old_file_name)}\")"
   ]
  },
  {
   "cell_type": "code",
   "execution_count": null,
   "id": "8f9cb8e6-9995-4e5b-aaac-3911687a6859",
   "metadata": {},
   "outputs": [],
   "source": []
  }
 ],
 "metadata": {
  "kernelspec": {
   "display_name": "Python 3 (ipykernel)",
   "language": "python",
   "name": "python3"
  },
  "language_info": {
   "codemirror_mode": {
    "name": "ipython",
    "version": 3
   },
   "file_extension": ".py",
   "mimetype": "text/x-python",
   "name": "python",
   "nbconvert_exporter": "python",
   "pygments_lexer": "ipython3",
   "version": "3.12.2"
  },
  "toc": {
   "base_numbering": 1,
   "nav_menu": {},
   "number_sections": true,
   "sideBar": true,
   "skip_h1_title": false,
   "title_cell": "Table of Contents",
   "title_sidebar": "Contents",
   "toc_cell": false,
   "toc_position": {},
   "toc_section_display": true,
   "toc_window_display": false
  },
  "vscode": {
   "interpreter": {
    "hash": "31f2aee4e71d21fbe5cf8b01ff0e069b9275f58929596ceb00d14d90e3e16cd6"
   }
  }
 },
 "nbformat": 4,
 "nbformat_minor": 5
}
