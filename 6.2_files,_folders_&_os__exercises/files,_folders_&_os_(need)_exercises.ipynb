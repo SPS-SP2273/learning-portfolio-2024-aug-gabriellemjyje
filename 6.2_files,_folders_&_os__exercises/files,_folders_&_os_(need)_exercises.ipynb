{
 "cells": [
  {
   "attachments": {},
   "cell_type": "markdown",
   "id": "123456",
   "metadata": {},
   "source": [
    "<div style=\"text-align:left;font-size:2em\"><span style=\"font-weight:bolder;font-size:1.25em\">SP2273 | Learning Portfolio</span><br><br><span style=\"font-weight:bold;color:darkred\">Files, Folders & OS (Need) Exercises</span></div>"
   ]
  },
  {
   "cell_type": "code",
   "execution_count": 134,
   "id": "a83f9cfc-0a11-45ad-a262-889ba37da213",
   "metadata": {},
   "outputs": [],
   "source": [
    "import os, glob, shutil"
   ]
  },
  {
   "cell_type": "markdown",
   "id": "ea266c0c-0e22-449f-b1fd-cd17822064cb",
   "metadata": {},
   "source": [
    "# Task 1 (Converting file name)"
   ]
  },
  {
   "cell_type": "code",
   "execution_count": 4,
   "id": "3ced97a9-456f-440e-9c5e-ac6e4c464d05",
   "metadata": {},
   "outputs": [],
   "source": [
    "month_info = {\n",
    "'jan': '01', 'feb': '02', 'mar': '03',\n",
    "'apr': '04', 'may': '05', 'jun': '06',\n",
    "'jul': '07', 'aug': '08', 'sep': '09',\n",
    "'oct': '10', 'nov': '11', 'dec': '12'\n",
    "}"
   ]
  },
  {
   "cell_type": "code",
   "execution_count": 135,
   "id": "75c0c074-bb10-4475-bf71-0095710ade59",
   "metadata": {},
   "outputs": [
    {
     "name": "stdout",
     "output_type": "stream",
     "text": [
      "10-08-singapore.txt\n"
     ]
    }
   ],
   "source": [
    "def convert_filename(filename):\n",
    "    # Splitting parts of filename\n",
    "    name, extension = filename.split('.')\n",
    "    month_alphabet, date_city = name.split('-')\n",
    "    date, city = date_city.split('_')\n",
    "    \n",
    "    # Using dictionary to convert month in alphabets to month in numbers\n",
    "    month_number = month_info[month_alphabet]\n",
    "    \n",
    "    # Converting filename\n",
    "    converted_filename = f\"{month_number}-{date}-{city}.{extension}\"\n",
    "    return converted_filename\n",
    "\n",
    "print(convert_filename('oct-08_singapore.txt'))"
   ]
  },
  {
   "cell_type": "markdown",
   "id": "2f46880f-85e7-477b-a862-cc2e5ea9bc42",
   "metadata": {},
   "source": [
    "# Task 2 (Coding a function to convert file name)"
   ]
  },
  {
   "cell_type": "code",
   "execution_count": 136,
   "id": "1eace60a-7fe8-4c16-802f-3b1e898d8d60",
   "metadata": {},
   "outputs": [
    {
     "data": {
      "text/plain": [
       "'10-08-singapore.txt'"
      ]
     },
     "execution_count": 136,
     "metadata": {},
     "output_type": "execute_result"
    }
   ],
   "source": [
    "def rename_my_file(old_file_name):\n",
    "    name, extension = old_file_name.split('.')\n",
    "    month_alphabet, date_city = name.split('-')\n",
    "    date, city = date_city.split('_')\n",
    "    month_number = month_info[month_alphabet]\n",
    "    new_file_name = f\"{month_number}-{date}-{city}.{extension}\"\n",
    "    return new_file_name\n",
    "\n",
    "rename_my_file('oct-08_singapore.txt')"
   ]
  },
  {
   "cell_type": "markdown",
   "id": "cea93f8d-2afb-4e14-9c5c-723859ff0f28",
   "metadata": {},
   "source": [
    "# Task 3 (Converting list of file names)"
   ]
  },
  {
   "cell_type": "code",
   "execution_count": 137,
   "id": "16af1c0e-2f40-4526-8404-4fec571029ff",
   "metadata": {},
   "outputs": [
    {
     "name": "stdout",
     "output_type": "stream",
     "text": [
      "oct-08_singapore.txt ----> 10-08-singapore.txt\n",
      "jul-10_cairo.txt ----> 07-10-cairo.txt\n",
      "may-15_dhaka.txt ----> 05-15-dhaka.txt\n",
      "may-13_cairo.txt ----> 05-13-cairo.txt\n",
      "oct-21_cairo.txt ----> 10-21-cairo.txt\n",
      "jan-10_singapore.txt ----> 01-10-singapore.txt\n",
      "jun-20_tokyo.txt ----> 06-20-tokyo.txt\n",
      "aug-06_jakarta.txt ----> 08-06-jakarta.txt\n",
      "dec-21_karachi.txt ----> 12-21-karachi.txt\n",
      "jan-01_tokyo.txt ----> 01-01-tokyo.txt\n"
     ]
    }
   ],
   "source": [
    "old_file_names = ['oct-08_singapore.txt', 'jul-10_cairo.txt', 'may-15_dhaka.txt',\n",
    " 'may-13_cairo.txt', 'oct-21_cairo.txt', 'jan-10_singapore.txt',\n",
    " 'jun-20_tokyo.txt', 'aug-06_jakarta.txt', 'dec-21_karachi.txt',\n",
    " 'jan-01_tokyo.txt']\n",
    "\n",
    "for old_file_name in old_file_names:\n",
    "    print(f\"{old_file_name} ----> {rename_my_file(old_file_name)}\")"
   ]
  },
  {
   "cell_type": "markdown",
   "id": "67c71299-839a-4917-9efd-0148d13eb3c3",
   "metadata": {},
   "source": [
    "# Task 4 (Renaming all files)"
   ]
  },
  {
   "cell_type": "code",
   "execution_count": 55,
   "id": "d941e1a4-ac8d-4190-894a-f40a6b8a4912",
   "metadata": {},
   "outputs": [],
   "source": [
    "import numpy as np"
   ]
  },
  {
   "cell_type": "code",
   "execution_count": 173,
   "id": "3aa45773-7048-45af-9cd4-e7a3e34a3f09",
   "metadata": {},
   "outputs": [],
   "source": [
    "# Locating files\n",
    "txt_pathlist = glob.glob(\"../os*/*.txt\")\n",
    "\n",
    "# Separating directory from file name\n",
    "txt_filelist = [] # Create list\n",
    "for txt_path in txt_pathlist:\n",
    "    txt_file = os.path.split(txt_path)[-1] # Extract second index\n",
    "    txt_filelist.append(txt_file) # Adds on another txt_file in txt_filelist\n",
    "\n",
    "# Renaming files\n",
    "directory = os.path.split(txt_path)[0]\n",
    "for txt_file in txt_filelist:\n",
    "    old_file_path = os.path.join(directory, txt_file)\n",
    "    new_file_name = rename_my_file(txt_file)\n",
    "    new_file_path = os.path.join(directory, new_file_name) # Joining directory back to new file name\n",
    "    os.rename(old_file_path, new_file_path)"
   ]
  },
  {
   "cell_type": "markdown",
   "id": "812cc668-4652-4f55-b31d-dc3a8b1259aa",
   "metadata": {},
   "source": [
    "# Task 5 (Creating folders)"
   ]
  },
  {
   "cell_type": "code",
   "execution_count": 7,
   "id": "c92c8ccd-c488-47ba-9cb6-9e80ae710369",
   "metadata": {},
   "outputs": [
    {
     "name": "stdout",
     "output_type": "stream",
     "text": [
      "Creating Cities/Cairo\n",
      "Creating Cities/Dhaka\n",
      "Creating Cities/Jakarta\n",
      "Creating Cities/Karachi\n",
      "Creating Cities/Manila\n",
      "Creating Cities/Melbourne\n",
      "Creating Cities/Osaka\n",
      "Creating Cities/Shanghai\n",
      "Creating Cities/Singapore\n",
      "Creating Cities/Tokyo\n"
     ]
    }
   ],
   "source": [
    "os.mkdir('Cities')\n",
    "\n",
    "for city in ['Cairo', 'Dhaka', 'Jakarta', 'Karachi', 'Manila','Melbourne', 'Osaka', 'Shanghai', 'Singapore', 'Tokyo']:\n",
    "    path = os.path.join('Cities', city)\n",
    "    os.mkdir(path)\n",
    "    print(f'Creating {path}') # Print what folders are being created"
   ]
  },
  {
   "cell_type": "markdown",
   "id": "9e829f5a-dfef-48c6-81d1-98bb1b9c1524",
   "metadata": {},
   "source": [
    "# Task 6 (Listing files & copying them to a folder)"
   ]
  },
  {
   "cell_type": "code",
   "execution_count": 174,
   "id": "bac6f2a5-f3ca-433b-a01e-b3766f45169f",
   "metadata": {},
   "outputs": [],
   "source": [
    "# Finding cairo files using glob\n",
    "cairo_list = glob.glob(\"../os*/*cairo*\")"
   ]
  },
  {
   "cell_type": "code",
   "execution_count": 19,
   "id": "1ef3b459-683f-4bab-b464-d3f9358db21b",
   "metadata": {},
   "outputs": [],
   "source": [
    "for file in cairo_list:\n",
    "    path_to_destination = os.path.join('Cairo')\n",
    "    shutil.copy('file', path_to_destination)\n",
    "    print(f\"Copied {file} to {path_to_destination}\")"
   ]
  },
  {
   "cell_type": "markdown",
   "id": "0cdd5543-0ec0-488b-a5b7-2a846d98c176",
   "metadata": {},
   "source": [
    "# Task 7 (Moving files)"
   ]
  },
  {
   "cell_type": "code",
   "execution_count": null,
   "id": "d519c7ad-3b1f-40f1-85ba-92509b4d129a",
   "metadata": {},
   "outputs": [],
   "source": []
  }
 ],
 "metadata": {
  "kernelspec": {
   "display_name": "Python 3 (ipykernel)",
   "language": "python",
   "name": "python3"
  },
  "language_info": {
   "codemirror_mode": {
    "name": "ipython",
    "version": 3
   },
   "file_extension": ".py",
   "mimetype": "text/x-python",
   "name": "python",
   "nbconvert_exporter": "python",
   "pygments_lexer": "ipython3",
   "version": "3.12.2"
  },
  "toc": {
   "base_numbering": 1,
   "nav_menu": {},
   "number_sections": true,
   "sideBar": true,
   "skip_h1_title": false,
   "title_cell": "Table of Contents",
   "title_sidebar": "Contents",
   "toc_cell": false,
   "toc_position": {},
   "toc_section_display": true,
   "toc_window_display": false
  },
  "vscode": {
   "interpreter": {
    "hash": "31f2aee4e71d21fbe5cf8b01ff0e069b9275f58929596ceb00d14d90e3e16cd6"
   }
  }
 },
 "nbformat": 4,
 "nbformat_minor": 5
}
