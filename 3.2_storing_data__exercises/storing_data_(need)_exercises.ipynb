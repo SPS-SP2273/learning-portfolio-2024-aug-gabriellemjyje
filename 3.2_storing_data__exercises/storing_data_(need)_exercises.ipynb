{
 "cells": [
  {
   "cell_type": "markdown",
   "id": "b32aca0d-7b10-4e83-8a7f-9ef3b2acbf5b",
   "metadata": {},
   "source": [
    "# Exercise 1 (Recalling lists, arrays and dictionaries)"
   ]
  },
  {
   "cell_type": "markdown",
   "id": "54037739-6f7c-4f04-a668-bd97edf2d6cc",
   "metadata": {},
   "source": [
    "1. Two similarities between lists and arrays. <u>Both lists and arrays are used to store data. *To access data from both lists and arrays, indexes need to be used*.</u>\n",
    "2. Two differences between lists and arrays. <u>The elements in a list are repeated by the number of times the list is multiplied by, while multiplying an array by a number multiplies each element in the array by that number. Squaring a list does not work and will not square each element in the list while squaring an array squares each element in the array.</u>\n",
    "3. What is a dictionary? <u>It stores pairs of a key and an *associated* value.</u>"
   ]
  },
  {
   "cell_type": "markdown",
   "id": "383120a4-1839-46d8-ac1d-3a6943cd31b7",
   "metadata": {},
   "source": [
    "# Exercise 2 (Indexing)"
   ]
  },
  {
   "cell_type": "code",
   "execution_count": 2,
   "id": "496aa0eb-282b-44f9-bcc7-193c91245471",
   "metadata": {},
   "outputs": [
    {
     "name": "stdout",
     "output_type": "stream",
     "text": [
      "i9\n"
     ]
    }
   ],
   "source": [
    "py_list = [\"a1\", \"b2\", \"c3\", \"d4\", \"e5\", \"f6\", \"g7\", \"h8\", \"i9\", \"j10\"]\n",
    "print(py_list[8])"
   ]
  },
  {
   "cell_type": "code",
   "execution_count": 14,
   "id": "6bdcf21d-f43c-4689-9bc1-26955bb000b6",
   "metadata": {},
   "outputs": [
    {
     "name": "stdout",
     "output_type": "stream",
     "text": [
      "['a1', 'c3', 'e5', 'g7', 'i9']\n"
     ]
    }
   ],
   "source": [
    "py_list = [\"a1\", \"b2\", \"c3\", \"d4\", \"e5\", \"f6\", \"g7\", \"h8\", \"i9\", \"j10\"]\n",
    "print(py_list[0:11:2])\n",
    "\n",
    "# Modified code"
   ]
  },
  {
   "cell_type": "markdown",
   "id": "e556b920-6304-4663-aac8-e2380491c200",
   "metadata": {},
   "source": [
    "# Exercise 3 (Indexing)"
   ]
  },
  {
   "cell_type": "markdown",
   "id": "a46fcbae-2b60-4024-822c-834e36afc21e",
   "metadata": {},
   "source": [
    "## Forward indexing"
   ]
  },
  {
   "cell_type": "code",
   "execution_count": 12,
   "id": "907ef930-e469-4a74-a55a-1772599d6fef",
   "metadata": {},
   "outputs": [
    {
     "name": "stdout",
     "output_type": "stream",
     "text": [
      "Boron\n"
     ]
    }
   ],
   "source": [
    "elements = ['Hydrogen', 'Helium', 'Lithium', 'Beryllium', 'Boron', 'Carbon', 'Nitrogen', 'Oxygen', 'Fluorine', 'Neon']\n",
    "print(elements[4])"
   ]
  },
  {
   "cell_type": "markdown",
   "id": "be9e51ab-2b66-4d68-af4b-1a2ff729cff4",
   "metadata": {},
   "source": [
    "## Reverse indexing"
   ]
  },
  {
   "cell_type": "code",
   "execution_count": 13,
   "id": "ea748daa-02df-49e7-bddf-576a103b0326",
   "metadata": {},
   "outputs": [
    {
     "name": "stdout",
     "output_type": "stream",
     "text": [
      "Boron\n"
     ]
    }
   ],
   "source": [
    "elements = ['Hydrogen', 'Helium' 'Lithium', 'Beryllium', 'Boron', 'Carbon', 'Nitrogen', 'Oxygen', 'Fluorine', 'Neon']\n",
    "print(elements[-6])"
   ]
  },
  {
   "cell_type": "markdown",
   "id": "81e29d80-9ec8-4dee-ba49-3cfb169a3a55",
   "metadata": {},
   "source": [
    "# Exercise 4 (How many ones)"
   ]
  },
  {
   "cell_type": "code",
   "execution_count": 2,
   "id": "74c73b35-def3-42cd-a037-a5102cf08eb3",
   "metadata": {},
   "outputs": [],
   "source": [
    "import numpy as np"
   ]
  },
  {
   "cell_type": "code",
   "execution_count": 12,
   "id": "b4def28d-30a3-49c8-81df-4610ff9f0881",
   "metadata": {},
   "outputs": [
    {
     "name": "stdout",
     "output_type": "stream",
     "text": [
      "9\n"
     ]
    }
   ],
   "source": [
    "numbers = [45, 60, 1, 30, 96, 1, 96, 57, 16, 1, 99, 62, 86, 43, 42, 60, 59, 1, 1, 35, 83, 47, 34, 28, 68, 23, 22, 92, 1, 79, 1, 29, 94, 72, 46, 47, 1, 74, 32, 20, 8, 37, 35, 1, 89, 29, 86, 19, 43, 61]\n",
    "np_array == 1\n",
    "print(sum(np_array))\n",
    "\n",
    "# Print function"
   ]
  },
  {
   "cell_type": "markdown",
   "id": "4d241005-66a2-406e-82aa-d1ce37a75e3b",
   "metadata": {},
   "source": [
    "# Exercise 5 (A matter of statistics)"
   ]
  },
  {
   "cell_type": "code",
   "execution_count": 5,
   "id": "cdca46ef-8fe2-4882-b0b1-dab93939bd5d",
   "metadata": {},
   "outputs": [],
   "source": [
    "x_1 = [1, 4, 9, 16, 25, 36, 49, 64, 81, 100]\n",
    "np_array = x_1\n",
    "x_2 = [1, 8, 27, 64, 125, 216, 343, 512, 729, 1000]"
   ]
  },
  {
   "cell_type": "markdown",
   "id": "500db3b0-f88d-4d6c-b6c4-cc0ce9949ae9",
   "metadata": {},
   "source": [
    "## Mean"
   ]
  },
  {
   "cell_type": "code",
   "execution_count": 6,
   "id": "452e7f70-25c0-4ad4-8a9a-b6236fcb0cbc",
   "metadata": {},
   "outputs": [
    {
     "ename": "AttributeError",
     "evalue": "'list' object has no attribute 'mean'",
     "output_type": "error",
     "traceback": [
      "\u001b[0;31m---------------------------------------------------------------------------\u001b[0m",
      "\u001b[0;31mAttributeError\u001b[0m                            Traceback (most recent call last)",
      "Cell \u001b[0;32mIn[6], line 1\u001b[0m\n\u001b[0;32m----> 1\u001b[0m \u001b[43mnp_array\u001b[49m\u001b[38;5;241;43m.\u001b[39;49m\u001b[43mmean\u001b[49m(x_1)\n",
      "\u001b[0;31mAttributeError\u001b[0m: 'list' object has no attribute 'mean'"
     ]
    }
   ],
   "source": [
    "np_array.mean(x_1)"
   ]
  },
  {
   "cell_type": "markdown",
   "id": "058863d3-2bf3-4af0-bb33-b3415be69ba5",
   "metadata": {},
   "source": [
    "## Standard deviation"
   ]
  }
 ],
 "metadata": {
  "kernelspec": {
   "display_name": "Python 3 (ipykernel)",
   "language": "python",
   "name": "python3"
  },
  "language_info": {
   "codemirror_mode": {
    "name": "ipython",
    "version": 3
   },
   "file_extension": ".py",
   "mimetype": "text/x-python",
   "name": "python",
   "nbconvert_exporter": "python",
   "pygments_lexer": "ipython3",
   "version": "3.12.2"
  },
  "toc": {
   "base_numbering": 1,
   "nav_menu": {},
   "number_sections": true,
   "sideBar": true,
   "skip_h1_title": false,
   "title_cell": "Table of Contents",
   "title_sidebar": "Contents",
   "toc_cell": false,
   "toc_position": {},
   "toc_section_display": true,
   "toc_window_display": false
  },
  "vscode": {
   "interpreter": {
    "hash": "31f2aee4e71d21fbe5cf8b01ff0e069b9275f58929596ceb00d14d90e3e16cd6"
   }
  }
 },
 "nbformat": 4,
 "nbformat_minor": 5
}
