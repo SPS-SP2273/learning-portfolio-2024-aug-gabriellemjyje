{
 "cells": [
  {
   "cell_type": "markdown",
   "id": "b32aca0d-7b10-4e83-8a7f-9ef3b2acbf5b",
   "metadata": {},
   "source": [
    "# Exercise 1 (Recalling lists, arrays and dictionaries)"
   ]
  },
  {
   "cell_type": "markdown",
   "id": "9df2a051-7e2b-4b9c-b85a-cebd906b292a",
   "metadata": {},
   "source": [
    "1. Two similarities between lists and arrays. <u>Both lists and arrays are used to store data. *To access data from both lists and arrays, indexes need to be used.* </u>\n",
    "2. Two differences between lists and arrays. <u>The elements in a list are repeated by the number of times the list is multiplied by, while multiplying an array by a number multiplies each element in the array by that number. Squaring a list does not work and will not square each element in the list while squaring an array squares each element in the array.</u>\n",
    "3. What is a dictionary? <u>It stores pairs of a key and an *associated* value.</u>"
   ]
  },
  {
   "cell_type": "markdown",
   "id": "383120a4-1839-46d8-ac1d-3a6943cd31b7",
   "metadata": {},
   "source": [
    "# Exercise 2 (Indexing)"
   ]
  },
  {
   "cell_type": "code",
   "execution_count": 2,
   "id": "496aa0eb-282b-44f9-bcc7-193c91245471",
   "metadata": {},
   "outputs": [
    {
     "name": "stdout",
     "output_type": "stream",
     "text": [
      "i9\n"
     ]
    }
   ],
   "source": [
    "py_list = [\"a1\", \"b2\", \"c3\", \"d4\", \"e5\", \"f6\", \"g7\", \"h8\", \"i9\", \"j10\"]\n",
    "print(py_list[8])"
   ]
  },
  {
   "cell_type": "code",
   "execution_count": 14,
   "id": "6bdcf21d-f43c-4689-9bc1-26955bb000b6",
   "metadata": {},
   "outputs": [
    {
     "name": "stdout",
     "output_type": "stream",
     "text": [
      "['a1', 'c3', 'e5', 'g7', 'i9']\n"
     ]
    }
   ],
   "source": [
    "py_list = [\"a1\", \"b2\", \"c3\", \"d4\", \"e5\", \"f6\", \"g7\", \"h8\", \"i9\", \"j10\"]\n",
    "print(py_list[0:11:2])\n",
    "\n",
    "# Modified code"
   ]
  },
  {
   "cell_type": "markdown",
   "id": "e556b920-6304-4663-aac8-e2380491c200",
   "metadata": {},
   "source": [
    "# Exercise 3 (Indexing)"
   ]
  },
  {
   "cell_type": "markdown",
   "id": "a46fcbae-2b60-4024-822c-834e36afc21e",
   "metadata": {},
   "source": [
    "## Forward indexing"
   ]
  },
  {
   "cell_type": "code",
   "execution_count": 12,
   "id": "907ef930-e469-4a74-a55a-1772599d6fef",
   "metadata": {},
   "outputs": [
    {
     "name": "stdout",
     "output_type": "stream",
     "text": [
      "Boron\n"
     ]
    }
   ],
   "source": [
    "elements = ['Hydrogen', 'Helium', 'Lithium', 'Beryllium', 'Boron', 'Carbon', 'Nitrogen', 'Oxygen', 'Fluorine', 'Neon']\n",
    "print(elements[4])"
   ]
  },
  {
   "cell_type": "markdown",
   "id": "be9e51ab-2b66-4d68-af4b-1a2ff729cff4",
   "metadata": {},
   "source": [
    "## Reverse indexing"
   ]
  },
  {
   "cell_type": "code",
   "execution_count": 13,
   "id": "ea748daa-02df-49e7-bddf-576a103b0326",
   "metadata": {},
   "outputs": [
    {
     "name": "stdout",
     "output_type": "stream",
     "text": [
      "Boron\n"
     ]
    }
   ],
   "source": [
    "elements = ['Hydrogen', 'Helium' 'Lithium', 'Beryllium', 'Boron', 'Carbon', 'Nitrogen', 'Oxygen', 'Fluorine', 'Neon']\n",
    "print(elements[-6])"
   ]
  },
  {
   "cell_type": "markdown",
   "id": "81e29d80-9ec8-4dee-ba49-3cfb169a3a55",
   "metadata": {},
   "source": [
    "# Exercise 4 (How many ones)"
   ]
  },
  {
   "cell_type": "code",
   "execution_count": 2,
   "id": "74c73b35-def3-42cd-a037-a5102cf08eb3",
   "metadata": {},
   "outputs": [],
   "source": [
    "import numpy as np"
   ]
  },
  {
   "cell_type": "code",
   "execution_count": 12,
   "id": "b4def28d-30a3-49c8-81df-4610ff9f0881",
   "metadata": {},
   "outputs": [
    {
     "name": "stdout",
     "output_type": "stream",
     "text": [
      "9\n"
     ]
    }
   ],
   "source": [
    "numbers = [45, 60, 1, 30, 96, 1, 96, 57, 16, 1, 99, 62, 86, 43, 42, 60, 59, 1, 1, 35, 83, 47, 34, 28, 68, 23, 22, 92, 1, 79, 1, 29, 94, 72, 46, 47, 1, 74, 32, 20, 8, 37, 35, 1, 89, 29, 86, 19, 43, 61]\n",
    "np_array == 1\n",
    "print(sum(np_array))\n",
    "\n",
    "# Print function"
   ]
  },
  {
   "cell_type": "markdown",
   "id": "4d241005-66a2-406e-82aa-d1ce37a75e3b",
   "metadata": {},
   "source": [
    "# Exercise 5 (A matter of statistics)"
   ]
  },
  {
   "cell_type": "code",
   "execution_count": 4,
   "id": "cdca46ef-8fe2-4882-b0b1-dab93939bd5d",
   "metadata": {},
   "outputs": [],
   "source": [
    "x_1 = [1, 4, 9, 16, 25, 36, 49, 64, 81, 100]\n",
    "np_array_1 = np.array(x_1)\n",
    "x_2 = [1, 8, 27, 64, 125, 216, 343, 512, 729, 1000]\n",
    "np_array_2 = np.array(x_2)"
   ]
  },
  {
   "cell_type": "markdown",
   "id": "500db3b0-f88d-4d6c-b6c4-cc0ce9949ae9",
   "metadata": {},
   "source": [
    "## Mean"
   ]
  },
  {
   "cell_type": "code",
   "execution_count": 41,
   "id": "452e7f70-25c0-4ad4-8a9a-b6236fcb0cbc",
   "metadata": {},
   "outputs": [
    {
     "name": "stdout",
     "output_type": "stream",
     "text": [
      "38.5\n"
     ]
    }
   ],
   "source": [
    "print(np_array_1.mean())"
   ]
  },
  {
   "cell_type": "code",
   "execution_count": 42,
   "id": "b77e3ace-e85d-474d-9b4d-64a773394f8f",
   "metadata": {},
   "outputs": [
    {
     "name": "stdout",
     "output_type": "stream",
     "text": [
      "302.5\n"
     ]
    }
   ],
   "source": [
    "print(np_array_2.mean())"
   ]
  },
  {
   "cell_type": "markdown",
   "id": "058863d3-2bf3-4af0-bb33-b3415be69ba5",
   "metadata": {},
   "source": [
    "## Standard deviation"
   ]
  },
  {
   "cell_type": "code",
   "execution_count": 37,
   "id": "c2773fb6-8d4c-4f47-a816-e3c258672974",
   "metadata": {},
   "outputs": [
    {
     "name": "stdout",
     "output_type": "stream",
     "text": [
      "32.41990129534635\n"
     ]
    }
   ],
   "source": [
    "print(np_array_1.std())"
   ]
  },
  {
   "cell_type": "code",
   "execution_count": 38,
   "id": "37a9301c-34fb-4435-9531-78c51f139de9",
   "metadata": {},
   "outputs": [
    {
     "name": "stdout",
     "output_type": "stream",
     "text": [
      "326.0893282522444\n"
     ]
    }
   ],
   "source": [
    "print(np_array_2.std())"
   ]
  },
  {
   "cell_type": "markdown",
   "id": "362c088d-80c2-42d7-9369-f072b3811b66",
   "metadata": {},
   "source": [
    "## Pearson correlation coefficient"
   ]
  },
  {
   "cell_type": "markdown",
   "id": "8a8284a3-0de0-4d99-b575-0271aefa60ea",
   "metadata": {},
   "source": [
    "$$\n",
    "\\dfrac{\\sum(x_1-38.5)(x_2-302.5)}{\\sqrt{\\sum(x_1-38.5)^2\\sum(x_2-302.5)^2}}\n",
    "$$"
   ]
  },
  {
   "cell_type": "code",
   "execution_count": 8,
   "id": "7c368506-aa87-4870-99b9-0d5ce51b631c",
   "metadata": {},
   "outputs": [],
   "source": [
    "import math"
   ]
  },
  {
   "cell_type": "code",
   "execution_count": 40,
   "id": "462da489-5170-47ff-b73c-13985f6008cc",
   "metadata": {},
   "outputs": [
    {
     "name": "stdout",
     "output_type": "stream",
     "text": [
      "0.9871796626270701\n"
     ]
    }
   ],
   "source": [
    "r=sum((np_array_1-38.5)*(np_array_2-302.5))/math.sqrt(sum((np_array_1-38.5)**2)*sum((np_array_2-302.5)**2))\n",
    "print(r)"
   ]
  },
  {
   "cell_type": "markdown",
   "id": "9f330714-fa42-47cb-918d-5ec4a7f064bf",
   "metadata": {},
   "source": [
    "### Comparison to np.corrcoef()"
   ]
  },
  {
   "cell_type": "code",
   "execution_count": 25,
   "id": "bab07b67-3465-46d9-a8d4-7d87457b493f",
   "metadata": {},
   "outputs": [
    {
     "name": "stdout",
     "output_type": "stream",
     "text": [
      "[[1.         0.98717966]\n",
      " [0.98717966 1.        ]]\n"
     ]
    }
   ],
   "source": [
    "print(np.corrcoef(np_array_1, np_array_2))\n",
    "\n",
    "# Results in both 5.3 and 5.3.1 are the same for up to 8 decimal places."
   ]
  }
 ],
 "metadata": {
  "kernelspec": {
   "display_name": "Python 3 (ipykernel)",
   "language": "python",
   "name": "python3"
  },
  "language_info": {
   "codemirror_mode": {
    "name": "ipython",
    "version": 3
   },
   "file_extension": ".py",
   "mimetype": "text/x-python",
   "name": "python",
   "nbconvert_exporter": "python",
   "pygments_lexer": "ipython3",
   "version": "3.12.2"
  },
  "toc": {
   "base_numbering": 1,
   "nav_menu": {},
   "number_sections": true,
   "sideBar": true,
   "skip_h1_title": false,
   "title_cell": "Table of Contents",
   "title_sidebar": "Contents",
   "toc_cell": false,
   "toc_position": {},
   "toc_section_display": true,
   "toc_window_display": false
  },
  "vscode": {
   "interpreter": {
    "hash": "31f2aee4e71d21fbe5cf8b01ff0e069b9275f58929596ceb00d14d90e3e16cd6"
   }
  }
 },
 "nbformat": 4,
 "nbformat_minor": 5
}
