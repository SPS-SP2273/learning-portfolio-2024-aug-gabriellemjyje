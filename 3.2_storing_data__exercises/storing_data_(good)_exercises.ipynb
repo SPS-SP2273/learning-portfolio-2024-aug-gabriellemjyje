{
 "cells": [
  {
   "attachments": {},
   "cell_type": "markdown",
   "id": "123456",
   "metadata": {},
   "source": [
    "<div style=\"text-align:left;font-size:2em\"><span style=\"font-weight:bolder;font-size:1.25em\">SP2273 | Learning Portfolio</span><br><br><span style=\"font-weight:bold;color:darkred\">Storing Data (Good) Exercises</span></div>"
   ]
  },
  {
   "cell_type": "markdown",
   "id": "d8c05b25-b196-4a78-bbd2-47a8eb31928f",
   "metadata": {},
   "source": [
    "# Exercise 1 (Recalling terms)"
   ]
  },
  {
   "cell_type": "markdown",
   "id": "d9cca2a0-7db3-4906-86c4-9d83184e6165",
   "metadata": {},
   "source": [
    "|Term|Brief description|\n",
    "|:---|:--:|\n",
    "|Subsetting||\n",
    "|Indexing||\n",
    "|Slicing||\n",
    "|Masking||"
   ]
  },
  {
   "cell_type": "markdown",
   "id": "9cbb0e6d-1b4e-4296-bb13-eaddeea3747f",
   "metadata": {},
   "source": [
    "# Exercise 2 (Subsetting 'odd' letters)"
   ]
  },
  {
   "cell_type": "markdown",
   "id": "998adf09-af2a-44da-8dab-14a5d2988937",
   "metadata": {},
   "source": [
    "# Exercise 3 (Using NumPy masking)"
   ]
  },
  {
   "cell_type": "code",
   "execution_count": null,
   "id": "8cc4cf3a-f71d-40ea-8c83-7e95c427e241",
   "metadata": {},
   "outputs": [],
   "source": []
  }
 ],
 "metadata": {
  "kernelspec": {
   "display_name": "Python 3 (ipykernel)",
   "language": "python",
   "name": "python3"
  },
  "language_info": {
   "codemirror_mode": {
    "name": "ipython",
    "version": 3
   },
   "file_extension": ".py",
   "mimetype": "text/x-python",
   "name": "python",
   "nbconvert_exporter": "python",
   "pygments_lexer": "ipython3",
   "version": "3.12.2"
  },
  "toc": {
   "base_numbering": 1,
   "nav_menu": {},
   "number_sections": true,
   "sideBar": true,
   "skip_h1_title": false,
   "title_cell": "Table of Contents",
   "title_sidebar": "Contents",
   "toc_cell": false,
   "toc_position": {},
   "toc_section_display": true,
   "toc_window_display": false
  },
  "vscode": {
   "interpreter": {
    "hash": "31f2aee4e71d21fbe5cf8b01ff0e069b9275f58929596ceb00d14d90e3e16cd6"
   }
  }
 },
 "nbformat": 4,
 "nbformat_minor": 5
}
