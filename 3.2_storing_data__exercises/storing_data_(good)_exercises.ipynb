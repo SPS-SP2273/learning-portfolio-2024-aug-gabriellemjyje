{
 "cells": [
  {
   "attachments": {},
   "cell_type": "markdown",
   "id": "123456",
   "metadata": {},
   "source": [
    "<div style=\"text-align:left;font-size:2em\"><span style=\"font-weight:bolder;font-size:1.25em\">SP2273 | Learning Portfolio</span><br><br><span style=\"font-weight:bold;color:darkred\">Storing Data (Good) Exercises</span></div>"
   ]
  },
  {
   "cell_type": "markdown",
   "id": "d8c05b25-b196-4a78-bbd2-47a8eb31928f",
   "metadata": {},
   "source": [
    "# Exercise 1 (Recalling terms)"
   ]
  },
  {
   "cell_type": "markdown",
   "id": "d9cca2a0-7db3-4906-86c4-9d83184e6165",
   "metadata": {},
   "source": [
    "|Term|Brief description|\n",
    "|:---|:--:|\n",
    "|Subsetting|It means to select.|\n",
    "|Indexing|It means to select a single element.|\n",
    "|Slicing|It means to select a range of elements.|\n",
    "|Masking|*It means to select a subset to be shown from an array.*|"
   ]
  },
  {
   "cell_type": "markdown",
   "id": "9cbb0e6d-1b4e-4296-bb13-eaddeea3747f",
   "metadata": {},
   "source": [
    "# Exercise 2 (Subsetting 'odd' letters)"
   ]
  },
  {
   "cell_type": "code",
   "execution_count": 9,
   "id": "d2d1ba7b-9968-4e71-adfd-c83298af5795",
   "metadata": {},
   "outputs": [],
   "source": [
    "import numpy as np"
   ]
  },
  {
   "cell_type": "code",
   "execution_count": 19,
   "id": "26132c52-6f51-42a9-868a-df7561043e7f",
   "metadata": {},
   "outputs": [
    {
     "data": {
      "text/plain": [
       "array(['1', '3', '2', '4', '5', '7', '6', '8', '10', '9'], dtype='<U21')"
      ]
     },
     "execution_count": 19,
     "metadata": {},
     "output_type": "execute_result"
    }
   ],
   "source": [
    "np_array_2d = np.array([[1, \"A\"], [3, \"C\"], [2, \"B\"], [4, \"D\"],\n",
    "                        [5, \"E\"], [7, \"G\"], [6, \"F\"], [8, \"H\"],\n",
    "                        [10, \"J\"], [9, \"I\"]])\n",
    "np_array_2d[0:10,0]"
   ]
  },
  {
   "cell_type": "code",
   "execution_count": 20,
   "id": "2f3b83dc-0632-4e6a-becf-a969ca12ec38",
   "metadata": {},
   "outputs": [
    {
     "data": {
      "text/plain": [
       "array([ 1,  3,  2,  4,  5,  7,  6,  8, 10,  9])"
      ]
     },
     "execution_count": 20,
     "metadata": {},
     "output_type": "execute_result"
    }
   ],
   "source": [
    "np_array = np.array(['1', '3', '2', '4', '5', '7', '6', '8', '10', '9'], dtype='<U21')\n",
    "np_array.astype(int)"
   ]
  },
  {
   "cell_type": "code",
   "execution_count": 14,
   "id": "0eac85ac-0ff9-4a44-877d-05b3042af772",
   "metadata": {},
   "outputs": [
    {
     "data": {
      "text/plain": [
       "array([1, 1, 0, 0, 1, 1, 0, 0, 0, 1])"
      ]
     },
     "execution_count": 14,
     "metadata": {},
     "output_type": "execute_result"
    }
   ],
   "source": [
    "np_array = np.array([ 1,  3,  2,  4,  5,  7,  6,  8, 10,  9])\n",
    "np_array%2"
   ]
  },
  {
   "cell_type": "code",
   "execution_count": 21,
   "id": "f9b8fd6e-0fe5-46c3-a82c-82c9432ba1e3",
   "metadata": {},
   "outputs": [
    {
     "data": {
      "text/plain": [
       "array([ True,  True, False, False,  True,  True, False, False, False,\n",
       "        True])"
      ]
     },
     "execution_count": 21,
     "metadata": {},
     "output_type": "execute_result"
    }
   ],
   "source": [
    "np_array = np.array([1, 1, 0, 0, 1, 1, 0, 0, 0, 1])\n",
    "my_mask = np_array > 0\n",
    "my_mask"
   ]
  },
  {
   "cell_type": "code",
   "execution_count": 23,
   "id": "94d8728a-bcb9-4539-a951-c6c9fab71373",
   "metadata": {},
   "outputs": [
    {
     "ename": "IndexError",
     "evalue": "too many indices for array: array is 1-dimensional, but 2 were indexed",
     "output_type": "error",
     "traceback": [
      "\u001b[0;31m---------------------------------------------------------------------------\u001b[0m",
      "\u001b[0;31mIndexError\u001b[0m                                Traceback (most recent call last)",
      "Cell \u001b[0;32mIn[23], line 1\u001b[0m\n\u001b[0;32m----> 1\u001b[0m \u001b[43mnp_array\u001b[49m\u001b[43m[\u001b[49m\u001b[43m:\u001b[49m\u001b[43m,\u001b[49m\u001b[43m \u001b[49m\u001b[38;5;241;43m1\u001b[39;49m\u001b[43m]\u001b[49m\n",
      "\u001b[0;31mIndexError\u001b[0m: too many indices for array: array is 1-dimensional, but 2 were indexed"
     ]
    }
   ],
   "source": [
    "np_array_2d[:, 1]"
   ]
  },
  {
   "cell_type": "markdown",
   "id": "998adf09-af2a-44da-8dab-14a5d2988937",
   "metadata": {},
   "source": [
    "# Exercise 3 (Using NumPy masking)"
   ]
  },
  {
   "cell_type": "code",
   "execution_count": 13,
   "id": "8cc4cf3a-f71d-40ea-8c83-7e95c427e241",
   "metadata": {},
   "outputs": [],
   "source": [
    "py_list_2d = [[66, 50, 57, -1, -1], [92, -1, 88, -1, -1], [75, -1, -1, 76, -1], [-1, 51, 87, -1, -1], [71, -1, 67, -1, 69]]\n",
    "np_array_2d = np.array(py_list_2d)"
   ]
  },
  {
   "cell_type": "markdown",
   "id": "f1e25c96-46a7-41f2-a031-b60909aac8d6",
   "metadata": {},
   "source": [
    "## Changing values below 50 to -1"
   ]
  },
  {
   "cell_type": "code",
   "execution_count": 7,
   "id": "fe990cad-58db-4ff3-89ba-8942694fa724",
   "metadata": {},
   "outputs": [
    {
     "data": {
      "text/plain": [
       "array([-1, -1, -1, -1, -1, -1, -1, -1, -1, -1, -1, -1, -1])"
      ]
     },
     "execution_count": 7,
     "metadata": {},
     "output_type": "execute_result"
    }
   ],
   "source": [
    "my_mask = np_array_2d < 50\n",
    "np_array_2d[my_mask] = -1\n",
    "np_array_2d[my_mask] "
   ]
  },
  {
   "cell_type": "markdown",
   "id": "363bf576-de84-4a1b-9754-36c0c44c3d16",
   "metadata": {},
   "source": [
    "## Changing values above 50 to +1"
   ]
  },
  {
   "cell_type": "code",
   "execution_count": 8,
   "id": "43c204c8-7c9c-4080-9212-69814b3ae077",
   "metadata": {},
   "outputs": [
    {
     "data": {
      "text/plain": [
       "array([1, 1, 1, 1, 1, 1, 1, 1, 1, 1, 1])"
      ]
     },
     "execution_count": 8,
     "metadata": {},
     "output_type": "execute_result"
    }
   ],
   "source": [
    "my_mask = np_array_2d > 50\n",
    "np_array_2d[my_mask] = 1\n",
    "np_array_2d[my_mask] "
   ]
  },
  {
   "cell_type": "markdown",
   "id": "788221ae-5194-4678-ab7d-1c1352685b7e",
   "metadata": {},
   "source": [
    "## Changing values equal to 50 to 0"
   ]
  },
  {
   "cell_type": "code",
   "execution_count": null,
   "id": "305a7735-9ee1-4faa-bf1d-4892c2b524a7",
   "metadata": {},
   "outputs": [],
   "source": []
  },
  {
   "cell_type": "code",
   "execution_count": null,
   "id": "276fc926-b66e-4803-83a6-611987dc9cdf",
   "metadata": {},
   "outputs": [],
   "source": []
  }
 ],
 "metadata": {
  "kernelspec": {
   "display_name": "Python 3 (ipykernel)",
   "language": "python",
   "name": "python3"
  },
  "language_info": {
   "codemirror_mode": {
    "name": "ipython",
    "version": 3
   },
   "file_extension": ".py",
   "mimetype": "text/x-python",
   "name": "python",
   "nbconvert_exporter": "python",
   "pygments_lexer": "ipython3",
   "version": "3.12.2"
  },
  "toc": {
   "base_numbering": 1,
   "nav_menu": {},
   "number_sections": true,
   "sideBar": true,
   "skip_h1_title": false,
   "title_cell": "Table of Contents",
   "title_sidebar": "Contents",
   "toc_cell": false,
   "toc_position": {},
   "toc_section_display": true,
   "toc_window_display": false
  },
  "vscode": {
   "interpreter": {
    "hash": "31f2aee4e71d21fbe5cf8b01ff0e069b9275f58929596ceb00d14d90e3e16cd6"
   }
  }
 },
 "nbformat": 4,
 "nbformat_minor": 5
}
