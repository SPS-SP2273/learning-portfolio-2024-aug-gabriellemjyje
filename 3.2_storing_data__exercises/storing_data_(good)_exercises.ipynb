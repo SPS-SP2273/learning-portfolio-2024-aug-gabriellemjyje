{
 "cells": [
  {
   "attachments": {},
   "cell_type": "markdown",
   "id": "123456",
   "metadata": {},
   "source": [
    "<div style=\"text-align:left;font-size:2em\"><span style=\"font-weight:bolder;font-size:1.25em\">SP2273 | Learning Portfolio</span><br><br><span style=\"font-weight:bold;color:darkred\">Storing Data (Good) Exercises</span></div>"
   ]
  },
  {
   "cell_type": "markdown",
   "id": "d8c05b25-b196-4a78-bbd2-47a8eb31928f",
   "metadata": {},
   "source": [
    "# Exercise 1 (Recalling terms)"
   ]
  },
  {
   "cell_type": "markdown",
   "id": "d9cca2a0-7db3-4906-86c4-9d83184e6165",
   "metadata": {},
   "source": [
    "|Term|Brief description|\n",
    "|:---|:--:|\n",
    "|Subsetting|It means to select.|\n",
    "|Indexing|It means to select a single element.|\n",
    "|Slicing|It means to select a range of elements.|\n",
    "|Masking||"
   ]
  },
  {
   "cell_type": "markdown",
   "id": "9cbb0e6d-1b4e-4296-bb13-eaddeea3747f",
   "metadata": {},
   "source": [
    "# Exercise 2 (Subsetting 'odd' letters)"
   ]
  },
  {
   "cell_type": "code",
   "execution_count": 2,
   "id": "d2d1ba7b-9968-4e71-adfd-c83298af5795",
   "metadata": {},
   "outputs": [],
   "source": [
    "import numpy as np"
   ]
  },
  {
   "cell_type": "code",
   "execution_count": 9,
   "id": "26132c52-6f51-42a9-868a-df7561043e7f",
   "metadata": {},
   "outputs": [
    {
     "data": {
      "text/plain": [
       "array(['1', '3', '2', '4', '5', '7', '6', '8', '10', '9'], dtype='<U21')"
      ]
     },
     "execution_count": 9,
     "metadata": {},
     "output_type": "execute_result"
    }
   ],
   "source": [
    "np_array_2d = np.array([[1, \"A\"], [3, \"C\"], [2, \"B\"], [4, \"D\"],\n",
    "                        [5, \"E\"], [7, \"G\"], [6, \"F\"], [8, \"H\"],\n",
    "                        [10, \"J\"], [9, \"I\"]])\n",
    "np_array_2d[0:10,0]\n",
    "\n",
    "# how to get rid of back part"
   ]
  },
  {
   "cell_type": "code",
   "execution_count": 19,
   "id": "2f3b83dc-0632-4e6a-becf-a969ca12ec38",
   "metadata": {},
   "outputs": [
    {
     "data": {
      "text/plain": [
       "array([ 1,  3,  2,  4,  5,  7,  6,  8, 10,  9])"
      ]
     },
     "execution_count": 19,
     "metadata": {},
     "output_type": "execute_result"
    }
   ],
   "source": [
    "np_array = np.array(['1', '3', '2', '4', '5', '7', '6', '8', '10', '9'], dtype='<U21')\n",
    "np_array.astype(int)"
   ]
  },
  {
   "cell_type": "code",
   "execution_count": 20,
   "id": "0eac85ac-0ff9-4a44-877d-05b3042af772",
   "metadata": {},
   "outputs": [
    {
     "data": {
      "text/plain": [
       "array([1, 1, 0, 0, 1, 1, 0, 0, 0, 1])"
      ]
     },
     "execution_count": 20,
     "metadata": {},
     "output_type": "execute_result"
    }
   ],
   "source": [
    "np_array = np.array([ 1,  3,  2,  4,  5,  7,  6,  8, 10,  9])\n",
    "np_array%2"
   ]
  },
  {
   "cell_type": "code",
   "execution_count": 7,
   "id": "f9b8fd6e-0fe5-46c3-a82c-82c9432ba1e3",
   "metadata": {},
   "outputs": [
    {
     "data": {
      "text/plain": [
       "array([ True,  True, False, False,  True,  True, False, False, False,\n",
       "        True])"
      ]
     },
     "execution_count": 7,
     "metadata": {},
     "output_type": "execute_result"
    }
   ],
   "source": [
    "np_array = np.array([1, 1, 0, 0, 1, 1, 0, 0, 0, 1])\n",
    "my_mask = np_array > 0\n",
    "my_mask"
   ]
  },
  {
   "cell_type": "code",
   "execution_count": 11,
   "id": "b0c9ff8c-2211-4e62-bbab-2e6bfaf08027",
   "metadata": {},
   "outputs": [
    {
     "data": {
      "text/plain": [
       "array([1, 1, 1, 1, 1])"
      ]
     },
     "execution_count": 11,
     "metadata": {},
     "output_type": "execute_result"
    }
   ],
   "source": [
    "np_array[my_mask]"
   ]
  },
  {
   "cell_type": "markdown",
   "id": "998adf09-af2a-44da-8dab-14a5d2988937",
   "metadata": {},
   "source": [
    "# Exercise 3 (Using NumPy masking)"
   ]
  },
  {
   "cell_type": "code",
   "execution_count": null,
   "id": "8cc4cf3a-f71d-40ea-8c83-7e95c427e241",
   "metadata": {},
   "outputs": [],
   "source": []
  }
 ],
 "metadata": {
  "kernelspec": {
   "display_name": "Python 3 (ipykernel)",
   "language": "python",
   "name": "python3"
  },
  "language_info": {
   "codemirror_mode": {
    "name": "ipython",
    "version": 3
   },
   "file_extension": ".py",
   "mimetype": "text/x-python",
   "name": "python",
   "nbconvert_exporter": "python",
   "pygments_lexer": "ipython3",
   "version": "3.12.2"
  },
  "toc": {
   "base_numbering": 1,
   "nav_menu": {},
   "number_sections": true,
   "sideBar": true,
   "skip_h1_title": false,
   "title_cell": "Table of Contents",
   "title_sidebar": "Contents",
   "toc_cell": false,
   "toc_position": {},
   "toc_section_display": true,
   "toc_window_display": false
  },
  "vscode": {
   "interpreter": {
    "hash": "31f2aee4e71d21fbe5cf8b01ff0e069b9275f58929596ceb00d14d90e3e16cd6"
   }
  }
 },
 "nbformat": 4,
 "nbformat_minor": 5
}
