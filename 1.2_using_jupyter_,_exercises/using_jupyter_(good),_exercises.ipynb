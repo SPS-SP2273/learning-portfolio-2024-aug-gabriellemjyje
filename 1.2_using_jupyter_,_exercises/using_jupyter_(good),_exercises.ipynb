{
 "cells": [
  {
   "attachments": {},
   "cell_type": "markdown",
   "id": "123456",
   "metadata": {},
   "source": [
    "<div style=\"text-align:left;font-size:2em\"><span style=\"font-weight:bolder;font-size:1.25em\">SP2273 | Learning Portfolio</span><br><br><span style=\"font-weight:bold;color:darkred\">Using Jupyter (Good), Exercises</span></div>"
   ]
  },
  {
   "attachments": {},
   "cell_type": "markdown",
   "id": "93907dc2",
   "metadata": {},
   "source": [
    "# Exercise 1 (Learning to interrupt)"
   ]
  },
  {
   "cell_type": "code",
   "execution_count": null,
   "id": "a66fb76d-eef9-4b15-b8a5-ec17dcd4fb07",
   "metadata": {},
   "outputs": [],
   "source": [
    "while True:\n",
    "    print ('*', end='')\n",
    "\n",
    "# Webpage freezes when trying to interrupt kernel"
   ]
  },
  {
   "cell_type": "markdown",
   "id": "8a3fb0ff-234e-4e24-ad9a-c137fb078a49",
   "metadata": {},
   "source": [
    "# Exercise 2 (Resetting & Restarting the Kernel)"
   ]
  },
  {
   "cell_type": "code",
   "execution_count": 2,
   "id": "e3787dc5-8e44-47e5-8817-e78f5f7c9c68",
   "metadata": {},
   "outputs": [],
   "source": [
    "print = 'PRINT'\n",
    "\n",
    "# Causes print() function to not work"
   ]
  },
  {
   "cell_type": "code",
   "execution_count": 1,
   "id": "fe022d25-fe2d-43a9-90af-0f95a3d37dc8",
   "metadata": {},
   "outputs": [
    {
     "name": "stdout",
     "output_type": "stream",
     "text": [
      "Hello World\n"
     ]
    }
   ],
   "source": [
    "print('Hello World')\n",
    "\n",
    "# After restarting kernel"
   ]
  },
  {
   "cell_type": "markdown",
   "id": "c23ea6ef-dc15-4469-9ba5-106d5291caf5",
   "metadata": {},
   "source": [
    "# Exercise 3 (Timing Stuff)"
   ]
  },
  {
   "cell_type": "code",
   "execution_count": 26,
   "id": "aced7f48-d5f7-4ea0-a334-d98751b731ac",
   "metadata": {},
   "outputs": [
    {
     "name": "stdout",
     "output_type": "stream",
     "text": [
      "[0, 1, 4, 9, 16, 25, 36, 49, 64, 81]\n"
     ]
    }
   ],
   "source": [
    "squares = print([i**2 for i in range(10)])\n",
    "\n",
    "# can't do timeit function"
   ]
  },
  {
   "cell_type": "code",
   "execution_count": 22,
   "id": "d939eda8-72e2-410c-90fe-5870261fa721",
   "metadata": {},
   "outputs": [
    {
     "name": "stdout",
     "output_type": "stream",
     "text": [
      "None\n",
      "None\n",
      "None\n",
      "None\n",
      "None\n",
      "None\n",
      "None\n",
      "None\n",
      "None\n",
      "None\n"
     ]
    }
   ],
   "source": [
    "squares = list()\n",
    "for i in range(10):\n",
    "    print(squares.append(i**2))"
   ]
  }
 ],
 "metadata": {
  "kernelspec": {
   "display_name": "Python 3 (ipykernel)",
   "language": "python",
   "name": "python3"
  },
  "language_info": {
   "codemirror_mode": {
    "name": "ipython",
    "version": 3
   },
   "file_extension": ".py",
   "mimetype": "text/x-python",
   "name": "python",
   "nbconvert_exporter": "python",
   "pygments_lexer": "ipython3",
   "version": "3.12.2"
  },
  "toc": {
   "base_numbering": 1,
   "nav_menu": {},
   "number_sections": true,
   "sideBar": true,
   "skip_h1_title": false,
   "title_cell": "Table of Contents",
   "title_sidebar": "Contents",
   "toc_cell": false,
   "toc_position": {},
   "toc_section_display": true,
   "toc_window_display": false
  },
  "vscode": {
   "interpreter": {
    "hash": "31f2aee4e71d21fbe5cf8b01ff0e069b9275f58929596ceb00d14d90e3e16cd6"
   }
  }
 },
 "nbformat": 4,
 "nbformat_minor": 5
}
