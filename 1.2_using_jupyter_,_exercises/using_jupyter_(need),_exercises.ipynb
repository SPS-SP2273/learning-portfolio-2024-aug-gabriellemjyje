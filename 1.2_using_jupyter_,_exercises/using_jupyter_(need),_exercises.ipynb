{
 "cells": [
  {
   "attachments": {},
   "cell_type": "markdown",
   "id": "123456",
   "metadata": {},
   "source": [
    "<div style=\"text-align:left;font-size:2em\"><span style=\"font-weight:bolder;font-size:1.25em\">SP2273 | Learning Portfolio</span><br><br><span style=\"font-weight:bold;color:darkred\">Using Jupyter (Need), Exercises</span></div>"
   ]
  },
  {
   "cell_type": "markdown",
   "id": "fd467ca0-c64a-4c62-814e-48011fa30c79",
   "metadata": {},
   "source": [
    "# Exercise 1"
   ]
  },
  {
   "attachments": {},
   "cell_type": "markdown",
   "id": "1ea0b975",
   "metadata": {},
   "source": [
    "## 1 Quadratic Equations"
   ]
  },
  {
   "attachments": {},
   "cell_type": "markdown",
   "id": "f5d01c28",
   "metadata": {},
   "source": [
    "### Introduction"
   ]
  },
  {
   "cell_type": "markdown",
   "id": "9ec47c67-bab9-4cb7-8705-7f427315dc4e",
   "metadata": {},
   "source": [
    "\n",
    "![](https://upload.wikimedia.org/wikipedia/commons/thumb/f/f8/Polynomialdeg2.svg/600px-Polynomialdeg2.svg.png)\n"
   ]
  },
  {
   "cell_type": "markdown",
   "id": "6dd5217b-5712-4124-a3a5-72ff67f8c725",
   "metadata": {},
   "source": [
    "(*Image from* <u>[*Wikipedia page on Quadratic equations*](https://en.wikipedia.org/wiki/Quadratic_equation)</u>)"
   ]
  },
  {
   "cell_type": "markdown",
   "id": "c48421d0-ee97-45cf-968e-c049aeeb7308",
   "metadata": {},
   "source": [
    "The general form of a quadratic equation is:"
   ]
  },
  {
   "cell_type": "markdown",
   "id": "9af7d5ee-edde-4832-9f43-ff9b4b7191b1",
   "metadata": {},
   "source": [
    "$$\n",
    "ax^2 + bx + c = 0\n",
    "$$"
   ]
  },
  {
   "attachments": {},
   "cell_type": "markdown",
   "id": "1cb2abb6",
   "metadata": {},
   "source": [
    "### Solutions"
   ]
  },
  {
   "cell_type": "markdown",
   "id": "f9a1456d-4360-4b15-914e-ce186c45dfbd",
   "metadata": {},
   "source": [
    "Provided $a \\ne 0$, we can use an elementary algebraic method called <u>[completing the square](https://en.wikipedia.org/wiki/Completing_the_square)</u> to show that a quadratic equation has the following solution:"
   ]
  },
  {
   "cell_type": "markdown",
   "id": "78a28893-9889-42c9-b0a7-6a35be58c4b5",
   "metadata": {},
   "source": [
    "$$\n",
    "x = \\dfrac{-b \\pm \\sqrt{b^2-4ac}}{2a}\n",
    "$$"
   ]
  },
  {
   "attachments": {},
   "cell_type": "markdown",
   "id": "d0b638e8",
   "metadata": {},
   "source": [
    "### Discriminant"
   ]
  },
  {
   "cell_type": "markdown",
   "id": "820f515b-5ffb-48a4-a2ba-af7167ecd429",
   "metadata": {},
   "source": [
    "The quantity $\\Delta = b^2-4ac$ is called the **discriminant** of the equation and decides the nature of its solutions. The table below shows the various possibilities."
   ]
  },
  {
   "cell_type": "markdown",
   "id": "562d77c1-89cd-45a3-ba08-6155c925785f",
   "metadata": {},
   "source": [
    "|      Discriminant       |               Roots                 |\n",
    "|          :--:           |                :---                 |\n",
    "|$\\Delta = b^2-4ac = 0$   | A single solution of $-b/(2a)$      |\n",
    "|$\\Delta = b^2-4ac \\gt 0$ | Two distinct solutions              |\n",
    "|$\\Delta = b^2-4ac \\lt 0$ | No real solutions; both are complex.|"
   ]
  },
  {
   "cell_type": "markdown",
   "id": "a937f352-f34b-48dc-85f1-2a5a6403ff25",
   "metadata": {},
   "source": [
    "# Exercise 2"
   ]
  },
  {
   "cell_type": "markdown",
   "id": "4f5e1bc6-4f86-4a75-ba47-583923bb7257",
   "metadata": {},
   "source": [
    "1. What is a Git **repository**?\n",
    "2. Git keeps track of <u>something</u> in the files in our repository.\n",
    "3. What is a **commit**?\n",
    "4. What is a **push**?\n",
    "5. What is a **pull**?\n",
    "6. What is the difference between **GitHub** and **GitHub Desktop**?"
   ]
  },
  {
   "cell_type": "markdown",
   "id": "d366f8a2-d12c-4d9e-a70d-929629a3beb4",
   "metadata": {},
   "source": [
    "# Exercise 3"
   ]
  },
  {
   "cell_type": "markdown",
   "id": "6f2972cd-d639-4545-a07f-d5d208a9bb92",
   "metadata": {},
   "source": [
    "$$\\mu = \\dfrac{1}{n}\\sum_{i=1}^{n}x_i$$"
   ]
  },
  {
   "cell_type": "markdown",
   "id": "e31ce596-a846-404c-b5eb-df695acd64fc",
   "metadata": {},
   "source": [
    "$$\\sigma = \\sqrt{\\dfrac{1}{n}\\sum_{i=1}^{n}(x_i-\\mu)^2}$$"
   ]
  },
  {
   "cell_type": "markdown",
   "id": "75bba7ec-5e0a-4d18-afa0-816dbd64eb60",
   "metadata": {},
   "source": [
    "$$r = \\dfrac{\\sum_{i=1}^{n}(x_{i}-\\mu_{X})(y_{i}-\\mu_{Y})}{\\sqrt{\\sum_{i=1}^{n}(x_{i}-\\mu_{X})^2\\sum_{i=1}^{n}(y_{i}-\\mu_{Y})^2}}$$"
   ]
  }
 ],
 "metadata": {
  "kernelspec": {
   "display_name": "Python 3 (ipykernel)",
   "language": "python",
   "name": "python3"
  },
  "language_info": {
   "codemirror_mode": {
    "name": "ipython",
    "version": 3
   },
   "file_extension": ".py",
   "mimetype": "text/x-python",
   "name": "python",
   "nbconvert_exporter": "python",
   "pygments_lexer": "ipython3",
   "version": "3.12.4"
  },
  "toc": {
   "base_numbering": 1,
   "nav_menu": {},
   "number_sections": true,
   "sideBar": true,
   "skip_h1_title": false,
   "title_cell": "Table of Contents",
   "title_sidebar": "Contents",
   "toc_cell": false,
   "toc_position": {},
   "toc_section_display": true,
   "toc_window_display": false
  },
  "vscode": {
   "interpreter": {
    "hash": "31f2aee4e71d21fbe5cf8b01ff0e069b9275f58929596ceb00d14d90e3e16cd6"
   }
  }
 },
 "nbformat": 4,
 "nbformat_minor": 5
}
